{
 "cells": [
  {
   "cell_type": "code",
   "execution_count": null,
   "metadata": {},
   "outputs": [],
   "source": [
    "学习笔记：\n",
    "一、\t入门教程\n",
    "首选《A Byte of Python》。\n",
    "理由：\n",
    "1.浅显易懂。\n",
    "2.GITHUB 有源码！！！https://github.com/swaroopch/byte-of-python\n",
    "3.才100多页\n",
    "二、turtle\n",
    "用demo里面的文件名，本机搜索可得源码    \n",
    "三、\tPANDAS:自带丰富DEMO\n",
    "四、\t通过安装anaconda 可安装系列LIB(包括NUMPY,MATPLOTLIB,SCI……..等等; 在anaconda prompt 里面敲入 conda list 可查询所有通过anaconda已经安装的库.\n",
    "https://www.cnblogs.com/xubing-613/p/5895948.html\n",
    "Notepad++ 和Ipython编辑器比较好用！！！关联matplotlib等库\n",
    "Ipython 里面执行语句用shift+enter\n",
    "五、\t注册github:victorliaocs, 密码保密（haha）; 下载安装github本地服务端。CLONE 一个别人的项目。修改该项目。\n",
    "\n",
    "\n"
   ]
  }
 ],
 "metadata": {
  "kernelspec": {
   "display_name": "Python 3",
   "language": "python",
   "name": "python3"
  },
  "language_info": {
   "codemirror_mode": {
    "name": "ipython",
    "version": 3
   },
   "file_extension": ".py",
   "mimetype": "text/x-python",
   "name": "python",
   "nbconvert_exporter": "python",
   "pygments_lexer": "ipython3",
   "version": "3.5.2"
  }
 },
 "nbformat": 4,
 "nbformat_minor": 2
}
