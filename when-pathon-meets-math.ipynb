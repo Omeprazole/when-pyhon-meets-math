{
 "cells": [
  {
   "cell_type": "markdown",
   "metadata": {
    "toc": true
   },
   "source": [
    "<h1>Table of Contents<span class=\"tocSkip\"></span></h1>\n",
    "<div class=\"toc\" style=\"margin-top: 1em;\"><ul class=\"toc-item\"><li><span><a href=\"#前言\" data-toc-modified-id=\"前言-1\">前言</a></span></li><li><span><a href=\"#1-用python学数学环境配置\" data-toc-modified-id=\"1-用python学数学环境配置-2\">1 用python学数学环境配置</a></span><ul class=\"toc-item\"><li><span><a href=\"#1.1安装Anaconda\" data-toc-modified-id=\"1.1安装Anaconda-2.1\">1.1安装Anaconda</a></span></li><li><span><a href=\"#1.2注册Github\" data-toc-modified-id=\"1.2注册Github-2.2\">1.2注册Github</a></span></li><li><span><a href=\"#1.3配置Jupyter-Notebook\" data-toc-modified-id=\"1.3配置Jupyter-Notebook-2.3\">1.3配置Jupyter Notebook</a></span></li><li><span><a href=\"#1.4了解Turtle-基本语句\" data-toc-modified-id=\"1.4了解Turtle-基本语句-2.4\">1.4了解Turtle 基本语句</a></span></li><li><span><a href=\"#1.5了解Matplotlib-基本语句\" data-toc-modified-id=\"1.5了解Matplotlib-基本语句-2.5\">1.5了解Matplotlib 基本语句</a></span></li><li><span><a href=\"#1.6透视python程序\" data-toc-modified-id=\"1.6透视python程序-2.6\">1.6透视python程序</a></span></li><li><span><a href=\"#1.7-Python学习网站推荐\" data-toc-modified-id=\"1.7-Python学习网站推荐-2.7\">1.7 Python学习网站推荐</a></span></li><li><span><a href=\"#2.8-安装sagemath\" data-toc-modified-id=\"2.8-安装sagemath-2.8\">2.8 安装sagemath</a></span></li></ul></li><li><span><a href=\"#2-Python-实例\" data-toc-modified-id=\"2-Python-实例-3\">2 Python 实例</a></span><ul class=\"toc-item\"><li><span><a href=\"#2.1-Use-python-as-a-calculator\" data-toc-modified-id=\"2.1-Use-python-as-a-calculator-3.1\">2.1 Use python as a calculator</a></span></li><li><span><a href=\"#2.2-Turtle绘图专题\" data-toc-modified-id=\"2.2-Turtle绘图专题-3.2\">2.2 Turtle绘图专题</a></span><ul class=\"toc-item\"><li><span><a href=\"#2.2.1-绘制一个正方形\" data-toc-modified-id=\"2.2.1-绘制一个正方形-3.2.1\">2.2.1 绘制一个正方形</a></span></li><li><span><a href=\"#2.2.2-绘制一个正多边形\" data-toc-modified-id=\"2.2.2-绘制一个正多边形-3.2.2\">2.2.2 绘制一个正多边形</a></span></li><li><span><a href=\"#2.2.3-绘制蜂巢\" data-toc-modified-id=\"2.2.3-绘制蜂巢-3.2.3\">2.2.3 绘制蜂巢</a></span></li><li><span><a href=\"#2.2.4-绘制一个圆并涂色\" data-toc-modified-id=\"2.2.4-绘制一个圆并涂色-3.2.4\">2.2.4 绘制一个圆并涂色</a></span></li><li><span><a href=\"#2.2.5-Draw-the-logo-of-Olympic-Games\" data-toc-modified-id=\"2.2.5-Draw-the-logo-of-Olympic-Games-3.2.5\">2.2.5 Draw the logo of Olympic Games</a></span></li><li><span><a href=\"#2.2.6-Draw-Yinyang-of-Taiji\" data-toc-modified-id=\"2.2.6-Draw-Yinyang-of-Taiji-3.2.6\">2.2.6 Draw Yinyang of Taiji</a></span></li><li><span><a href=\"#2.2.7-Draw-a-flower\" data-toc-modified-id=\"2.2.7-Draw-a-flower-3.2.7\">2.2.7 Draw a flower</a></span></li></ul></li><li><span><a href=\"#2.3质数专题\" data-toc-modified-id=\"2.3质数专题-3.3\">2.3质数专题</a></span><ul class=\"toc-item\"><li><span><a href=\"#2.3.1质数判断\" data-toc-modified-id=\"2.3.1质数判断-3.3.1\">2.3.1质数判断</a></span></li><li><span><a href=\"#2.3.2求n以内的所有质数\" data-toc-modified-id=\"2.3.2求n以内的所有质数-3.3.2\">2.3.2求n以内的所有质数</a></span></li><li><span><a href=\"#2.3.3哥德巴赫猜想\" data-toc-modified-id=\"2.3.3哥德巴赫猜想-3.3.3\">2.3.3哥德巴赫猜想</a></span></li><li><span><a href=\"#2.3.4分解质因数\" data-toc-modified-id=\"2.3.4分解质因数-3.3.4\">2.3.4分解质因数</a></span></li></ul></li><li><span><a href=\"#2.4-Matplotlib专题\" data-toc-modified-id=\"2.4-Matplotlib专题-3.4\">2.4 Matplotlib专题</a></span><ul class=\"toc-item\"><li><span><a href=\"#2.4.1-绘制正弦余弦函数图像\" data-toc-modified-id=\"2.4.1-绘制正弦余弦函数图像-3.4.1\">2.4.1 绘制正弦余弦函数图像</a></span></li><li><span><a href=\"#2.4.2-饼状图\" data-toc-modified-id=\"2.4.2-饼状图-3.4.2\">2.4.2 饼状图</a></span></li><li><span><a href=\"#2.4.3-散点图\" data-toc-modified-id=\"2.4.3-散点图-3.4.3\">2.4.3 散点图</a></span></li><li><span><a href=\"#2.4.4-条形图\" data-toc-modified-id=\"2.4.4-条形图-3.4.4\">2.4.4 条形图</a></span></li><li><span><a href=\"#2.4.5等高线图\" data-toc-modified-id=\"2.4.5等高线图-3.4.5\">2.4.5等高线图</a></span></li></ul></li><li><span><a href=\"#2.5-Sagemath专题\" data-toc-modified-id=\"2.5-Sagemath专题-3.5\">2.5 Sagemath专题</a></span></li><li><span><a href=\"#2.6-Spider-project-1----collecting-pictures\" data-toc-modified-id=\"2.6-Spider-project-1----collecting-pictures-3.6\">2.6 Spider project 1----collecting pictures</a></span></li><li><span><a href=\"#2.7-乘法口诀表\" data-toc-modified-id=\"2.7-乘法口诀表-3.7\">2.7 乘法口诀表</a></span></li><li><span><a href=\"#2.8-阶乘与求和\" data-toc-modified-id=\"2.8-阶乘与求和-3.8\">2.8 阶乘与求和</a></span></li><li><span><a href=\"#2.9-猜数字游戏\" data-toc-modified-id=\"2.9-猜数字游戏-3.9\">2.9 猜数字游戏</a></span></li><li><span><a href=\"#2.10排列\" data-toc-modified-id=\"2.10排列-3.10\">2.10排列</a></span></li><li><span><a href=\"#2.11-斐波那契数列\" data-toc-modified-id=\"2.11-斐波那契数列-3.11\">2.11 斐波那契数列</a></span></li><li><span><a href=\"#2.12-三阶幻方\" data-toc-modified-id=\"2.12-三阶幻方-3.12\">2.12 三阶幻方</a></span></li></ul></li></ul></div>"
   ]
  },
  {
   "cell_type": "markdown",
   "metadata": {},
   "source": [
    "# 前言"
   ]
  },
  {
   "cell_type": "markdown",
   "metadata": {},
   "source": [
    "本书致力于帮助grade 3 至 grade 12 的学生，培养他们学习python和数学的兴趣。\n",
    "\n",
    "该书由玮希国际学校廖曙光老师和苹果总部高级工程师刘宇琦先生合作编写，面向全球免费发行。\n",
    "\n",
    "欢迎大家免费使用并传播，传播时请保留本书前言部分！！！\n",
    "\n"
   ]
  },
  {
   "cell_type": "markdown",
   "metadata": {},
   "source": [
    "# 1 用python学数学环境配置\n",
    "\n",
    "WES课程讲义链接！！！\n",
    "https://github.com/victorliaocs/when-pyhon-meets-math/blob/master/when-pathon-meets-math.ipynb\n",
    "\n",
    "## 1.1安装Anaconda\n",
    "\n",
    "\n"
   ]
  },
  {
   "cell_type": "markdown",
   "metadata": {
    "collapsed": true
   },
   "source": [
    "下载Anaconda，下载地址：\n",
    "https://www.anaconda.com/download/#windows\n",
    "\n",
    "    \n",
    "在线编辑器推荐：\n",
    "1. http://www.skulpt.org/\n",
    "\n",
    "2. https://wood.codemao.cn/\n",
    "\n",
    "3. http://www.dooccn.com/python3/\n",
    "\n",
    "4.  \n",
    "\n"
   ]
  },
  {
   "cell_type": "markdown",
   "metadata": {},
   "source": [
    "## 1.2注册Github\n"
   ]
  },
  {
   "cell_type": "markdown",
   "metadata": {
    "collapsed": true
   },
   "source": [
    "注册地址：https://github.com/"
   ]
  },
  {
   "cell_type": "markdown",
   "metadata": {},
   "source": [
    "## 1.3配置Jupyter Notebook\n"
   ]
  },
  {
   "cell_type": "markdown",
   "metadata": {
    "collapsed": true
   },
   "source": [
    "导航插件配置：https://www.cnblogs.com/shuaishuai-it/p/7170343.html"
   ]
  },
  {
   "cell_type": "markdown",
   "metadata": {},
   "source": [
    "##  1.4了解Turtle 基本语句\n",
    "\n",
    "https://docs.python.org/3.3/library/turtle.html\n",
    "\n",
    "https://www.cnblogs.com/nowgood/p/turtle.html#_nav_0\n"
   ]
  },
  {
   "cell_type": "markdown",
   "metadata": {},
   "source": [
    "##  1.5了解Matplotlib 基本语句\n",
    "\n",
    "\n",
    "https://matplotlib.org/\n",
    "\n",
    "http://blog.csdn.net/u011497262/article/details/52325705 #matplotlib 教程\n",
    "\n",
    "http://blog.csdn.net/wizardforcel/article/details/54407212"
   ]
  },
  {
   "cell_type": "markdown",
   "metadata": {},
   "source": [
    "##  1.6透视python程序\n",
    "\n",
    "http://pythontutor.com/visualize.html#mode=edit\n"
   ]
  },
  {
   "cell_type": "markdown",
   "metadata": {},
   "source": [
    "##  1.7 Python学习网站推荐\n",
    "\n",
    "http://www.runoob.com/python3/python3-tutorial.html\n",
    "\n",
    "https://www.liaoxuefeng.com/wiki/0014316089557264a6b348958f449949df42a6d3a2e542c000\n",
    "\n",
    "https://python.swaroopch.com/control_flow.html\n",
    "\n",
    "https://github.com/vinta/awesome-python\n",
    "\n",
    "https://github.com/swaroopch/byte-of-python/tree/master/programs\n",
    "\n",
    "http://blog.jobbole.com/46308/  游戏\n",
    "\n",
    "http://blog.csdn.net/buptlrw/article/details/41924849 游戏\n",
    "\n",
    "https://github.com/zhangweizhi/python100 100例子\n",
    "\n",
    "https://edu.csdn.net/course/detail/5690 游戏开发"
   ]
  },
  {
   "cell_type": "markdown",
   "metadata": {},
   "source": [
    "## 2.8 安装sagemath"
   ]
  },
  {
   "cell_type": "markdown",
   "metadata": {},
   "source": [
    "官网：www.sagemath.org\n",
    "\n",
    "\n",
    "下载地址：https://pan.baidu.com/s/1ggDmBeF\n",
    "    "
   ]
  },
  {
   "cell_type": "markdown",
   "metadata": {},
   "source": [
    "# 2 Python 实例 "
   ]
  },
  {
   "cell_type": "markdown",
   "metadata": {},
   "source": [
    "## 2.1 Use python as a calculator"
   ]
  },
  {
   "cell_type": "code",
   "execution_count": 1,
   "metadata": {},
   "outputs": [
    {
     "data": {
      "text/plain": [
       "3"
      ]
     },
     "execution_count": 1,
     "metadata": {},
     "output_type": "execute_result"
    }
   ],
   "source": [
    "1+2\n"
   ]
  },
  {
   "cell_type": "code",
   "execution_count": 4,
   "metadata": {},
   "outputs": [
    {
     "data": {
      "text/plain": [
       "120113"
      ]
     },
     "execution_count": 4,
     "metadata": {},
     "output_type": "execute_result"
    }
   ],
   "source": [
    "121324-1211\n"
   ]
  },
  {
   "cell_type": "code",
   "execution_count": 5,
   "metadata": {},
   "outputs": [
    {
     "data": {
      "text/plain": [
       "258369"
      ]
     },
     "execution_count": 5,
     "metadata": {},
     "output_type": "execute_result"
    }
   ],
   "source": [
    "1213*213"
   ]
  },
  {
   "cell_type": "code",
   "execution_count": 2,
   "metadata": {
    "scrolled": true
   },
   "outputs": [
    {
     "data": {
      "text/plain": [
       "0.8888888888888888"
      ]
     },
     "execution_count": 2,
     "metadata": {},
     "output_type": "execute_result"
    }
   ],
   "source": [
    "8/9"
   ]
  },
  {
   "cell_type": "markdown",
   "metadata": {
    "collapsed": true
   },
   "source": [
    "## 2.2 Turtle绘图专题"
   ]
  },
  {
   "cell_type": "markdown",
   "metadata": {},
   "source": [
    "Turtle graphics is a popular way for introducing programming to kids. It was part of the original Logo programming language developed by Wally Feurzig and Seymour Papert in 1966.\n",
    "\n",
    "Imagine a robotic turtle starting at (0, 0) in the x-y plane. After an import turtle, give it the command turtle.forward(15), and it moves (on-screen!) 15 pixels in the direction it is facing, drawing a line as it moves. Give it the command turtle.right(25), and it rotates in-place 25 degrees clockwise.\n",
    "\n",
    "By combining together these and similar commands, intricate shapes and pictures can easily be drawn.\n",
    "\n",
    "The turtle module is an extended reimplementation of the same-named module from the Python standard distribution up to version Python 2.5.\n",
    "\n",
    "It tries to keep the merits of the old turtle module and to be (nearly) 100% compatible with it. This means in the first place to enable the learning programmer to use all the commands, classes and methods interactively when using the module from within IDLE run with the -n switch.\n",
    "\n",
    "The turtle module provides turtle graphics primitives, in both object-oriented and procedure-oriented ways. Because it uses Tkinter for the underlying graphics, it needs a version of Python installed with Tk support.\n",
    "\n",
    "The object-oriented interface uses essentially two+two classes:\n",
    "\n",
    "The TurtleScreen class defines graphics windows as a playground for the drawing turtles. Its constructor needs a Tkinter.Canvas or a ScrolledCanvas as argument. It should be used when turtle is used as part of some application.\n",
    "\n",
    "The function Screen() returns a singleton object of a TurtleScreen subclass. This function should be used when turtle is used as a standalone tool for doing graphics. As a singleton object, inheriting from its class is not possible.\n",
    "\n",
    "All methods of TurtleScreen/Screen also exist as functions, i.e. as part of the procedure-oriented interface.\n",
    "\n",
    "RawTurtle (alias: RawPen) defines Turtle objects which draw on a TurtleScreen. Its constructor needs a Canvas, ScrolledCanvas or TurtleScreen as argument, so the RawTurtle objects know where to draw.\n",
    "\n",
    "Derived from RawTurtle is the subclass Turtle (alias: Pen), which draws on “the” Screen - instance which is automatically created, if not already present.\n",
    "\n",
    "All methods of RawTurtle/Turtle also exist as functions, i.e. part of the procedure-oriented interface.\n",
    "\n",
    "The procedural interface provides functions which are derived from the methods of the classes Screen and Turtle. They have the same names as the corresponding methods. A screen object is automatically created whenever a function derived from a Screen method is called. An (unnamed) turtle object is automatically created whenever any of the functions derived from a Turtle method is called.\n",
    "\n",
    "To use multiple turtles an a screen one has to use the object-oriented interface."
   ]
  },
  {
   "cell_type": "markdown",
   "metadata": {},
   "source": [
    "###  2.2.1 绘制一个正方形"
   ]
  },
  {
   "cell_type": "code",
   "execution_count": 25,
   "metadata": {
    "collapsed": true
   },
   "outputs": [],
   "source": [
    "#绘制一条线段\n",
    "import turtle\n",
    "turtle.pencolor(\"red\")\n",
    "turtle.pensize(10)\n",
    "turtle.goto(-100,-100)\n",
    "turtle.hideturtle() #隐藏笔头\n",
    "turtle.exitonclick()  "
   ]
  },
  {
   "cell_type": "code",
   "execution_count": 2,
   "metadata": {},
   "outputs": [
    {
     "name": "stdout",
     "output_type": "stream",
     "text": [
      "欢迎来到源码世界！\n"
     ]
    }
   ],
   "source": [
    "#for 编程猫\n",
    "import turtle\n",
    "t = turtle.Pen()\n",
    "turtle.bgcolor(\"black\")\n",
    "t.pencolor(\"red\")\n",
    "t.pensize(10)\n",
    "for i in range(4):    #确定边的数量\n",
    "    t.forward(50)  #确定边的长度\n",
    "    t.left(90)   #改变角度大小\n",
    "print(\"欢迎来到源码世界！\")\n"
   ]
  },
  {
   "cell_type": "code",
   "execution_count": 18,
   "metadata": {
    "collapsed": true
   },
   "outputs": [],
   "source": [
    "import turtle\n",
    "turtle.penup()  #抬笔\n",
    "turtle.goto(-100, -100) # 确定起点\n",
    "turtle.pendown()  #落笔\n",
    "turtle.pencolor(\"green\")   #确定笔的颜色\n",
    "turtle.pensize(10)  #确定笔的大小\n",
    "turtle.speed(1)\n",
    "for i in range(4):    #确定边的数量\n",
    "    turtle.forward(200)  #确定边的长度\n",
    "    turtle.left(90)   #改变角度大小\n",
    "turtle.hideturtle() #隐藏笔头\n",
    "\n",
    "turtle.penup()  #抬笔\n",
    "turtle.goto(-150, -150) # 确定起点\n",
    "turtle.pendown()  #落笔\n",
    "turtle.pencolor(\"red\")   #确定笔的颜色\n",
    "turtle.pensize(10)  #确定笔的大小\n",
    "turtle.speed(1)\n",
    "for i in range(4):    #确定边的数量\n",
    "    turtle.forward(300)  #确定边的长度\n",
    "    turtle.left(90)   #改变角度大小\n",
    "turtle.hideturtle() #隐藏笔头\n",
    "\n",
    "turtle.exitonclick()  #退出\n"
   ]
  },
  {
   "cell_type": "markdown",
   "metadata": {},
   "source": [
    "###  2.2.2 绘制一个正多边形"
   ]
  },
  {
   "cell_type": "code",
   "execution_count": 1,
   "metadata": {
    "collapsed": true
   },
   "outputs": [],
   "source": [
    "import turtle\n",
    "turtle.penup()  #抬笔\n",
    "turtle.goto(-100, -100) # 确定起点\n",
    "turtle.pendown()  #落笔\n",
    "turtle.pencolor(\"green\")   #确定笔的颜色\n",
    "turtle.pensize(10)  #确定笔的大小\n",
    "turtle.speed(1)\n",
    "for i in range(6):    #确定边的数量\n",
    "    turtle.forward(200)  #确定边的长度\n",
    "    turtle.left(60)   #改变角度大小\n",
    "turtle.hideturtle() #隐藏笔头\n",
    "turtle.exitonclick()  #退出"
   ]
  },
  {
   "cell_type": "markdown",
   "metadata": {
    "collapsed": true
   },
   "source": [
    "###  2.2.3 绘制蜂巢"
   ]
  },
  {
   "cell_type": "markdown",
   "metadata": {},
   "source": [
    "http://www.ipaomi.com/2017/11/22/python-零基础-快速入门-趣味教程-咪博士-海龟绘图-turtle-5-参/"
   ]
  },
  {
   "cell_type": "code",
   "execution_count": 5,
   "metadata": {
    "collapsed": true
   },
   "outputs": [],
   "source": [
    "import turtle\n",
    "turtle.pencolor(\"green\")   #确定笔的颜色\n",
    "turtle.pensize(10)  #确定笔的大小\n",
    "turtle.speed(1)\n",
    " \n",
    "def hexagon(size):\n",
    "  for i in range(6):\n",
    "      turtle.forward(size)\n",
    "      turtle.left(60)\n",
    " \n",
    "def honeycomb(size):\n",
    "    for i in range (6):\n",
    "        hexagon(size)\n",
    "        turtle.forward(size)\n",
    "        turtle.right(60)\n",
    " \n",
    "honeycomb(80)\n",
    " \n",
    "turtle.exitonclick()"
   ]
  },
  {
   "cell_type": "markdown",
   "metadata": {},
   "source": [
    "### 2.2.4 绘制一个圆并涂色"
   ]
  },
  {
   "cell_type": "code",
   "execution_count": null,
   "metadata": {
    "collapsed": true
   },
   "outputs": [],
   "source": [
    "# for 编程猫\n",
    "import turtle\n",
    "t = turtle.Pen()\n",
    "turtle.bgcolor(\"black\")\n",
    "t.pencolor(\"red\")\n",
    "t.pensize(1)\n",
    "for i in range(360):    #确定边的数量\n",
    "    t.forward(1)  #确定边的长度\n",
    "    t.left(1)   #改变角度大小\n",
    "print(\"欢迎来到源码世界！\")"
   ]
  },
  {
   "cell_type": "code",
   "execution_count": 16,
   "metadata": {
    "collapsed": true
   },
   "outputs": [],
   "source": [
    "import turtle\n",
    "turtle.penup()\n",
    "turtle.goto(-100, -100)\n",
    "turtle.pendown()\n",
    "turtle.color(\"red\", \"green\") #确定笔的颜色和填充色\n",
    "turtle.pensize(50)\n",
    "turtle.begin_fill()\n",
    "turtle.circle(100)\n",
    "turtle.end_fill()\n",
    "turtle.exitonclick()\n"
   ]
  },
  {
   "cell_type": "markdown",
   "metadata": {
    "collapsed": true
   },
   "source": [
    "### 2.2.5 Draw the logo of Olympic Games"
   ]
  },
  {
   "cell_type": "code",
   "execution_count": 1,
   "metadata": {
    "collapsed": true
   },
   "outputs": [],
   "source": [
    "import turtle\n",
    "turtle.penup()\n",
    "turtle.goto(-100, 50)\n",
    "turtle.pendown()\n",
    "turtle.pencolor(\"blue\") #确定笔的颜色和填充色\n",
    "turtle.pensize(7)\n",
    "turtle.circle(40)\n",
    "\n",
    "turtle.penup()\n",
    "turtle.goto(0, 50)\n",
    "turtle.pendown()\n",
    "turtle.pencolor(\"black\") #确定笔的颜色和填充色\n",
    "turtle.pensize(7)\n",
    "turtle.circle(40)\n",
    "\n",
    "turtle.penup()\n",
    "turtle.goto(100, 50)\n",
    "turtle.pendown()\n",
    "turtle.pencolor(\"red\") #确定笔的颜色和填充色\n",
    "turtle.pensize(7)\n",
    "turtle.circle(40)\n",
    "\n",
    "turtle.penup()\n",
    "turtle.goto(-50, 10)\n",
    "turtle.pendown()\n",
    "turtle.pencolor(\"yellow\") #确定笔的颜色和填充色\n",
    "turtle.pensize(7)\n",
    "turtle.circle(40)\n",
    "\n",
    "turtle.penup()\n",
    "turtle.goto(50, 10)\n",
    "turtle.pendown()\n",
    "turtle.pencolor(\"green\") #确定笔的颜色和填充色\n",
    "turtle.pensize(7)\n",
    "turtle.circle(40)\n",
    "\n",
    "turtle.exitonclick()\n"
   ]
  },
  {
   "cell_type": "code",
   "execution_count": null,
   "metadata": {
    "collapsed": true
   },
   "outputs": [],
   "source": [
    "import turtle\n",
    "\n",
    "def main():\n",
    "    turtle.setup(0.99,0.99,0,0)\n",
    "    p = turtle.Turtle()#画笔\n",
    "    p.hideturtle()\n",
    "    p.pensize(5)#设置画笔粗细\n",
    "    p.color(\"blue\")#设置画笔颜色及填充颜色\n",
    "    p.penup()#将画笔抬起\n",
    "    p.goto(-110, -25)  # 初始位置以中心坐标为(0,0)\n",
    "    p.pendown()\n",
    "    p.circle(45)  # 绘制圆的半径\n",
    "    p.color(\"black\")\n",
    "    p.penup()\n",
    "    p.goto(0, -25)\n",
    "    p.pendown()\n",
    "    p.circle(45)\n",
    "    p.color(\"red\")\n",
    "    p.penup()\n",
    "    p.goto(110, -25)\n",
    "    p.pendown()\n",
    "    p.circle(45)\n",
    "    p.color(\"yellow\")\n",
    "    p.penup()\n",
    "    p.goto(-55, -75)\n",
    "    p.pendown()\n",
    "    p.circle(45)\n",
    "    p.color(\"green\")\n",
    "    p.penup()\n",
    "    p.goto(55, -75)\n",
    "    p.pendown()\n",
    "    p.circle(45)\n",
    "    turtle.done()\n",
    "\n",
    "\n",
    "\n",
    "if __name__ == \"__main__\":\n",
    "    main()## 2.2 Draw the logo of Olympic Games"
   ]
  },
  {
   "cell_type": "markdown",
   "metadata": {},
   "source": [
    "### 2.2.6 Draw Yinyang of Taiji"
   ]
  },
  {
   "cell_type": "code",
   "execution_count": 7,
   "metadata": {
    "collapsed": true
   },
   "outputs": [],
   "source": [
    "#!/usr/bin/env python3\n",
    "\"\"\"       turtle-example-suite:\n",
    "\n",
    "            tdemo_yinyang.py\n",
    "\n",
    "Another drawing suitable as a beginner's\n",
    "programming example.\n",
    "\n",
    "The small circles are drawn by the circle\n",
    "command.\n",
    "\n",
    "\"\"\"\n",
    "\n",
    "from turtle import *\n",
    "\n",
    "def yin(radius, color1, color2):\n",
    "    width(3)\n",
    "    color(\"black\", color1)\n",
    "    begin_fill()\n",
    "    circle(radius/2., 180)\n",
    "    circle(radius, 180)\n",
    "    left(180)\n",
    "    circle(-radius/2., 180)\n",
    "    end_fill()\n",
    "    left(90)\n",
    "    up()\n",
    "    forward(radius*0.35)\n",
    "    right(90)\n",
    "    down()\n",
    "    color(color1, color2)\n",
    "    begin_fill()\n",
    "    circle(radius*0.15)\n",
    "    end_fill()\n",
    "    left(90)\n",
    "    up()\n",
    "    backward(radius*0.35)\n",
    "    down()\n",
    "    left(90)\n",
    "\n",
    "def main():\n",
    "    reset()\n",
    "    yin(200, \"black\", \"white\")\n",
    "    yin(200, \"white\", \"black\")\n",
    "    ht()\n",
    "    return \"Done!\"\n",
    "\n",
    "if __name__ == '__main__':\n",
    "    main()\n",
    "    mainloop()\n"
   ]
  },
  {
   "cell_type": "markdown",
   "metadata": {},
   "source": [
    "### 2.2.7 Draw a flower"
   ]
  },
  {
   "cell_type": "code",
   "execution_count": null,
   "metadata": {
    "collapsed": true
   },
   "outputs": [],
   "source": [
    "from turtle import *\n",
    "color('red', 'yellow')\n",
    "begin_fill()\n",
    "while True:\n",
    "    forward(200)\n",
    "    left(170)\n",
    "    if abs(pos()) < 1:\n",
    "        break\n",
    "end_fill()\n",
    "done()"
   ]
  },
  {
   "cell_type": "markdown",
   "metadata": {},
   "source": []
  },
  {
   "cell_type": "markdown",
   "metadata": {},
   "source": [
    "## 2.3质数专题"
   ]
  },
  {
   "cell_type": "markdown",
   "metadata": {
    "collapsed": true
   },
   "source": [
    "\n",
    "质数定义为在大于1的自然数中，除了1和它本身以外不再有其他因数。\n",
    "\n",
    "质数（prime number）又称素数，有无限个。\n"
   ]
  },
  {
   "cell_type": "markdown",
   "metadata": {},
   "source": [
    "### 2.3.1质数判断"
   ]
  },
  {
   "cell_type": "code",
   "execution_count": 9,
   "metadata": {},
   "outputs": [
    {
     "name": "stdout",
     "output_type": "stream",
     "text": [
      "please enter the number：8\n",
      " 8 is not a prime number！\n"
     ]
    }
   ],
   "source": [
    "n = int(input(\"please enter the number：\"))\n",
    "for i in range(2, n):\n",
    "    if n % i == 0:\n",
    "        print(\" %d is not a prime number！\" % n)\n",
    "        break\n",
    "else:\n",
    "    print(\" %d is a prime number！\" % n)\n"
   ]
  },
  {
   "cell_type": "markdown",
   "metadata": {},
   "source": [
    "### 2.3.2求n以内的所有质数"
   ]
  },
  {
   "cell_type": "code",
   "execution_count": 1,
   "metadata": {},
   "outputs": [
    {
     "name": "stdout",
     "output_type": "stream",
     "text": [
      "[2, 3, 5, 7]\n"
     ]
    }
   ],
   "source": [
    "#!/usr/bin/python\n",
    "# -*- coding: UTF-8 -*-\n",
    " \n",
    "num=[];\n",
    "i=2\n",
    "for i in range(2,10):\n",
    "   j=2\n",
    "   for j in range(2,i):\n",
    "      if(i%j==0):\n",
    "         break\n",
    "   else:\n",
    "      num.append(i)\n",
    "print(num)"
   ]
  },
  {
   "cell_type": "markdown",
   "metadata": {},
   "source": [
    "### 2.3.3哥德巴赫猜想"
   ]
  },
  {
   "cell_type": "code",
   "execution_count": 1,
   "metadata": {},
   "outputs": [
    {
     "name": "stdout",
     "output_type": "stream",
     "text": [
      "输入大于6的偶数100\n",
      "3+97=100\n",
      "11+89=100\n",
      "17+83=100\n",
      "29+71=100\n",
      "41+59=100\n",
      "47+53=100\n"
     ]
    }
   ],
   "source": [
    "#哥德巴赫猜想\n",
    "def ISprime(n): #素数的函数\n",
    "    i=2\n",
    "    while i<=n:\n",
    "        if n%i==0:\n",
    "            break\n",
    "        i+=1\n",
    "    if i==n:\n",
    "        return True\n",
    "B=input('输入大于6的偶数')\n",
    "B=int(B)\n",
    "if B%2==0:\n",
    "    i=1\n",
    "    while i<=B:\n",
    "        j=B-i\n",
    "        if ISprime(i):\n",
    "            if ISprime(j) and i<=j:#i<=j是为了防止重复\n",
    "                print('%d+%d=%d'%(i,j,B))\n",
    "        i+=1\n",
    "else:\n",
    "    print('no even')"
   ]
  },
  {
   "cell_type": "markdown",
   "metadata": {
    "collapsed": true
   },
   "source": [
    "### 2.3.4分解质因数"
   ]
  },
  {
   "cell_type": "code",
   "execution_count": 2,
   "metadata": {},
   "outputs": [
    {
     "name": "stdout",
     "output_type": "stream",
     "text": [
      "请输入一个正整数：\n",
      "11212121212\n",
      "2\n",
      "2\n",
      "229\n",
      "269\n",
      "45503\n"
     ]
    }
   ],
   "source": [
    "import math\n",
    "\n",
    "print(\"请输入一个正整数：\")\n",
    "n = int(input())\n",
    "if n <= 0:\n",
    "    print(\"请输入正整数\")\n",
    "i=2\n",
    "if n!=1:\n",
    "    while i!=n:\n",
    "        if n % i == 0:\n",
    "            print(i)\n",
    "            n = n // i\n",
    "        else:\n",
    "            i+=1\n",
    "    print(i)\n",
    "else:\n",
    "    print(n)"
   ]
  },
  {
   "cell_type": "markdown",
   "metadata": {},
   "source": [
    "## 2.4 Matplotlib专题"
   ]
  },
  {
   "cell_type": "markdown",
   "metadata": {},
   "source": [
    "Matplotlib 是一个 Python 的 2D绘图库，它以各种硬拷贝格式和跨平台的交互式环境生成“出版质量级别”的图形。\n",
    "通过 Matplotlib，开发者可以仅需要几行代码，便可以生成绘图，直方图，功率谱，条形图，错误图，散点图等。"
   ]
  },
  {
   "cell_type": "markdown",
   "metadata": {},
   "source": [
    "### 2.4.1 绘制正弦余弦函数图像"
   ]
  },
  {
   "cell_type": "code",
   "execution_count": 27,
   "metadata": {
    "scrolled": true
   },
   "outputs": [
    {
     "data": {
      "image/png": "[encoded data removed]",
      "text/plain": [
       "<matplotlib.figure.Figure at 0x264a99299b0>"
      ]
     },
     "metadata": {},
     "output_type": "display_data"
    }
   ],
   "source": [
    "from pylab import *\n",
    "\n",
    "X = np.linspace(-np.pi, np.pi, 256,endpoint=True)\n",
    "C,S = np.cos(X), np.sin(X)\n",
    "\n",
    "plot(X,C)\n",
    "plot(X,S)\n",
    "\n",
    "show()"
   ]
  },
  {
   "cell_type": "code",
   "execution_count": 4,
   "metadata": {},
   "outputs": [
    {
     "data": {
      "image/png": "[encoded data removed]",
      "text/plain": [
       "<matplotlib.figure.Figure at 0x14c2ae938d0>"
      ]
     },
     "metadata": {},
     "output_type": "display_data"
    }
   ],
   "source": [
    "# 导入 matplotlib 的所有内容（nympy 可以用 np 这个名字来使用）\n",
    "from pylab import *\n",
    "\n",
    "# 创建一个 8 * 6 点（point）的图，并设置分辨率为 80\n",
    "figure(figsize=(8,6), dpi=80)\n",
    "\n",
    "# 创建一个新的 1 * 1 的子图，接下来的图样绘制在其中的第 1 块（也是唯一的一块）\n",
    "subplot(1,1,1)\n",
    "\n",
    "X = np.linspace(-np.pi, np.pi, 256,endpoint=True)\n",
    "C,S = np.cos(X), np.sin(X)\n",
    "\n",
    "# 绘制余弦曲线，使用蓝色的、连续的、宽度为 1 （像素）的线条\n",
    "plot(X, C, color=\"blue\", linewidth=1.0, linestyle=\"-\")\n",
    "\n",
    "# 绘制正弦曲线，使用绿色的、连续的、宽度为 1 （像素）的线条\n",
    "plot(X, S, color=\"green\", linewidth=5.0, linestyle=\"-\")\n",
    "\n",
    "# 设置横轴的上下限\n",
    "xlim(-4.0,4.0)\n",
    "\n",
    "# 设置横轴记号\n",
    "xticks(np.linspace(-4,4,9,endpoint=True))\n",
    "\n",
    "# 设置纵轴的上下限\n",
    "ylim(-1.2,1.2)\n",
    "\n",
    "# 设置纵轴记号\n",
    "yticks(np.linspace(-1,1,5,endpoint=True))\n",
    "\n",
    "# 以分辨率 72 来保存图片\n",
    "savefig(\"exercice_2.png\",dpi=72)\n",
    "\n",
    "# 在屏幕上显示\n",
    "show()"
   ]
  },
  {
   "cell_type": "markdown",
   "metadata": {
    "collapsed": true
   },
   "source": [
    "### 2.4.2 饼状图\n"
   ]
  },
  {
   "cell_type": "code",
   "execution_count": 12,
   "metadata": {},
   "outputs": [
    {
     "data": {
      "image/png": "[encoded data removed]",
      "text/plain": [
       "<matplotlib.figure.Figure at 0x264fbb37860>"
      ]
     },
     "metadata": {},
     "output_type": "display_data"
    }
   ],
   "source": [
    "import matplotlib.pyplot as plt\n",
    "labels='frogs','hogs','dogs','logs'\n",
    "sizes=15,20,45,10\n",
    "colors='yellowgreen','gold','lightskyblue','lightcoral'\n",
    "explode=0,0.1,0,0.1\n",
    "plt.pie(sizes,explode=explode,labels=labels,colors=colors,autopct='%1.1f%%',shadow=True,startangle=40)\n",
    "plt.axis('equal')\n",
    "plt.show()"
   ]
  },
  {
   "cell_type": "markdown",
   "metadata": {},
   "source": [
    "### 2.4.3 散点图"
   ]
  },
  {
   "cell_type": "code",
   "execution_count": 6,
   "metadata": {},
   "outputs": [
    {
     "data": {
      "image/png": "[encoded data removed]",
      "text/plain": [
       "<matplotlib.figure.Figure at 0x14c2a7b1be0>"
      ]
     },
     "metadata": {},
     "output_type": "display_data"
    }
   ],
   "source": [
    "from pylab import *\n",
    "\n",
    "n = 100\n",
    "X = np.random.normal(0,1,n)\n",
    "Y = np.random.normal(0,1,n)\n",
    "\n",
    "scatter(X,Y)\n",
    "show()"
   ]
  },
  {
   "cell_type": "markdown",
   "metadata": {},
   "source": [
    "### 2.4.4 条形图"
   ]
  },
  {
   "cell_type": "code",
   "execution_count": 7,
   "metadata": {},
   "outputs": [
    {
     "data": {
      "image/png": "[encoded data removed]",
      "text/plain": [
       "<matplotlib.figure.Figure at 0x14c2a7deb70>"
      ]
     },
     "metadata": {},
     "output_type": "display_data"
    }
   ],
   "source": [
    "from pylab import *\n",
    "\n",
    "n = 12\n",
    "X = np.arange(n)\n",
    "Y1 = (1-X/float(n)) * np.random.uniform(0.5,1.0,n)\n",
    "Y2 = (1-X/float(n)) * np.random.uniform(0.5,1.0,n)\n",
    "\n",
    "bar(X, +Y1, facecolor='#9999ff', edgecolor='white')\n",
    "bar(X, -Y2, facecolor='#ff9999', edgecolor='white')\n",
    "\n",
    "for x,y in zip(X,Y1):\n",
    "    text(x+0.4, y+0.05, '%.2f' % y, ha='center', va= 'bottom')\n",
    "\n",
    "ylim(-1.25,+1.25)\n",
    "show()"
   ]
  },
  {
   "cell_type": "code",
   "execution_count": null,
   "metadata": {
    "collapsed": true
   },
   "outputs": [],
   "source": []
  },
  {
   "cell_type": "code",
   "execution_count": 5,
   "metadata": {},
   "outputs": [
    {
     "data": {
      "image/png": "[encoded data removed]",
      "text/plain": [
       "<matplotlib.figure.Figure at 0x1d2850d37b8>"
      ]
     },
     "metadata": {},
     "output_type": "display_data"
    }
   ],
   "source": [
    "from mpl_toolkits.mplot3d import axes3d\n",
    "import matplotlib.pyplot as plt\n",
    "import numpy as np\n",
    "from matplotlib import style\n",
    "style.use('ggplot')\n",
    "\n",
    "fig = plt.figure()\n",
    "ax1 = fig.add_subplot(111, projection='3d')\n",
    "\n",
    "x3 = [1,2,3,4,5,6,7,8,9,10]\n",
    "y3 = [5,6,7,8,2,5,6,3,7,2]\n",
    "z3 = np.zeros(10)\n",
    "\n",
    "dx = np.ones(10)\n",
    "dy = np.ones(10)\n",
    "dz = [1,2,3,4,5,6,7,8,9,10]\n",
    "\n",
    "ax1.bar3d(x3, y3, z3, dx, dy, dz)\n",
    "\n",
    "\n",
    "ax1.set_xlabel('x axis')\n",
    "ax1.set_ylabel('y axis')\n",
    "ax1.set_zlabel('z axis')\n",
    "\n",
    "plt.show()"
   ]
  },
  {
   "cell_type": "markdown",
   "metadata": {},
   "source": [
    "### 2.4.5等高线图"
   ]
  },
  {
   "cell_type": "code",
   "execution_count": 1,
   "metadata": {},
   "outputs": [
    {
     "name": "stderr",
     "output_type": "stream",
     "text": [
      "C:\\ProgramData\\Anaconda3\\lib\\site-packages\\matplotlib\\contour.py:967: UserWarning: The following kwargs were not used by contour: 'linewidth'\n",
      "  s)\n"
     ]
    },
    {
     "data": {
      "image/png": "[encoded data removed]",
      "text/plain": [
       "<matplotlib.figure.Figure at 0x1d284f267f0>"
      ]
     },
     "metadata": {},
     "output_type": "display_data"
    }
   ],
   "source": [
    "from pylab import *\n",
    "\n",
    "def f(x,y): return (1-x/2+x**5+y**3)*np.exp(-x**2-y**2)\n",
    "\n",
    "n = 256\n",
    "x = np.linspace(-3,3,n)\n",
    "y = np.linspace(-3,3,n)\n",
    "X,Y = np.meshgrid(x,y)\n",
    "\n",
    "contourf(X, Y, f(X,Y), 8, alpha=.75, cmap='jet')\n",
    "C = contour(X, Y, f(X,Y), 8, colors='black', linewidth=.5)\n",
    "show()"
   ]
  },
  {
   "cell_type": "code",
   "execution_count": null,
   "metadata": {
    "collapsed": true
   },
   "outputs": [],
   "source": []
  },
  {
   "cell_type": "code",
   "execution_count": 4,
   "metadata": {},
   "outputs": [
    {
     "data": {
      "image/png": "[encoded data removed]",
      "text/plain": [
       "<matplotlib.figure.Figure at 0x1d28453deb8>"
      ]
     },
     "metadata": {},
     "output_type": "display_data"
    }
   ],
   "source": [
    "from pylab import *\n",
    "from mpl_toolkits.mplot3d import Axes3D\n",
    "\n",
    "fig = figure()\n",
    "ax = Axes3D(fig)\n",
    "X = np.arange(-4, 4, 0.25)\n",
    "Y = np.arange(-4, 4, 0.25)\n",
    "X, Y = np.meshgrid(X, Y)\n",
    "R = np.sqrt(X**2 + Y**2)\n",
    "Z = np.sin(R)\n",
    "\n",
    "ax.plot_surface(X, Y, Z, rstride=1, cstride=1, cmap='hot')\n",
    "\n",
    "show()"
   ]
  },
  {
   "cell_type": "code",
   "execution_count": null,
   "metadata": {
    "collapsed": true
   },
   "outputs": [],
   "source": []
  },
  {
   "cell_type": "code",
   "execution_count": null,
   "metadata": {
    "collapsed": true
   },
   "outputs": [],
   "source": []
  },
  {
   "cell_type": "markdown",
   "metadata": {},
   "source": [
    "## 2.5 Sagemath专题"
   ]
  },
  {
   "cell_type": "markdown",
   "metadata": {},
   "source": [
    "1. 2D绘图：http://doc.sagemath.org/html/en/reference/plotting/sage/plot/plot.html\n",
    "\n",
    "3.\n"
   ]
  },
  {
   "cell_type": "code",
   "execution_count": 6,
   "metadata": {},
   "outputs": [
    {
     "ename": "Terminator",
     "evalue": "",
     "output_type": "error",
     "traceback": [
      "\u001b[1;31m---------------------------------------------------------------------------\u001b[0m",
      "\u001b[1;31mTerminator\u001b[0m                                Traceback (most recent call last)",
      "\u001b[1;32m<ipython-input-6-d05acc17dafe>\u001b[0m in \u001b[0;36m<module>\u001b[1;34m()\u001b[0m\n\u001b[0;32m     54\u001b[0m \u001b[1;33m\u001b[0m\u001b[0m\n\u001b[0;32m     55\u001b[0m \u001b[1;32mif\u001b[0m \u001b[0m__name__\u001b[0m \u001b[1;33m==\u001b[0m \u001b[1;34m\"__main__\"\u001b[0m\u001b[1;33m:\u001b[0m\u001b[1;33m\u001b[0m\u001b[0m\n\u001b[1;32m---> 56\u001b[1;33m     \u001b[0mmsg\u001b[0m \u001b[1;33m=\u001b[0m \u001b[0mmain\u001b[0m\u001b[1;33m(\u001b[0m\u001b[1;33m)\u001b[0m\u001b[1;33m\u001b[0m\u001b[0m\n\u001b[0m\u001b[0;32m     57\u001b[0m     \u001b[0mprint\u001b[0m\u001b[1;33m(\u001b[0m\u001b[0mmsg\u001b[0m\u001b[1;33m)\u001b[0m\u001b[1;33m\u001b[0m\u001b[0m\n\u001b[0;32m     58\u001b[0m     \u001b[0mmainloop\u001b[0m\u001b[1;33m(\u001b[0m\u001b[1;33m)\u001b[0m\u001b[1;33m\u001b[0m\u001b[0m\n",
      "\u001b[1;32m<ipython-input-6-d05acc17dafe>\u001b[0m in \u001b[0;36mmain\u001b[1;34m()\u001b[0m\n\u001b[0;32m     41\u001b[0m     \u001b[0mscreen\u001b[0m\u001b[1;33m.\u001b[0m\u001b[0msetworldcoordinates\u001b[0m\u001b[1;33m(\u001b[0m\u001b[1;33m-\u001b[0m\u001b[1;36m1\u001b[0m\u001b[1;33m,\u001b[0m \u001b[1;33m-\u001b[0m\u001b[1;36m0.3\u001b[0m\u001b[1;33m,\u001b[0m \u001b[1;36m3\u001b[0m\u001b[1;33m,\u001b[0m \u001b[1;36m1.3\u001b[0m\u001b[1;33m)\u001b[0m\u001b[1;33m\u001b[0m\u001b[0m\n\u001b[0;32m     42\u001b[0m \u001b[1;33m\u001b[0m\u001b[0m\n\u001b[1;32m---> 43\u001b[1;33m     \u001b[0mred\u001b[0m \u001b[1;33m=\u001b[0m \u001b[0mColorTurtle\u001b[0m\u001b[1;33m(\u001b[0m\u001b[1;36m0\u001b[0m\u001b[1;33m,\u001b[0m \u001b[1;36m.5\u001b[0m\u001b[1;33m)\u001b[0m\u001b[1;33m\u001b[0m\u001b[0m\n\u001b[0m\u001b[0;32m     44\u001b[0m     \u001b[0mgreen\u001b[0m \u001b[1;33m=\u001b[0m \u001b[0mColorTurtle\u001b[0m\u001b[1;33m(\u001b[0m\u001b[1;36m1\u001b[0m\u001b[1;33m,\u001b[0m \u001b[1;36m.5\u001b[0m\u001b[1;33m)\u001b[0m\u001b[1;33m\u001b[0m\u001b[0m\n\u001b[0;32m     45\u001b[0m     \u001b[0mblue\u001b[0m \u001b[1;33m=\u001b[0m \u001b[0mColorTurtle\u001b[0m\u001b[1;33m(\u001b[0m\u001b[1;36m2\u001b[0m\u001b[1;33m,\u001b[0m \u001b[1;36m.5\u001b[0m\u001b[1;33m)\u001b[0m\u001b[1;33m\u001b[0m\u001b[0m\n",
      "\u001b[1;32m<ipython-input-6-d05acc17dafe>\u001b[0m in \u001b[0;36m__init__\u001b[1;34m(self, x, y)\u001b[0m\n\u001b[0;32m      6\u001b[0m \u001b[1;33m\u001b[0m\u001b[0m\n\u001b[0;32m      7\u001b[0m     \u001b[1;32mdef\u001b[0m \u001b[0m__init__\u001b[0m\u001b[1;33m(\u001b[0m\u001b[0mself\u001b[0m\u001b[1;33m,\u001b[0m \u001b[0mx\u001b[0m\u001b[1;33m,\u001b[0m \u001b[0my\u001b[0m\u001b[1;33m)\u001b[0m\u001b[1;33m:\u001b[0m\u001b[1;33m\u001b[0m\u001b[0m\n\u001b[1;32m----> 8\u001b[1;33m         \u001b[0mTurtle\u001b[0m\u001b[1;33m.\u001b[0m\u001b[0m__init__\u001b[0m\u001b[1;33m(\u001b[0m\u001b[0mself\u001b[0m\u001b[1;33m)\u001b[0m\u001b[1;33m\u001b[0m\u001b[0m\n\u001b[0m\u001b[0;32m      9\u001b[0m         \u001b[0mself\u001b[0m\u001b[1;33m.\u001b[0m\u001b[0mshape\u001b[0m\u001b[1;33m(\u001b[0m\u001b[1;34m\"turtle\"\u001b[0m\u001b[1;33m)\u001b[0m\u001b[1;33m\u001b[0m\u001b[0m\n\u001b[0;32m     10\u001b[0m         \u001b[0mself\u001b[0m\u001b[1;33m.\u001b[0m\u001b[0mresizemode\u001b[0m\u001b[1;33m(\u001b[0m\u001b[1;34m\"user\"\u001b[0m\u001b[1;33m)\u001b[0m\u001b[1;33m\u001b[0m\u001b[0m\n",
      "\u001b[1;32mC:\\ProgramData\\Anaconda3\\lib\\turtle.py\u001b[0m in \u001b[0;36m__init__\u001b[1;34m(self, shape, undobuffersize, visible)\u001b[0m\n\u001b[0;32m   3814\u001b[0m                            \u001b[0mshape\u001b[0m\u001b[1;33m=\u001b[0m\u001b[0mshape\u001b[0m\u001b[1;33m,\u001b[0m\u001b[1;33m\u001b[0m\u001b[0m\n\u001b[0;32m   3815\u001b[0m                            \u001b[0mundobuffersize\u001b[0m\u001b[1;33m=\u001b[0m\u001b[0mundobuffersize\u001b[0m\u001b[1;33m,\u001b[0m\u001b[1;33m\u001b[0m\u001b[0m\n\u001b[1;32m-> 3816\u001b[1;33m                            visible=visible)\n\u001b[0m\u001b[0;32m   3817\u001b[0m \u001b[1;33m\u001b[0m\u001b[0m\n\u001b[0;32m   3818\u001b[0m \u001b[0mPen\u001b[0m \u001b[1;33m=\u001b[0m \u001b[0mTurtle\u001b[0m\u001b[1;33m\u001b[0m\u001b[0m\n",
      "\u001b[1;32mC:\\ProgramData\\Anaconda3\\lib\\turtle.py\u001b[0m in \u001b[0;36m__init__\u001b[1;34m(self, canvas, shape, undobuffersize, visible)\u001b[0m\n\u001b[0;32m   2555\u001b[0m         \u001b[0mself\u001b[0m\u001b[1;33m.\u001b[0m\u001b[0m_undobuffersize\u001b[0m \u001b[1;33m=\u001b[0m \u001b[0mundobuffersize\u001b[0m\u001b[1;33m\u001b[0m\u001b[0m\n\u001b[0;32m   2556\u001b[0m         \u001b[0mself\u001b[0m\u001b[1;33m.\u001b[0m\u001b[0mundobuffer\u001b[0m \u001b[1;33m=\u001b[0m \u001b[0mTbuffer\u001b[0m\u001b[1;33m(\u001b[0m\u001b[0mundobuffersize\u001b[0m\u001b[1;33m)\u001b[0m\u001b[1;33m\u001b[0m\u001b[0m\n\u001b[1;32m-> 2557\u001b[1;33m         \u001b[0mself\u001b[0m\u001b[1;33m.\u001b[0m\u001b[0m_update\u001b[0m\u001b[1;33m(\u001b[0m\u001b[1;33m)\u001b[0m\u001b[1;33m\u001b[0m\u001b[0m\n\u001b[0m\u001b[0;32m   2558\u001b[0m \u001b[1;33m\u001b[0m\u001b[0m\n\u001b[0;32m   2559\u001b[0m     \u001b[1;32mdef\u001b[0m \u001b[0mreset\u001b[0m\u001b[1;33m(\u001b[0m\u001b[0mself\u001b[0m\u001b[1;33m)\u001b[0m\u001b[1;33m:\u001b[0m\u001b[1;33m\u001b[0m\u001b[0m\n",
      "\u001b[1;32mC:\\ProgramData\\Anaconda3\\lib\\turtle.py\u001b[0m in \u001b[0;36m_update\u001b[1;34m(self)\u001b[0m\n\u001b[0;32m   2658\u001b[0m             \u001b[1;32mreturn\u001b[0m\u001b[1;33m\u001b[0m\u001b[0m\n\u001b[0;32m   2659\u001b[0m         \u001b[1;32melif\u001b[0m \u001b[0mscreen\u001b[0m\u001b[1;33m.\u001b[0m\u001b[0m_tracing\u001b[0m \u001b[1;33m==\u001b[0m \u001b[1;36m1\u001b[0m\u001b[1;33m:\u001b[0m\u001b[1;33m\u001b[0m\u001b[0m\n\u001b[1;32m-> 2660\u001b[1;33m             \u001b[0mself\u001b[0m\u001b[1;33m.\u001b[0m\u001b[0m_update_data\u001b[0m\u001b[1;33m(\u001b[0m\u001b[1;33m)\u001b[0m\u001b[1;33m\u001b[0m\u001b[0m\n\u001b[0m\u001b[0;32m   2661\u001b[0m             \u001b[0mself\u001b[0m\u001b[1;33m.\u001b[0m\u001b[0m_drawturtle\u001b[0m\u001b[1;33m(\u001b[0m\u001b[1;33m)\u001b[0m\u001b[1;33m\u001b[0m\u001b[0m\n\u001b[0;32m   2662\u001b[0m             \u001b[0mscreen\u001b[0m\u001b[1;33m.\u001b[0m\u001b[0m_update\u001b[0m\u001b[1;33m(\u001b[0m\u001b[1;33m)\u001b[0m                  \u001b[1;31m# TurtleScreenBase\u001b[0m\u001b[1;33m\u001b[0m\u001b[0m\n",
      "\u001b[1;32mC:\\ProgramData\\Anaconda3\\lib\\turtle.py\u001b[0m in \u001b[0;36m_update_data\u001b[1;34m(self)\u001b[0m\n\u001b[0;32m   2644\u001b[0m \u001b[1;33m\u001b[0m\u001b[0m\n\u001b[0;32m   2645\u001b[0m     \u001b[1;32mdef\u001b[0m \u001b[0m_update_data\u001b[0m\u001b[1;33m(\u001b[0m\u001b[0mself\u001b[0m\u001b[1;33m)\u001b[0m\u001b[1;33m:\u001b[0m\u001b[1;33m\u001b[0m\u001b[0m\n\u001b[1;32m-> 2646\u001b[1;33m         \u001b[0mself\u001b[0m\u001b[1;33m.\u001b[0m\u001b[0mscreen\u001b[0m\u001b[1;33m.\u001b[0m\u001b[0m_incrementudc\u001b[0m\u001b[1;33m(\u001b[0m\u001b[1;33m)\u001b[0m\u001b[1;33m\u001b[0m\u001b[0m\n\u001b[0m\u001b[0;32m   2647\u001b[0m         \u001b[1;32mif\u001b[0m \u001b[0mself\u001b[0m\u001b[1;33m.\u001b[0m\u001b[0mscreen\u001b[0m\u001b[1;33m.\u001b[0m\u001b[0m_updatecounter\u001b[0m \u001b[1;33m!=\u001b[0m \u001b[1;36m0\u001b[0m\u001b[1;33m:\u001b[0m\u001b[1;33m\u001b[0m\u001b[0m\n\u001b[0;32m   2648\u001b[0m             \u001b[1;32mreturn\u001b[0m\u001b[1;33m\u001b[0m\u001b[0m\n",
      "\u001b[1;32mC:\\ProgramData\\Anaconda3\\lib\\turtle.py\u001b[0m in \u001b[0;36m_incrementudc\u001b[1;34m(self)\u001b[0m\n\u001b[0;32m   1290\u001b[0m         \u001b[1;32mif\u001b[0m \u001b[1;32mnot\u001b[0m \u001b[0mTurtleScreen\u001b[0m\u001b[1;33m.\u001b[0m\u001b[0m_RUNNING\u001b[0m\u001b[1;33m:\u001b[0m\u001b[1;33m\u001b[0m\u001b[0m\n\u001b[0;32m   1291\u001b[0m             \u001b[0mTurtleScreen\u001b[0m\u001b[1;33m.\u001b[0m\u001b[0m_RUNNING\u001b[0m \u001b[1;33m=\u001b[0m \u001b[1;32mTrue\u001b[0m\u001b[1;33m\u001b[0m\u001b[0m\n\u001b[1;32m-> 1292\u001b[1;33m             \u001b[1;32mraise\u001b[0m \u001b[0mTerminator\u001b[0m\u001b[1;33m\u001b[0m\u001b[0m\n\u001b[0m\u001b[0;32m   1293\u001b[0m         \u001b[1;32mif\u001b[0m \u001b[0mself\u001b[0m\u001b[1;33m.\u001b[0m\u001b[0m_tracing\u001b[0m \u001b[1;33m>\u001b[0m \u001b[1;36m0\u001b[0m\u001b[1;33m:\u001b[0m\u001b[1;33m\u001b[0m\u001b[0m\n\u001b[0;32m   1294\u001b[0m             \u001b[0mself\u001b[0m\u001b[1;33m.\u001b[0m\u001b[0m_updatecounter\u001b[0m \u001b[1;33m+=\u001b[0m \u001b[1;36m1\u001b[0m\u001b[1;33m\u001b[0m\u001b[0m\n",
      "\u001b[1;31mTerminator\u001b[0m: "
     ]
    }
   ],
   "source": [
    "# colormixer\n",
    "\n",
    "from turtle import Screen, Turtle, mainloop\n",
    "\n",
    "class ColorTurtle(Turtle):\n",
    "\n",
    "    def __init__(self, x, y):\n",
    "        Turtle.__init__(self)\n",
    "        self.shape(\"turtle\")\n",
    "        self.resizemode(\"user\")\n",
    "        self.shapesize(3,3,5)\n",
    "        self.pensize(10)\n",
    "        self._color = [0,0,0]\n",
    "        self.x = x\n",
    "        self._color[x] = y\n",
    "        self.color(self._color)\n",
    "        self.speed(0)\n",
    "        self.left(90)\n",
    "        self.pu()\n",
    "        self.goto(x,0)\n",
    "        self.pd()\n",
    "        self.sety(1)\n",
    "        self.pu()\n",
    "        self.sety(y)\n",
    "        self.pencolor(\"gray25\")\n",
    "        self.ondrag(self.shift)\n",
    "\n",
    "    def shift(self, x, y):\n",
    "        self.sety(max(0,min(y,1)))\n",
    "        self._color[self.x] = self.ycor()\n",
    "        self.fillcolor(self._color)\n",
    "        setbgcolor()\n",
    "\n",
    "def setbgcolor():\n",
    "    screen.bgcolor(red.ycor(), green.ycor(), blue.ycor())\n",
    "\n",
    "def main():\n",
    "    global screen, red, green, blue\n",
    "    screen = Screen()\n",
    "    screen.delay(0)\n",
    "    screen.setworldcoordinates(-1, -0.3, 3, 1.3)\n",
    "\n",
    "    red = ColorTurtle(0, .5)\n",
    "    green = ColorTurtle(1, .5)\n",
    "    blue = ColorTurtle(2, .5)\n",
    "    setbgcolor()\n",
    "\n",
    "    writer = Turtle()\n",
    "    writer.ht()\n",
    "    writer.pu()\n",
    "    writer.goto(1,1.15)\n",
    "    writer.write(\"DRAG!\",align=\"center\",font=(\"Arial\",30,(\"bold\",\"italic\")))\n",
    "    return \"EVENTLOOP\"\n",
    "\n",
    "if __name__ == \"__main__\":\n",
    "    msg = main()\n",
    "    print(msg)\n",
    "    mainloop()\n"
   ]
  },
  {
   "cell_type": "markdown",
   "metadata": {
    "collapsed": true
   },
   "source": [
    "## 2.6 Spider project 1----collecting pictures"
   ]
  },
  {
   "cell_type": "code",
   "execution_count": 2,
   "metadata": {
    "collapsed": true
   },
   "outputs": [],
   "source": [
    "# 爬虫\n",
    "# 爬虫，编程语言写出的一段代码，\n",
    "# 做什么：下载浏览器上的图片，文本等信息，模拟浏览器的操作，\n",
    "# 今天用到的库requests\n",
    "import requests\n",
    "import re\n",
    "\n",
    "# 下载这个网址ctrl+/注释多行\n",
    "# response1 = requests.get(\"http://www.jueshitangmen.info/tian-meng-bing-can-36.html\")\n",
    "# print(response1.text)\n",
    "# response1.encoding = \"utf-8\"\n",
    "# with open(\"3.txt\", \"w\",encoding=\"utf-8\") as f:\n",
    "#     f.write(response1.text)\n",
    "# # 下图片\n",
    "# url = \"http://www.xiaohuar.com/d/file/2b903e6d59bd1435a0b9ddfb5b4bd9c5.jpg\"\n",
    "# src=\"http://www.xiaohuar.com/d/file/2ce538e9658af40bc034f5dfaf57826a.jpg\"\n",
    "# 二进制的\n",
    "# response = requests.get(url)\n",
    "# # print(response.content)\n",
    "# with open(\"girl.jpg\", \"wb\") as f:  # w是wrtie.b是二进制\n",
    "# #     f.write(response.content)\n",
    "for j in range(1, 2):\n",
    "    first_url = \"http://www.xiaohuar.com/list-1-\" + str(j) + \".html\"\n",
    "    response = requests.get(first_url)\n",
    "    response.encoding = \"gbk\"\n",
    "    html = response.text\n",
    "    print(html)\n",
    "    # # 返回图片地址的列表\n",
    "    # /d/file/20170520/dd21a21751e24a8f161792b66011688c.jpg\n",
    "    # /d/file/20170516/6e295fe48c33245be858c40d37fb5ee6.jpg\n",
    "    img_urls = re.findall(r'src=\"(/d/file/\\d+/\\w+\\.jpg)\"', html)\n",
    "    # print(img_urls)\n",
    "    # 把字符串拼接起来for j in range(1, 2):\n",
    "    first_url = \"http://www.xiaohuar.com/list-1-\" + str(j) + \".html\"\n",
    "    response = requests.get(first_url)\n",
    "    response.encoding = \"gbk\"\n",
    "    html = response.text\n",
    "    print(html)\n",
    "    # # 返回图片地址的列表\n",
    "    # /d/file/20170520/dd21a21751e24a8f161792b66011688c.jpg\n",
    "    # /d/file/20170516/6e295fe48c33245be858c40d37fb5ee6.jpg\n",
    "    img_urls = re.findall(r'src=\"(/d/file/\\d+/\\w+\\.jpg)\"', html)\n",
    "    # print(img_urls)\n",
    "    # 把字符串拼接起来\n",
    "    for i in range(len(img_urls)):\n",
    "        img_urls[i] = \"http://www.xiaohuar.com\" + img_urls[i]\n",
    "    print(img_urls)\n",
    "    for img_url in img_urls:\n",
    "        img_name = str(j) + '----' + img_url.split('/')[-1]\n",
    "        img_data = requests.get(img_url).content\n",
    "        with open(img_name, \"wb\") as f:\n",
    "            f.write(img_data)\n",
    "\n",
    "    for i in range(len(img_urls)):\n",
    "        img_urls[i] = \"http://www.xiaohuar.com\" + img_urls[i]\n",
    "    print(img_urls)\n",
    "    for img_url in img_urls:\n",
    "        img_name = str(j) + '----' + img_url.split('/')[-1]\n",
    "        img_data = requests.get(img_url).content\n",
    "        with open(img_name, \"wb\") as f:\n",
    "            f.write(img_data)\n"
   ]
  },
  {
   "cell_type": "markdown",
   "metadata": {
    "collapsed": true
   },
   "source": [
    "## 2.7 乘法口诀表"
   ]
  },
  {
   "cell_type": "code",
   "execution_count": 1,
   "metadata": {},
   "outputs": [
    {
     "name": "stdout",
     "output_type": "stream",
     "text": [
      "1x1=1\t\n",
      "2x1=2\t2x2=4\t\n",
      "3x1=3\t3x2=6\t3x3=9\t\n",
      "4x1=4\t4x2=8\t4x3=12\t4x4=16\t\n",
      "5x1=5\t5x2=10\t5x3=15\t5x4=20\t5x5=25\t\n",
      "6x1=6\t6x2=12\t6x3=18\t6x4=24\t6x5=30\t6x6=36\t\n",
      "7x1=7\t7x2=14\t7x3=21\t7x4=28\t7x5=35\t7x6=42\t7x7=49\t\n",
      "8x1=8\t8x2=16\t8x3=24\t8x4=32\t8x5=40\t8x6=48\t8x7=56\t8x8=64\t\n",
      "9x1=9\t9x2=18\t9x3=27\t9x4=36\t9x5=45\t9x6=54\t9x7=63\t9x8=72\t9x9=81\t\n"
     ]
    }
   ],
   "source": [
    "# -*- coding: UTF-8 -*-\n",
    " \n",
    "# Filename : test.py\n",
    "# author by : www.runoob.com\n",
    " \n",
    "# 九九乘法表\n",
    "for i in range(1, 10):\n",
    "        for j in range(1, i+1):\n",
    "            print('{}x{}={}\\t'.format(i, j, i*j), end='')\n",
    "        print()"
   ]
  },
  {
   "cell_type": "markdown",
   "metadata": {
    "collapsed": true
   },
   "source": [
    "## 2.8 阶乘与求和"
   ]
  },
  {
   "cell_type": "code",
   "execution_count": null,
   "metadata": {
    "collapsed": true
   },
   "outputs": [],
   "source": [
    "#!/usr/bin/python3\n",
    " \n",
    "# 通过用户输入数字计算阶乘\n",
    " \n",
    "# 获取用户输入的数字\n",
    "num = int(input(\"请输入一个数字: \"))\n",
    "factorial = 1\n",
    " \n",
    "# 查看数字是负数，0 或 正数\n",
    "if num < 0:\n",
    "   print(\"抱歉，负数没有阶乘\")\n",
    "elif num == 0:\n",
    "   print(\"0 的阶乘为 1\")\n",
    "else:\n",
    "   for i in range(1,num + 1):\n",
    "       factorial = factorial*i\n",
    "   print(\"%d 的阶乘为 %d\" %(num,factorial))\n",
    "\n",
    "\n",
    "\n"
   ]
  },
  {
   "cell_type": "code",
   "execution_count": 3,
   "metadata": {},
   "outputs": [
    {
     "name": "stdout",
     "output_type": "stream",
     "text": [
      "The sum is 594595\n"
     ]
    }
   ],
   "source": [
    "#!/usr/bin/python\n",
    "# -*- coding: UTF-8 -*-\n",
    "\n",
    "tmp = 0\n",
    "for i in range(1,1091):\n",
    "    tmp += i\n",
    "print ('The sum is %d' % tmp)\n"
   ]
  },
  {
   "cell_type": "markdown",
   "metadata": {
    "collapsed": true
   },
   "source": [
    "## 2.9 猜数字游戏"
   ]
  },
  {
   "cell_type": "code",
   "execution_count": null,
   "metadata": {
    "collapsed": true
   },
   "outputs": [],
   "source": [
    "#!/usr/local/bin/python3\n",
    "\n",
    "import random\n",
    "\n",
    "bot=int(input('Set range bottom\\n'))\n",
    "top=int(input('Set range top\\n'))\n",
    "rand=random.randint(bot,top)\n",
    "print ('Random number in ['+str(bot)+','+str(top)+'] generated!')\n",
    "num=int(input('###Guess the number###\\n'))\n",
    "cnt=1\n",
    "while (num!=rand):\n",
    "\tif (num<rand):\n",
    "\t\tprint('*_* Lower than the answer')\n",
    "\telse:\n",
    "\t\tprint('T_T Higher than the answer')\n",
    "\tnum=int(input('###Guess the number###\\n'))\n",
    "\tcnt=cnt+1\n",
    "print('^_^ You get the answer with [%d] times'%cnt)"
   ]
  },
  {
   "cell_type": "markdown",
   "metadata": {
    "collapsed": true
   },
   "source": [
    "## 2.10排列"
   ]
  },
  {
   "cell_type": "code",
   "execution_count": 2,
   "metadata": {},
   "outputs": [
    {
     "ename": "SyntaxError",
     "evalue": "Missing parentheses in call to 'print'. Did you mean print(print bai,shi,ge)? (<ipython-input-2-4a168a26c6f6>, line 14)",
     "output_type": "error",
     "traceback": [
      "\u001b[1;36m  File \u001b[1;32m\"<ipython-input-2-4a168a26c6f6>\"\u001b[1;36m, line \u001b[1;32m14\u001b[0m\n\u001b[1;33m    print bai,shi,ge\u001b[0m\n\u001b[1;37m            ^\u001b[0m\n\u001b[1;31mSyntaxError\u001b[0m\u001b[1;31m:\u001b[0m Missing parentheses in call to 'print'. Did you mean print(print bai,shi,ge)?\n"
     ]
    }
   ],
   "source": [
    "#!usr/bin/env python 2.7\n",
    "# -*- coding: utf-8 -*-\n",
    "\n",
    "\"\"\"\n",
    "题目：有1、2、3、4个数字，能组成多少个互不相同且无重复数字的三位数？都是多少？\n",
    "程序分析：可填在百位、十位、个位的数字都是1、2、3、4。组成所有的排列后再去 掉不满足条件的排列。\n",
    "程序源代码：\n",
    "\"\"\"\n",
    "\n",
    "for bai in range(1,5):#python都是左开右闭，所以是（1,5）\n",
    "    for shi in range(1,5):\n",
    "    \tfor ge in range(1,5):\n",
    "    \t\tif (bai != shi) and (shi != ge) and (bai != ge):\n",
    "    \t\t\tprint bai,shi,ge"
   ]
  },
  {
   "cell_type": "markdown",
   "metadata": {},
   "source": [
    "## 2.11 斐波那契数列"
   ]
  },
  {
   "cell_type": "code",
   "execution_count": 1,
   "metadata": {
    "scrolled": true
   },
   "outputs": [
    {
     "name": "stdout",
     "output_type": "stream",
     "text": [
      "0\n",
      "1\n",
      "1\n",
      "2\n",
      "3\n",
      "5\n",
      "8\n",
      "13\n",
      "21\n",
      "34\n",
      "55\n",
      "89\n",
      "144\n",
      "233\n",
      "377\n",
      "610\n",
      "987\n"
     ]
    }
   ],
   "source": [
    "i, j = 0, 1\n",
    "while i < 1000:\n",
    "    print (i),\n",
    "    i, j = j, i+j"
   ]
  },
  {
   "cell_type": "code",
   "execution_count": 3,
   "metadata": {},
   "outputs": [
    {
     "ename": "SyntaxError",
     "evalue": "import * only allowed at module level (<ipython-input-3-615e311f003b>, line 11)",
     "output_type": "error",
     "traceback": [
      "\u001b[1;36m  File \u001b[1;32m\"<ipython-input-3-615e311f003b>\"\u001b[1;36m, line \u001b[1;32m11\u001b[0m\n\u001b[1;33m    def LineToDemo():\u001b[0m\n\u001b[1;37m                     ^\u001b[0m\n\u001b[1;31mSyntaxError\u001b[0m\u001b[1;31m:\u001b[0m import * only allowed at module level\n"
     ]
    }
   ],
   "source": [
    "#!/usr/bin/python\n",
    "# -*- coding: UTF-8 -*-\n",
    "\n",
    "import math\n",
    "class PTS:\n",
    "    def __init__(self):\n",
    "        self.x = 0\n",
    "        self.y = 0\n",
    "points = []\n",
    "\n",
    "def LineToDemo():\n",
    "    from Tkinter import *\n",
    "    screenx = 400\n",
    "    screeny = 400\n",
    "    canvas = Canvas(width = screenx,height = screeny,bg = 'white')\n",
    "\n",
    "    AspectRatio = 0.85\n",
    "    MAXPTS = 15\n",
    "    h = screeny\n",
    "    w = screenx\n",
    "    xcenter = w / 2\n",
    "    ycenter = h / 2\n",
    "    radius = (h - 30) / (AspectRatio * 2) - 20\n",
    "    step = 360 / MAXPTS\n",
    "    angle = 0.0\n",
    "    for i in range(MAXPTS):\n",
    "        rads = angle * math.pi / 180.0\n",
    "        p = PTS()\n",
    "        p.x = xcenter + int(math.cos(rads) * radius)\n",
    "        p.y = ycenter - int(math.sin(rads) * radius * AspectRatio)\n",
    "        angle += step\n",
    "        points.append(p)\n",
    "    canvas.create_oval(xcenter - radius,ycenter - radius,\n",
    "                       xcenter + radius,ycenter + radius)\n",
    "    for i in range(MAXPTS):\n",
    "        for j in range(i,MAXPTS):\n",
    "            canvas.create_line(points[i].x,points[i].y,points[j].x,points[j].y)\n",
    "\n",
    "    canvas.pack()\n",
    "    mainloop()\n",
    "if __name__ == '__main__':\n",
    "    LineToDemo()\n"
   ]
  },
  {
   "cell_type": "markdown",
   "metadata": {
    "collapsed": true
   },
   "source": [
    "## 2.12 三阶幻方"
   ]
  },
  {
   "cell_type": "code",
   "execution_count": 1,
   "metadata": {},
   "outputs": [
    {
     "name": "stdout",
     "output_type": "stream",
     "text": [
      "(2, 7, 6)\n",
      "(9, 5, 1)\n",
      "(4, 3, 8)\n",
      "\n",
      "(2, 9, 4)\n",
      "(7, 5, 3)\n",
      "(6, 1, 8)\n",
      "\n",
      "(4, 3, 8)\n",
      "(9, 5, 1)\n",
      "(2, 7, 6)\n",
      "\n",
      "(4, 9, 2)\n",
      "(3, 5, 7)\n",
      "(8, 1, 6)\n",
      "\n",
      "(6, 1, 8)\n",
      "(7, 5, 3)\n",
      "(2, 9, 4)\n",
      "\n",
      "(6, 7, 2)\n",
      "(1, 5, 9)\n",
      "(8, 3, 4)\n",
      "\n",
      "(8, 1, 6)\n",
      "(3, 5, 7)\n",
      "(4, 9, 2)\n",
      "\n",
      "(8, 3, 4)\n",
      "(1, 5, 9)\n",
      "(6, 7, 2)\n",
      "\n"
     ]
    }
   ],
   "source": [
    "from itertools import permutations\n",
    "x=[1,2,3,4,5,6,7,8,9]\n",
    "list=[]\n",
    "for a in permutations(x,9):\n",
    "    if a[0]+a[1]+a[2]==15 and a[3]+a[4]+a[5]==15:\n",
    "        if a[6]+a[7]+a[8]==15 and a[0]+a[3]+a[6]==15:\n",
    "            if a[1]+a[4]+a[7]==15 and a[2]+a[5]+a[8]==15:\n",
    "                if a[0]+a[4]+a[8]==15 and a[2]+a[4]+a[6]==15:\n",
    "                    print(a[0:3])\n",
    "                    print(a[3:6])\n",
    "                    print(a[6:])\n",
    "                    print()"
   ]
  },
  {
   "cell_type": "code",
   "execution_count": 1,
   "metadata": {},
   "outputs": [
    {
     "ename": "SyntaxError",
     "evalue": "invalid syntax (<ipython-input-1-9f79c01099ea>, line 1)",
     "output_type": "error",
     "traceback": [
      "\u001b[1;36m  File \u001b[1;32m\"<ipython-input-1-9f79c01099ea>\"\u001b[1;36m, line \u001b[1;32m1\u001b[0m\n\u001b[1;33m    show(sum(circle((i,0), i, hue=sin(i/10)) for i in [10,9.9,..,0])) # long time\u001b[0m\n\u001b[1;37m                                                              ^\u001b[0m\n\u001b[1;31mSyntaxError\u001b[0m\u001b[1;31m:\u001b[0m invalid syntax\n"
     ]
    }
   ],
   "source": [
    "show(sum(circle((i,0), i, hue=sin(i/10)) for i in [10,9.9,..,0])) # long time"
   ]
  },
  {
   "cell_type": "code",
   "execution_count": 1,
   "metadata": {},
   "outputs": [
    {
     "ename": "NameError",
     "evalue": "name 'plot3d' is not defined",
     "output_type": "error",
     "traceback": [
      "\u001b[1;31m---------------------------------------------------------------------------\u001b[0m",
      "\u001b[1;31mNameError\u001b[0m                                 Traceback (most recent call last)",
      "\u001b[1;32m<ipython-input-1-1f7d9e18665c>\u001b[0m in \u001b[0;36m<module>\u001b[1;34m()\u001b[0m\n\u001b[1;32m----> 1\u001b[1;33m \u001b[0mplot3d\u001b[0m\u001b[1;33m(\u001b[0m\u001b[0mpi\u001b[0m\u001b[1;33m,\u001b[0m \u001b[1;33m(\u001b[0m\u001b[1;33m-\u001b[0m\u001b[1;36m1\u001b[0m\u001b[1;33m,\u001b[0m\u001b[1;36m1\u001b[0m\u001b[1;33m)\u001b[0m\u001b[1;33m,\u001b[0m \u001b[1;33m(\u001b[0m\u001b[1;33m-\u001b[0m\u001b[1;36m1\u001b[0m\u001b[1;33m,\u001b[0m\u001b[1;36m1\u001b[0m\u001b[1;33m)\u001b[0m\u001b[1;33m)\u001b[0m\u001b[1;33m\u001b[0m\u001b[0m\n\u001b[0m",
      "\u001b[1;31mNameError\u001b[0m: name 'plot3d' is not defined"
     ]
    }
   ],
   "source": [
    "plot3d(pi, (-1,1), (-1,1))"
   ]
  },
  {
   "cell_type": "code",
   "execution_count": null,
   "metadata": {
    "collapsed": true
   },
   "outputs": [],
   "source": []
  }
 ],
 "metadata": {
  "kernelspec": {
   "display_name": "Python 3",
   "language": "python",
   "name": "python3"
  },
  "language_info": {
   "codemirror_mode": {
    "name": "ipython",
    "version": 3
   },
   "file_extension": ".py",
   "mimetype": "text/x-python",
   "name": "python",
   "nbconvert_exporter": "python",
   "pygments_lexer": "ipython3",
   "version": "3.6.3"
  },
  "toc": {
   "nav_menu": {},
   "number_sections": false,
   "sideBar": true,
   "skip_h1_title": false,
   "toc_cell": true,
   "toc_position": {
    "height": "544px",
    "left": "0px",
    "right": "auto",
    "top": "107px",
    "width": "302px"
   },
   "toc_section_display": "block",
   "toc_window_display": true
  }
 },
 "nbformat": 4,
 "nbformat_minor": 2
}
