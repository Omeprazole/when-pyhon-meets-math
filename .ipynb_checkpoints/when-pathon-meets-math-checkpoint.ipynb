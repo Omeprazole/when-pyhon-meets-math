{
 "cells": [
  {
   "cell_type": "markdown",
   "metadata": {},
   "source": [
    "<img src=\"http://www.math1234567.com/meet.jpg\"\n",
    "style=\"width:500px;height:840px;float:middle\">"
   ]
  },
  {
   "cell_type": "markdown",
   "metadata": {
    "toc": true
   },
   "source": [
    "<h1>Table of Contents<span class=\"tocSkip\"></span></h1>\n",
    "<div class=\"toc\" style=\"margin-top: 1em;\"><ul class=\"toc-item\"><li><span><a href=\"#前言\" data-toc-modified-id=\"前言-1\">前言</a></span></li><li><span><a href=\"#1-用python,学数学准备工作\" data-toc-modified-id=\"1-用python,学数学准备工作-2\">1 用python,学数学准备工作</a></span><ul class=\"toc-item\"><li><span><a href=\"#1.1-初级\" data-toc-modified-id=\"1.1-初级-2.1\">1.1 初级</a></span><ul class=\"toc-item\"><li><span><a href=\"#1.1.1-安装Anaconda\" data-toc-modified-id=\"1.1.1-安装Anaconda-2.1.1\">1.1.1 安装Anaconda</a></span></li><li><span><a href=\"#1.1.2-在线编辑器\" data-toc-modified-id=\"1.1.2-在线编辑器-2.1.2\">1.1.2 在线编辑器</a></span></li><li><span><a href=\"#1.1.3-配置Jupyter-Notebook\" data-toc-modified-id=\"1.1.3-配置Jupyter-Notebook-2.1.3\">1.1.3 配置Jupyter Notebook</a></span></li><li><span><a href=\"#1.1.4了解Turtle-基本语句\" data-toc-modified-id=\"1.1.4了解Turtle-基本语句-2.1.4\">1.1.4了解Turtle 基本语句</a></span></li><li><span><a href=\"#1.1.5透视python程序\" data-toc-modified-id=\"1.1.5透视python程序-2.1.5\">1.1.5透视python程序</a></span></li></ul></li><li><span><a href=\"#1.2-中、高级\" data-toc-modified-id=\"1.2-中、高级-2.2\">1.2 中、高级</a></span><ul class=\"toc-item\"><li><span><a href=\"#1.2.1注册Github\" data-toc-modified-id=\"1.2.1注册Github-2.2.1\">1.2.1注册Github</a></span></li><li><span><a href=\"#1.2.2了解Matplotlib-基本语句\" data-toc-modified-id=\"1.2.2了解Matplotlib-基本语句-2.2.2\">1.2.2了解Matplotlib 基本语句</a></span></li><li><span><a href=\"#1.2.3-安装sagemath\" data-toc-modified-id=\"1.2.3-安装sagemath-2.2.3\">1.2.3 安装sagemath</a></span></li><li><span><a href=\"#1.2.4-配置VPYTHON\" data-toc-modified-id=\"1.2.4-配置VPYTHON-2.2.4\">1.2.4 配置VPYTHON</a></span></li><li><span><a href=\"#1.2.5-Python学习网站推荐\" data-toc-modified-id=\"1.2.5-Python学习网站推荐-2.2.5\">1.2.5 Python学习网站推荐</a></span></li></ul></li></ul></li><li><span><a href=\"#2-Python-实例\" data-toc-modified-id=\"2-Python-实例-3\">2 Python 实例</a></span><ul class=\"toc-item\"><li><span><a href=\"#2.1-计算专题\" data-toc-modified-id=\"2.1-计算专题-3.1\">2.1 计算专题</a></span></li><li><span><a href=\"#2.2-Turtle绘图专题\" data-toc-modified-id=\"2.2-Turtle绘图专题-3.2\">2.2 Turtle绘图专题</a></span><ul class=\"toc-item\"><li><span><a href=\"#2.2.1-绘制一条有向线段\" data-toc-modified-id=\"2.2.1-绘制一条有向线段-3.2.1\">2.2.1 绘制一条有向线段</a></span></li><li><span><a href=\"#2.2.2-绘制一个正方形\" data-toc-modified-id=\"2.2.2-绘制一个正方形-3.2.2\">2.2.2 绘制一个正方形</a></span></li><li><span><a href=\"#2.2.3-绘制一个正多边形\" data-toc-modified-id=\"2.2.3-绘制一个正多边形-3.2.3\">2.2.3 绘制一个正多边形</a></span></li><li><span><a href=\"#2.2.4-绘制蜂巢\" data-toc-modified-id=\"2.2.4-绘制蜂巢-3.2.4\">2.2.4 绘制蜂巢</a></span></li><li><span><a href=\"#2.2.5-绘制一个圆并涂色\" data-toc-modified-id=\"2.2.5-绘制一个圆并涂色-3.2.5\">2.2.5 绘制一个圆并涂色</a></span></li><li><span><a href=\"#2.2.6-绘制奥运五环\" data-toc-modified-id=\"2.2.6-绘制奥运五环-3.2.6\">2.2.6 绘制奥运五环</a></span></li><li><span><a href=\"#2.2.7-Draw-Yinyang-of-Taiji\" data-toc-modified-id=\"2.2.7-Draw-Yinyang-of-Taiji-3.2.7\">2.2.7 Draw Yinyang of Taiji</a></span></li><li><span><a href=\"#2.2.8-Draw-a-flower\" data-toc-modified-id=\"2.2.8-Draw-a-flower-3.2.8\">2.2.8 Draw a flower</a></span></li></ul></li><li><span><a href=\"#2.3质数专题\" data-toc-modified-id=\"2.3质数专题-3.3\">2.3质数专题</a></span><ul class=\"toc-item\"><li><span><a href=\"#2.3.1质数判断\" data-toc-modified-id=\"2.3.1质数判断-3.3.1\">2.3.1质数判断</a></span></li><li><span><a href=\"#2.3.2求n以内的所有质数\" data-toc-modified-id=\"2.3.2求n以内的所有质数-3.3.2\">2.3.2求n以内的所有质数</a></span></li><li><span><a href=\"#2.3.3哥德巴赫猜想\" data-toc-modified-id=\"2.3.3哥德巴赫猜想-3.3.3\">2.3.3哥德巴赫猜想</a></span></li><li><span><a href=\"#2.3.4分解质因数\" data-toc-modified-id=\"2.3.4分解质因数-3.3.4\">2.3.4分解质因数</a></span></li></ul></li><li><span><a href=\"#2.4-Matplotlib专题\" data-toc-modified-id=\"2.4-Matplotlib专题-3.4\">2.4 Matplotlib专题</a></span><ul class=\"toc-item\"><li><span><a href=\"#2.4.1-绘制正弦余弦函数图像\" data-toc-modified-id=\"2.4.1-绘制正弦余弦函数图像-3.4.1\">2.4.1 绘制正弦余弦函数图像</a></span></li><li><span><a href=\"#2.4.2-饼状图\" data-toc-modified-id=\"2.4.2-饼状图-3.4.2\">2.4.2 饼状图</a></span></li><li><span><a href=\"#2.4.3-散点图\" data-toc-modified-id=\"2.4.3-散点图-3.4.3\">2.4.3 散点图</a></span></li><li><span><a href=\"#2.4.4-条形图\" data-toc-modified-id=\"2.4.4-条形图-3.4.4\">2.4.4 条形图</a></span></li><li><span><a href=\"#2.4.5等高线图\" data-toc-modified-id=\"2.4.5等高线图-3.4.5\">2.4.5等高线图</a></span></li></ul></li><li><span><a href=\"#2.5-应用题专题\" data-toc-modified-id=\"2.5-应用题专题-3.5\">2.5 应用题专题</a></span><ul class=\"toc-item\"><li><span><a href=\"#2.5.1行程问题\" data-toc-modified-id=\"2.5.1行程问题-3.5.1\">2.5.1行程问题</a></span></li><li><span><a href=\"#2.5.2工程问题\" data-toc-modified-id=\"2.5.2工程问题-3.5.2\">2.5.2工程问题</a></span></li><li><span><a href=\"#2.5.3-百分比问题\" data-toc-modified-id=\"2.5.3-百分比问题-3.5.3\">2.5.3 百分比问题</a></span></li><li><span><a href=\"#2.5.4-鸡兔同笼问题\" data-toc-modified-id=\"2.5.4-鸡兔同笼问题-3.5.4\">2.5.4 鸡兔同笼问题</a></span></li><li><span><a href=\"#2.5.5商业问题\" data-toc-modified-id=\"2.5.5商业问题-3.5.5\">2.5.5商业问题</a></span></li></ul></li><li><span><a href=\"#2.6-Spider-project-1----collecting-pictures\" data-toc-modified-id=\"2.6-Spider-project-1----collecting-pictures-3.6\">2.6 Spider project 1----collecting pictures</a></span></li><li><span><a href=\"#2.8-阶乘与求和\" data-toc-modified-id=\"2.8-阶乘与求和-3.7\">2.8 阶乘与求和</a></span></li><li><span><a href=\"#2.9-猜数字游戏\" data-toc-modified-id=\"2.9-猜数字游戏-3.8\">2.9 猜数字游戏</a></span></li><li><span><a href=\"#2.11-斐波那契数列\" data-toc-modified-id=\"2.11-斐波那契数列-3.9\">2.11 斐波那契数列</a></span></li><li><span><a href=\"#2.12-三阶幻方\" data-toc-modified-id=\"2.12-三阶幻方-3.10\">2.12 三阶幻方</a></span></li></ul></li></ul></div>"
   ]
  },
  {
   "cell_type": "markdown",
   "metadata": {},
   "source": [
    "# 前言"
   ]
  },
  {
   "cell_type": "markdown",
   "metadata": {},
   "source": [
    "本书致力于帮助grade 3 至 grade 12 的学生，培养他们学习python和数学的兴趣。\n",
    "\n",
    "该书由<font size=5>玮希国际学校廖曙光老师</font>和<font size=5>苹果总部高级工程师刘宇琦先生</font>合作编写，面向全球免费发行。\n",
    "\n",
    "欢迎大家免费使用并传播，传播时请保留本书前言部分！！！\n",
    "\n",
    "\n",
    "\n"
   ]
  },
  {
   "cell_type": "markdown",
   "metadata": {},
   "source": [
    "# 1 用python,学数学准备工作\n",
    "\n",
    "1.本书“官方”访问地址一：\n",
    "\n",
    "http://nbviewer.jupyter.org/github/victorliaocs/when-pyhon-meets-math/blob/master/when-pathon-meets-math.ipynb （计划每日更新一次）\n",
    "\n",
    "\n",
    "\n",
    "2.本书“官方”访问地址二：\n",
    "\n",
    "http://www.math1234567.com/1.html （计划每周更新一次）\n",
    "\n",
    "\n",
    "\n"
   ]
  },
  {
   "cell_type": "markdown",
   "metadata": {},
   "source": [
    "## 1.1 初级"
   ]
  },
  {
   "cell_type": "markdown",
   "metadata": {},
   "source": [
    "### 1.1.1 安装Anaconda\n",
    "\n",
    "   anaconda指的是一个开源的Python发行版本，其包含了conda、Python等180多个科学包及其依赖项。\n",
    "因为包含了大量的科学包，Anaconda 的下载文件比较大（约 500 MB），如果只需要某些包，或者需要节省带宽或存储空间，\n",
    "也可以使用Miniconda这个较小的发行版（仅包含conda和 Python）。\n",
    "\n",
    "Anaconda下载地址：\n",
    "https://www.anaconda.com/download/#windows\n"
   ]
  },
  {
   "cell_type": "markdown",
   "metadata": {
    "collapsed": true
   },
   "source": [
    "### 1.1.2 在线编辑器\n",
    "    \n",
    "不下载ANACONDA也可以使用python,不过有些程序可能会因为缺少必要的库而无法运行。\n",
    "推荐几款PYTHON在线编辑器：\n",
    "1. http://www.skulpt.org/\n",
    "\n",
    "2. https://wood.codemao.cn/\n",
    "\n",
    "3. http://www.dooccn.com/python3/\n",
    "\n",
    "\n"
   ]
  },
  {
   "cell_type": "markdown",
   "metadata": {},
   "source": [
    "### 1.1.3 配置Jupyter Notebook\n"
   ]
  },
  {
   "cell_type": "markdown",
   "metadata": {
    "collapsed": true
   },
   "source": [
    "Jupyter Notebook 官网：http://jupyter.org/\n",
    "Jupyter Notebook（此前被称为 IPython notebook）是一个交互式笔记本，支持运行 40 多种编程语言。\n",
    "Jupyter Notebook 的本质是一个 Web 应用程序，便于创建和共享\"文学化\"程序文档，支持实时代码，数学方程，可视化和 markdown。 \n",
    "用途包括：数据清理和转换，数值模拟，统计建模，机器学习等等。\n",
    "\n",
    "用户可以通过电子邮件，Dropbox，GitHub 和 Jupyter Notebook Viewer，将 Jupyter Notebook 分享给其他人。\n",
    "Jupyter Notebook Viewer的网址是：http://nbviewer.jupyter.org\n",
    "\n",
    "在Jupyter Notebook 中，代码可以实时的生成图像，视频，LaTeX和JavaScript。\n",
    "\n",
    "Jupyter Notebook入门教程： https://www.cnblogs.com/nxld/p/6566380.html<br />\n",
    "Jupyter Notebook导航插件配置：https://www.cnblogs.com/shuaishuai-it/p/7170343.html<br />\n",
    "Jupyter Notebook隐藏代码配置：https://github.com/Jupyter-contrib/jupyter_nbextensions_configurator<br />\n",
    "Markdown教程：http://wowubuntu.com/markdown/<br />\n",
    "\n",
    "\n"
   ]
  },
  {
   "cell_type": "markdown",
   "metadata": {},
   "source": [
    "###  1.1.4了解Turtle 基本语句\n",
    "\n",
    "Turtle库是Python语言中一个很流行的绘制图像的函数库，想象一个小乌龟，在一个横轴为x、纵轴为y的坐标系原点，\n",
    "(0,0)位置开始，它根据一组函数指令的控制，在这个平面坐标系中移动，从而在它爬行的路径上绘制了图形。\n",
    "\n",
    "https://docs.python.org/3.3/library/turtle.html\n",
    "\n",
    "https://www.cnblogs.com/nowgood/p/turtle.html#_nav_0\n"
   ]
  },
  {
   "cell_type": "markdown",
   "metadata": {},
   "source": [
    "###  1.1.5透视python程序\n",
    "\n",
    "学习python的利器之一。程序执行的“慢镜头”。\n",
    "程序的执行的特点之一就是“快”，一秒之内，就可以执行几万步。可是在教学当中，慢更有利于大家的理解。下面这个用于透视python程序的网页\n",
    "必将造福千万python学子。\n",
    "\n",
    "http://pythontutor.com/visualize.html#mode=edit\n",
    "\n",
    "如果你迫不及待想要进一步了解它，不妨将下面这个程序拷贝进网站看一看。\n"
   ]
  },
  {
   "cell_type": "code",
   "execution_count": 2,
   "metadata": {},
   "outputs": [
    {
     "name": "stdout",
     "output_type": "stream",
     "text": [
      "The sum is 594595\n"
     ]
    }
   ],
   "source": [
    "#!/usr/bin/python\n",
    "#coding: UTF-8 -*-\n",
    "tmp = 0\n",
    "for i in range(1,1091):\n",
    "    tmp += i\n",
    "print ('The sum is %d' % tmp)"
   ]
  },
  {
   "cell_type": "markdown",
   "metadata": {},
   "source": [
    "## 1.2 中、高级"
   ]
  },
  {
   "cell_type": "markdown",
   "metadata": {},
   "source": [
    "### 1.2.1注册Github\n"
   ]
  },
  {
   "cell_type": "markdown",
   "metadata": {
    "collapsed": true
   },
   "source": [
    "github 是全球最大的程序员社区之一。 加入该社区，你可以学到很多，当然你也可以通过这个平台去帮助别人。\n",
    "\n",
    "官网：https://github.com/"
   ]
  },
  {
   "cell_type": "markdown",
   "metadata": {},
   "source": [
    "###  1.2.2了解Matplotlib 基本语句\n",
    "\n",
    "Matplotlib 是一个 Python 的 2D绘图库，它以各种硬拷贝格式和跨平台的交互式环境生成出版质量级别的图形。\n",
    "通过 Matplotlib，开发者可以仅需要几行代码，便可以生成绘图，直方图，功率谱，条形图，错误图，散点图等。\n",
    "\n",
    "\n",
    "https://matplotlib.org/\n",
    "\n",
    "https://matplotlib.org/search.html?q=demo&check_keywords=yes&area=default  many many demos!!!\n",
    "\n",
    "http://blog.csdn.net/u011497262/article/details/52325705 #matplotlib 教程\n",
    "\n",
    "http://blog.csdn.net/wizardforcel/article/details/54407212"
   ]
  },
  {
   "cell_type": "markdown",
   "metadata": {},
   "source": [
    "### 1.2.3 安装sagemath"
   ]
  },
  {
   "cell_type": "markdown",
   "metadata": {},
   "source": [
    "   Sage 是一个免费的、开源的数学软件系统，采用GPL协议。它整合了许多开源Python包，采用Python语言编写，但也支持其他语言。它的目标是创造一个可变的开源软件以替代Magma、Maple、Mathematica和Matlab。Sage不仅是一个软件，也是一个编程环境，提供命令行模式、笔记本模式，可以编写编译型程序和解释型程序。目前Sage支持Linux、Mac OS X、BSD、Solaris平台。\n",
    "\n",
    "\n",
    "   官网：www.sagemath.org\n",
    "\n",
    "\n",
    "   下载地址：https://pan.baidu.com/s/1ggDmBeF 官网提供的下载很慢，大家可以用百度盘下载由廖老师提供的安装文件。<br />\n",
    "   Sagemath 3d作品需要支持JAVA的浏览器才能查看，推荐使用QQ浏览器\n",
    "    "
   ]
  },
  {
   "cell_type": "markdown",
   "metadata": {},
   "source": [
    "### 1.2.4 配置VPYTHON\n",
    "\n",
    "1. 官网：  http://www.vpython.org/\n",
    "\n",
    "2. 安装方法：  http://blog.csdn.net/u010570551/article/details/54291507"
   ]
  },
  {
   "cell_type": "markdown",
   "metadata": {},
   "source": [
    "###  1.2.5 Python学习网站推荐\n",
    "\n",
    "http://www.runoob.com/python3/python3-tutorial.html\n",
    "\n",
    "https://www.liaoxuefeng.com/wiki/0014316089557264a6b348958f449949df42a6d3a2e542c000\n",
    "\n",
    "https://python.swaroopch.com/control_flow.html\n",
    "\n",
    "https://github.com/vinta/awesome-python\n",
    "\n",
    "https://github.com/swaroopch/byte-of-python/tree/master/programs\n",
    "\n",
    "http://blog.jobbole.com/46308/  游戏\n",
    "\n",
    "http://blog.csdn.net/buptlrw/article/details/41924849 游戏\n",
    "\n",
    "https://github.com/zhangweizhi/python100 100例子\n",
    "\n",
    "https://edu.csdn.net/course/detail/5690 游戏开发"
   ]
  },
  {
   "cell_type": "markdown",
   "metadata": {},
   "source": [
    "<hr>"
   ]
  },
  {
   "cell_type": "markdown",
   "metadata": {},
   "source": [
    "<hr>"
   ]
  },
  {
   "cell_type": "markdown",
   "metadata": {},
   "source": [
    "# 2 Python 实例 "
   ]
  },
  {
   "cell_type": "markdown",
   "metadata": {},
   "source": [
    "## 2.1 计算专题"
   ]
  },
  {
   "cell_type": "code",
   "execution_count": 3,
   "metadata": {},
   "outputs": [
    {
     "data": {
      "text/plain": [
       "3"
      ]
     },
     "execution_count": 3,
     "metadata": {},
     "output_type": "execute_result"
    }
   ],
   "source": [
    "1+2\n"
   ]
  },
  {
   "cell_type": "code",
   "execution_count": 4,
   "metadata": {},
   "outputs": [
    {
     "data": {
      "text/plain": [
       "120113"
      ]
     },
     "execution_count": 4,
     "metadata": {},
     "output_type": "execute_result"
    }
   ],
   "source": [
    "121324-1211\n"
   ]
  },
  {
   "cell_type": "code",
   "execution_count": 5,
   "metadata": {},
   "outputs": [
    {
     "data": {
      "text/plain": [
       "258369"
      ]
     },
     "execution_count": 5,
     "metadata": {},
     "output_type": "execute_result"
    }
   ],
   "source": [
    "1213*213"
   ]
  },
  {
   "cell_type": "code",
   "execution_count": 6,
   "metadata": {
    "scrolled": true
   },
   "outputs": [
    {
     "data": {
      "text/plain": [
       "0.8888888888888888"
      ]
     },
     "execution_count": 6,
     "metadata": {},
     "output_type": "execute_result"
    }
   ],
   "source": [
    "8/9"
   ]
  },
  {
   "cell_type": "markdown",
   "metadata": {
    "collapsed": true
   },
   "source": [
    "## 2.2 Turtle绘图专题"
   ]
  },
  {
   "cell_type": "markdown",
   "metadata": {},
   "source": [
    "<span class=\"girk\">Turtle graphics is a popular way for introducing programming to kids. It was part of the original Logo programming language developed by Wally Feurzig and Seymour Papert in 1966.</span>\n",
    "\n",
    "Imagine a robotic turtle starting at (0, 0) in the x-y plane. After an import turtle, give it the command turtle.forward(15), and it moves (on-screen!) 15 pixels in the direction it is facing, drawing a line as it moves. Give it the command turtle.right(25), and it rotates in-place 25 degrees clockwise.\n",
    "\n",
    "By combining together these and similar commands, intricate shapes and pictures can easily be drawn.\n",
    "\n",
    "The turtle module is an extended reimplementation of the same-named module from the Python standard distribution up to version Python 2.5.\n",
    "\n",
    "It tries to keep the merits of the old turtle module and to be (nearly) 100% compatible with it. This means in the first place to enable the learning programmer to use all the commands, classes and methods interactively when using the module from within IDLE run with the -n switch.\n",
    "\n",
    "The turtle module provides turtle graphics primitives, in both object-oriented and procedure-oriented ways. Because it uses Tkinter for the underlying graphics, it needs a version of Python installed with Tk support.\n",
    "\n",
    "The object-oriented interface uses essentially two+two classes:\n",
    "\n",
    "The TurtleScreen class defines graphics windows as a playground for the drawing turtles. Its constructor needs a Tkinter.Canvas or a ScrolledCanvas as argument. It should be used when turtle is used as part of some application.\n",
    "\n",
    "The function Screen() returns a singleton object of a TurtleScreen subclass. This function should be used when turtle is used as a standalone tool for doing graphics. As a singleton object, inheriting from its class is not possible.\n",
    "\n",
    "All methods of TurtleScreen/Screen also exist as functions, i.e. as part of the procedure-oriented interface.\n",
    "\n",
    "RawTurtle (alias: RawPen) defines Turtle objects which draw on a TurtleScreen. Its constructor needs a Canvas, ScrolledCanvas or TurtleScreen as argument, so the RawTurtle objects know where to draw.\n",
    "\n",
    "Derived from RawTurtle is the subclass Turtle (alias: Pen), which draws on “the” Screen - instance which is automatically created, if not already present.\n",
    "\n",
    "All methods of RawTurtle/Turtle also exist as functions, i.e. part of the procedure-oriented interface.\n",
    "\n",
    "The procedural interface provides functions which are derived from the methods of the classes Screen and Turtle. They have the same names as the corresponding methods. A screen object is automatically created whenever a function derived from a Screen method is called. An (unnamed) turtle object is automatically created whenever any of the functions derived from a Turtle method is called.\n",
    "\n",
    "To use multiple turtles an a screen one has to use the object-oriented interface."
   ]
  },
  {
   "cell_type": "markdown",
   "metadata": {},
   "source": [
    "###  2.2.1 绘制一条有向线段"
   ]
  },
  {
   "cell_type": "markdown",
   "metadata": {
    "collapsed": true
   },
   "source": [
    "问题描述问题描述：绘制一条长为100像素，方向向东的线段\n"
   ]
  },
  {
   "cell_type": "markdown",
   "metadata": {
    "collapsed": true
   },
   "source": [
    "相关数学概念：方向，坐标，原点\n",
    "\n"
   ]
  },
  {
   "cell_type": "markdown",
   "metadata": {
    "collapsed": true
   },
   "source": [
    "相关Python概念：turtle 基本语句\n"
   ]
  },
  {
   "cell_type": "markdown",
   "metadata": {
    "collapsed": true
   },
   "source": [
    "参考代码："
   ]
  },
  {
   "cell_type": "code",
   "execution_count": 7,
   "metadata": {},
   "outputs": [
    {
     "ename": "Terminator",
     "evalue": "",
     "output_type": "error",
     "traceback": [
      "\u001b[1;31m---------------------------------------------------------------------------\u001b[0m",
      "\u001b[1;31mTerminator\u001b[0m                                Traceback (most recent call last)",
      "\u001b[1;32m<ipython-input-7-7d2a37c7ebdb>\u001b[0m in \u001b[0;36m<module>\u001b[1;34m()\u001b[0m\n\u001b[0;32m      1\u001b[0m \u001b[1;31m#绘制一条线段\u001b[0m\u001b[1;33m\u001b[0m\u001b[1;33m\u001b[0m\u001b[0m\n\u001b[0;32m      2\u001b[0m \u001b[1;32mimport\u001b[0m \u001b[0mturtle\u001b[0m\u001b[1;33m\u001b[0m\u001b[0m\n\u001b[1;32m----> 3\u001b[1;33m \u001b[0mturtle\u001b[0m\u001b[1;33m.\u001b[0m\u001b[0mpencolor\u001b[0m\u001b[1;33m(\u001b[0m\u001b[1;34m\"red\"\u001b[0m\u001b[1;33m)\u001b[0m\u001b[1;33m\u001b[0m\u001b[0m\n\u001b[0m\u001b[0;32m      4\u001b[0m \u001b[0mturtle\u001b[0m\u001b[1;33m.\u001b[0m\u001b[0mpensize\u001b[0m\u001b[1;33m(\u001b[0m\u001b[1;36m10\u001b[0m\u001b[1;33m)\u001b[0m\u001b[1;33m\u001b[0m\u001b[0m\n\u001b[0;32m      5\u001b[0m \u001b[0mturtle\u001b[0m\u001b[1;33m.\u001b[0m\u001b[0mgoto\u001b[0m\u001b[1;33m(\u001b[0m\u001b[1;33m-\u001b[0m\u001b[1;36m100\u001b[0m\u001b[1;33m,\u001b[0m\u001b[1;33m-\u001b[0m\u001b[1;36m100\u001b[0m\u001b[1;33m)\u001b[0m\u001b[1;33m\u001b[0m\u001b[0m\n",
      "\u001b[1;32m~\\Anaconda3\\lib\\turtle.py\u001b[0m in \u001b[0;36mpencolor\u001b[1;34m(*args)\u001b[0m\n",
      "\u001b[1;31mTerminator\u001b[0m: "
     ]
    }
   ],
   "source": [
    "#绘制一条线段\n",
    "import turtle\n",
    "turtle.pencolor(\"red\")\n",
    "turtle.pensize(10)\n",
    "turtle.goto(-100,-100)\n",
    "turtle.hideturtle() #隐藏笔头\n",
    "turtle.exitonclick()  "
   ]
  },
  {
   "cell_type": "markdown",
   "metadata": {},
   "source": [
    "###  2.2.2 绘制一个正方形"
   ]
  },
  {
   "cell_type": "code",
   "execution_count": null,
   "metadata": {
    "collapsed": true
   },
   "outputs": [],
   "source": [
    "问题描述\n"
   ]
  },
  {
   "cell_type": "code",
   "execution_count": null,
   "metadata": {
    "collapsed": true
   },
   "outputs": [],
   "source": [
    "相关数学概念\n",
    "\n"
   ]
  },
  {
   "cell_type": "code",
   "execution_count": null,
   "metadata": {
    "collapsed": true
   },
   "outputs": [],
   "source": [
    "相关Python概念\n"
   ]
  },
  {
   "cell_type": "code",
   "execution_count": null,
   "metadata": {},
   "outputs": [],
   "source": [
    "#for 编程猫\n",
    "import turtle\n",
    "t = turtle.Pen()\n",
    "turtle.bgcolor(\"black\")\n",
    "t.pencolor(\"red\")\n",
    "t.pensize(10)\n",
    "for i in range(4):    #确定边的数量\n",
    "    t.forward(50)  #确定边的长度\n",
    "    t.left(90)   #改变角度大小\n",
    "print(\"欢迎来到源码世界！\")\n"
   ]
  },
  {
   "cell_type": "code",
   "execution_count": null,
   "metadata": {
    "collapsed": true
   },
   "outputs": [],
   "source": [
    "import turtle\n",
    "turtle.penup()  #抬笔\n",
    "turtle.goto(-100, -100) # 确定起点\n",
    "turtle.pendown()  #落笔\n",
    "turtle.pencolor(\"green\")   #确定笔的颜色\n",
    "turtle.pensize(10)  #确定笔的大小\n",
    "turtle.speed(1)\n",
    "for i in range(4):    #确定边的数量\n",
    "    turtle.forward(200)  #确定边的长度\n",
    "    turtle.left(90)   #改变角度大小\n",
    "turtle.hideturtle() #隐藏笔头\n",
    "\n",
    "turtle.penup()  #抬笔\n",
    "turtle.goto(-150, -150) # 确定起点\n",
    "turtle.pendown()  #落笔\n",
    "turtle.pencolor(\"red\")   #确定笔的颜色\n",
    "turtle.pensize(10)  #确定笔的大小\n",
    "turtle.speed(1)\n",
    "for i in range(4):    #确定边的数量\n",
    "    turtle.forward(300)  #确定边的长度\n",
    "    turtle.left(90)   #改变角度大小\n",
    "turtle.hideturtle() #隐藏笔头\n",
    "\n",
    "turtle.exitonclick()  #退出\n"
   ]
  },
  {
   "cell_type": "markdown",
   "metadata": {},
   "source": [
    "###  2.2.3 绘制一个正多边形"
   ]
  },
  {
   "cell_type": "code",
   "execution_count": null,
   "metadata": {},
   "outputs": [],
   "source": [
    "import turtle\n",
    "turtle.penup()  #抬笔\n",
    "turtle.goto(-100, -100) # 确定起点\n",
    "turtle.pendown()  #落笔\n",
    "turtle.pencolor(\"green\")   #确定笔的颜色\n",
    "turtle.pensize(10)  #确定笔的大小\n",
    "turtle.speed(1)\n",
    "for i in range(6):    #确定边的数量\n",
    "    turtle.forward(200)  #确定边的长度\n",
    "    turtle.left(60)   #改变角度大小\n",
    "turtle.hideturtle() #隐藏笔头\n",
    "turtle.exitonclick()  #退出"
   ]
  },
  {
   "cell_type": "markdown",
   "metadata": {
    "collapsed": true
   },
   "source": [
    "###  2.2.4 绘制蜂巢"
   ]
  },
  {
   "cell_type": "markdown",
   "metadata": {},
   "source": [
    "http://www.ipaomi.com/2017/11/22/python-零基础-快速入门-趣味教程-咪博士-海龟绘图-turtle-5-参/"
   ]
  },
  {
   "cell_type": "code",
   "execution_count": null,
   "metadata": {
    "collapsed": true
   },
   "outputs": [],
   "source": [
    "import turtle\n",
    "turtle.pencolor(\"green\")   #确定笔的颜色\n",
    "turtle.pensize(10)  #确定笔的大小\n",
    "turtle.speed(1)\n",
    " \n",
    "def hexagon(size):\n",
    "  for i in range(6):\n",
    "      turtle.forward(size)\n",
    "      turtle.left(60)\n",
    " \n",
    "def honeycomb(size):\n",
    "    for i in range (6):\n",
    "        hexagon(size)\n",
    "        turtle.forward(size)\n",
    "        turtle.right(60)\n",
    " \n",
    "honeycomb(80)\n",
    " \n",
    "turtle.exitonclick()"
   ]
  },
  {
   "cell_type": "markdown",
   "metadata": {},
   "source": [
    "### 2.2.5 绘制一个圆并涂色"
   ]
  },
  {
   "cell_type": "markdown",
   "metadata": {},
   "source": [
    "问题描述问题描述:\n"
   ]
  },
  {
   "cell_type": "markdown",
   "metadata": {
    "collapsed": true
   },
   "source": [
    "相关数学概念:\n"
   ]
  },
  {
   "cell_type": "markdown",
   "metadata": {
    "collapsed": true
   },
   "source": [
    "相关Python概念:\n"
   ]
  },
  {
   "cell_type": "markdown",
   "metadata": {},
   "source": [
    "参考代码："
   ]
  },
  {
   "cell_type": "code",
   "execution_count": null,
   "metadata": {
    "collapsed": true
   },
   "outputs": [],
   "source": [
    "# for 编程猫\n",
    "import turtle\n",
    "t = turtle.Pen()\n",
    "turtle.bgcolor(\"black\")\n",
    "t.pencolor(\"red\")\n",
    "t.pensize(1)\n",
    "for i in range(360):    #确定边的数量\n",
    "    t.forward(1)  #确定边的长度\n",
    "    t.left(1)   #改变角度大小\n",
    "print(\"欢迎来到源码世界！\")"
   ]
  },
  {
   "cell_type": "code",
   "execution_count": null,
   "metadata": {
    "collapsed": true
   },
   "outputs": [],
   "source": [
    "import turtle\n",
    "turtle.penup()\n",
    "turtle.goto(-100, -100)\n",
    "turtle.pendown()\n",
    "turtle.color(\"red\", \"green\") #确定笔的颜色和填充色\n",
    "turtle.pensize(50)\n",
    "turtle.begin_fill()\n",
    "turtle.circle(100)\n",
    "turtle.end_fill()\n",
    "turtle.exitonclick()\n"
   ]
  },
  {
   "cell_type": "markdown",
   "metadata": {
    "collapsed": true,
    "hide_input": false
   },
   "source": [
    "### 2.2.6 绘制奥运五环 "
   ]
  },
  {
   "cell_type": "markdown",
   "metadata": {},
   "source": [
    "问题描述问题描述:\n"
   ]
  },
  {
   "cell_type": "markdown",
   "metadata": {
    "collapsed": true
   },
   "source": [
    "相关数学概念:\n"
   ]
  },
  {
   "cell_type": "markdown",
   "metadata": {
    "collapsed": true
   },
   "source": [
    "相关Python概念:\n"
   ]
  },
  {
   "cell_type": "markdown",
   "metadata": {},
   "source": [
    "参考代码："
   ]
  },
  {
   "cell_type": "markdown",
   "metadata": {
    "collapsed": true
   },
   "source": [
    "问题描述：请参考奥运五环的Logo绘制一个相同的图形"
   ]
  },
  {
   "cell_type": "markdown",
   "metadata": {
    "collapsed": true
   },
   "source": [
    "相关数学概念（标签）：圆，半径，圆心距"
   ]
  },
  {
   "cell_type": "markdown",
   "metadata": {
    "collapsed": true
   },
   "source": [
    "相关Python概念（标签）：turtle,circle"
   ]
  },
  {
   "cell_type": "markdown",
   "metadata": {
    "collapsed": true
   },
   "source": [
    "参考代码一："
   ]
  },
  {
   "cell_type": "code",
   "execution_count": null,
   "metadata": {
    "collapsed": true,
    "hide_input": false
   },
   "outputs": [],
   "source": [
    "import turtle\n",
    "import time\n",
    "wn=turtle.Screen()\n",
    "\n",
    "\n",
    "black = turtle.Turtle()\n",
    "black.speed(99999999999999999999999)\n",
    "black.pensize(11)\n",
    "black.color(\"butts\")\n",
    "black.circle(50)\n",
    "\n",
    "red = turtle.Turtle()\n",
    "red.speed(99999999999999999999999)\n",
    "red.pensize(11)\n",
    "red.color(\"red\")\n",
    "red.penup()\n",
    "red.forward(128)\n",
    "red.pendown()\n",
    "red.circle(50)\n",
    "\n",
    "b = turtle.Turtle()\n",
    "b.speed(999999999999999999)\n",
    "b.pensize(11)\n",
    "b.color(\"blue\")\n",
    "b.penup()\n",
    "b.backward(128)\n",
    "b.pendown()\n",
    "b.circle(50)\n",
    "\n",
    "g = turtle.Turtle()\n",
    "g.speed(99999999999999999999999999999999999)\n",
    "g.pensize(11)\n",
    "g.color(\"green\")\n",
    "g.penup()\n",
    "g.forward(14)\n",
    "g.right(90)\n",
    "g.pendown()\n",
    "g.circle(50)\n",
    "\n",
    "y = turtle.Turtle()\n",
    "y.speed(9999999999999999999999999999999999)\n",
    "y.pensize(11)\n",
    "y.color(\"yellow\")\n",
    "y.penup()\n",
    "y.backward(114)\n",
    "y.right(90)\n",
    "y.pendown()\n",
    "y.circle(50)\n",
    "\n",
    "time.sleep(.5)\n",
    "print(\"Yay!\")\n",
    "\n",
    "\n"
   ]
  },
  {
   "cell_type": "markdown",
   "metadata": {
    "collapsed": true,
    "hide_input": false
   },
   "source": [
    "参考代码二：\n"
   ]
  },
  {
   "cell_type": "code",
   "execution_count": null,
   "metadata": {
    "collapsed": true,
    "hide_input": false
   },
   "outputs": [],
   "source": [
    "import turtle\n",
    "turtle.penup()\n",
    "turtle.goto(-100, 50)\n",
    "turtle.pendown()\n",
    "turtle.pencolor(\"blue\") #确定笔的颜色和填充色\n",
    "turtle.pensize(7)\n",
    "turtle.circle(40)\n",
    "\n",
    "turtle.penup()\n",
    "turtle.goto(0, 50)\n",
    "turtle.pendown()\n",
    "turtle.pencolor(\"black\") #确定笔的颜色和填充色\n",
    "turtle.pensize(7)\n",
    "turtle.circle(40)\n",
    "\n",
    "turtle.penup()\n",
    "turtle.goto(100, 50)\n",
    "turtle.pendown()\n",
    "turtle.pencolor(\"red\") #确定笔的颜色和填充色\n",
    "turtle.pensize(7)\n",
    "turtle.circle(40)\n",
    "\n",
    "turtle.penup()\n",
    "turtle.goto(-50, 10)\n",
    "turtle.pendown()\n",
    "turtle.pencolor(\"yellow\") #确定笔的颜色和填充色\n",
    "turtle.pensize(7)\n",
    "turtle.circle(40)\n",
    "\n",
    "turtle.penup()\n",
    "turtle.goto(50, 10)\n",
    "turtle.pendown()\n",
    "turtle.pencolor(\"green\") #确定笔的颜色和填充色\n",
    "turtle.pensize(7)\n",
    "turtle.circle(40)\n",
    "\n",
    "turtle.exitonclick()\n",
    "\n",
    "\n"
   ]
  },
  {
   "cell_type": "markdown",
   "metadata": {
    "collapsed": true
   },
   "source": [
    "参考代码三："
   ]
  },
  {
   "cell_type": "code",
   "execution_count": null,
   "metadata": {
    "collapsed": true
   },
   "outputs": [],
   "source": [
    "import turtle\n",
    "\n",
    "def main():\n",
    "    turtle.setup(0.99,0.99,0,0)\n",
    "    p = turtle.Turtle()#画笔\n",
    "    p.hideturtle()\n",
    "    p.pensize(5)#设置画笔粗细\n",
    "    p.color(\"blue\")#设置画笔颜色及填充颜色\n",
    "    p.penup()#将画笔抬起\n",
    "    p.goto(-110, -25)  # 初始位置以中心坐标为(0,0)\n",
    "    p.pendown()\n",
    "    p.circle(45)  # 绘制圆的半径\n",
    "    p.color(\"black\")\n",
    "    p.penup()\n",
    "    p.goto(0, -25)\n",
    "    p.pendown()\n",
    "    p.circle(45)\n",
    "    p.color(\"red\")\n",
    "    p.penup()\n",
    "    p.goto(110, -25)\n",
    "    p.pendown()\n",
    "    p.circle(45)\n",
    "    p.color(\"yellow\")\n",
    "    p.penup()\n",
    "    p.goto(-55, -75)\n",
    "    p.pendown()\n",
    "    p.circle(45)\n",
    "    p.color(\"green\")\n",
    "    p.penup()\n",
    "    p.goto(55, -75)\n",
    "    p.pendown()\n",
    "    p.circle(45)\n",
    "    turtle.done()\n",
    "\n",
    "\n",
    "\n",
    "if __name__ == \"__main__\":\n",
    "    main()## 2.2 Draw the logo of Olympic Games"
   ]
  },
  {
   "cell_type": "markdown",
   "metadata": {},
   "source": [
    "小结："
   ]
  },
  {
   "cell_type": "markdown",
   "metadata": {},
   "source": [
    "### 2.2.7 Draw Yinyang of Taiji"
   ]
  },
  {
   "cell_type": "markdown",
   "metadata": {},
   "source": [
    "问题描述问题描述:\n"
   ]
  },
  {
   "cell_type": "markdown",
   "metadata": {
    "collapsed": true
   },
   "source": [
    "相关数学概念:\n"
   ]
  },
  {
   "cell_type": "markdown",
   "metadata": {
    "collapsed": true
   },
   "source": [
    "相关Python概念:\n"
   ]
  },
  {
   "cell_type": "markdown",
   "metadata": {},
   "source": [
    "参考代码："
   ]
  },
  {
   "cell_type": "code",
   "execution_count": null,
   "metadata": {
    "collapsed": true
   },
   "outputs": [],
   "source": [
    "#!/usr/bin/env python3\n",
    "\"\"\"       turtle-example-suite:\n",
    "\n",
    "            tdemo_yinyang.py\n",
    "\n",
    "Another drawing suitable as a beginner's\n",
    "programming example.\n",
    "\n",
    "The small circles are drawn by the circle\n",
    "command.\n",
    "\n",
    "\"\"\"\n",
    "\n",
    "from turtle import *\n",
    "\n",
    "def yin(radius, color1, color2):\n",
    "    width(3)\n",
    "    color(\"black\", color1)\n",
    "    begin_fill()\n",
    "    circle(radius/2., 180)\n",
    "    circle(radius, 180)\n",
    "    left(180)\n",
    "    circle(-radius/2., 180)\n",
    "    end_fill()\n",
    "    left(90)\n",
    "    up()\n",
    "    forward(radius*0.35)\n",
    "    right(90)\n",
    "    down()\n",
    "    color(color1, color2)\n",
    "    begin_fill()\n",
    "    circle(radius*0.15)\n",
    "    end_fill()\n",
    "    left(90)\n",
    "    up()\n",
    "    backward(radius*0.35)\n",
    "    down()\n",
    "    left(90)\n",
    "\n",
    "def main():\n",
    "    reset()\n",
    "    yin(200, \"black\", \"white\")\n",
    "    yin(200, \"white\", \"black\")\n",
    "    ht()\n",
    "    return \"Done!\"\n",
    "\n",
    "if __name__ == '__main__':\n",
    "    main()\n",
    "    mainloop()\n"
   ]
  },
  {
   "cell_type": "markdown",
   "metadata": {},
   "source": [
    "### 2.2.8 Draw a flower"
   ]
  },
  {
   "cell_type": "code",
   "execution_count": null,
   "metadata": {
    "collapsed": true
   },
   "outputs": [],
   "source": [
    "from turtle import *\n",
    "color('red', 'yellow')\n",
    "begin_fill()\n",
    "while True:\n",
    "    forward(200)\n",
    "    left(170)\n",
    "    if abs(pos()) < 1:\n",
    "        break\n",
    "end_fill()\n",
    "done()"
   ]
  },
  {
   "cell_type": "code",
   "execution_count": null,
   "metadata": {
    "collapsed": true
   },
   "outputs": [],
   "source": [
    "多个tutle"
   ]
  },
  {
   "cell_type": "code",
   "execution_count": null,
   "metadata": {
    "collapsed": true
   },
   "outputs": [],
   "source": [
    "import turtle\n",
    "t1 = turtle.Pen()\n",
    "t2 = turtle.Pen()\n",
    "t3 = turtle.Pen()\n",
    "turtle.bgcolor(\"black\")\n",
    "t1.pencolor(\"red\")\n",
    "t2.pencolor(\"yellow\")\n",
    "t3.pencolor(\"purple\")\n",
    "for x in range(4):\n",
    "    t1.circle(50)\n",
    "    t1.left(90)\n",
    "    t2.circle(60)\n",
    "    t2.left(90)\n",
    "    t3.circle(70)\n",
    "    t3.left(90)\n",
    "print(\"欢迎来到源码世界！\")"
   ]
  },
  {
   "cell_type": "markdown",
   "metadata": {},
   "source": []
  },
  {
   "cell_type": "markdown",
   "metadata": {},
   "source": [
    "## 2.3质数专题"
   ]
  },
  {
   "cell_type": "markdown",
   "metadata": {
    "collapsed": true
   },
   "source": [
    "\n",
    "质数定义为在大于1的自然数中，除了1和它本身以外不再有其他因数。\n",
    "\n",
    "质数（prime number）又称素数，有无限个。\n"
   ]
  },
  {
   "cell_type": "markdown",
   "metadata": {},
   "source": [
    "### 2.3.1质数判断"
   ]
  },
  {
   "cell_type": "markdown",
   "metadata": {},
   "source": [
    "问题描述问题描述:\n"
   ]
  },
  {
   "cell_type": "markdown",
   "metadata": {
    "collapsed": true
   },
   "source": [
    "相关数学概念:\n"
   ]
  },
  {
   "cell_type": "markdown",
   "metadata": {
    "collapsed": true
   },
   "source": [
    "相关Python概念:\n"
   ]
  },
  {
   "cell_type": "markdown",
   "metadata": {},
   "source": [
    "参考代码："
   ]
  },
  {
   "cell_type": "code",
   "execution_count": null,
   "metadata": {},
   "outputs": [],
   "source": [
    "n = int(input(\"please enter the number：\"))\n",
    "for i in range(2, n):\n",
    "    if n % i == 0:\n",
    "        print(\" %d is not a prime number！\" % n)\n",
    "        break\n",
    "else:\n",
    "    print(\" %d is a prime number！\" % n)\n"
   ]
  },
  {
   "cell_type": "markdown",
   "metadata": {},
   "source": [
    "### 2.3.2求n以内的所有质数"
   ]
  },
  {
   "cell_type": "markdown",
   "metadata": {},
   "source": [
    "问题描述问题描述:\n"
   ]
  },
  {
   "cell_type": "markdown",
   "metadata": {
    "collapsed": true
   },
   "source": [
    "相关数学概念:\n"
   ]
  },
  {
   "cell_type": "markdown",
   "metadata": {
    "collapsed": true
   },
   "source": [
    "相关Python概念:\n"
   ]
  },
  {
   "cell_type": "markdown",
   "metadata": {},
   "source": [
    "参考代码："
   ]
  },
  {
   "cell_type": "code",
   "execution_count": null,
   "metadata": {},
   "outputs": [],
   "source": [
    "#!/usr/bin/python\n",
    "# -*- coding: UTF-8 -*-\n",
    " \n",
    "num=[];\n",
    "i=2\n",
    "for i in range(2,10):\n",
    "   j=2\n",
    "   for j in range(2,i):\n",
    "      if(i%j==0):\n",
    "         break\n",
    "   else:\n",
    "      num.append(i)\n",
    "print(num)"
   ]
  },
  {
   "cell_type": "markdown",
   "metadata": {},
   "source": [
    "### 2.3.3哥德巴赫猜想"
   ]
  },
  {
   "cell_type": "markdown",
   "metadata": {},
   "source": [
    "问题描述问题描述:\n"
   ]
  },
  {
   "cell_type": "markdown",
   "metadata": {
    "collapsed": true
   },
   "source": [
    "相关数学概念:\n"
   ]
  },
  {
   "cell_type": "markdown",
   "metadata": {
    "collapsed": true
   },
   "source": [
    "相关Python概念:\n"
   ]
  },
  {
   "cell_type": "markdown",
   "metadata": {},
   "source": [
    "参考代码："
   ]
  },
  {
   "cell_type": "code",
   "execution_count": null,
   "metadata": {},
   "outputs": [],
   "source": [
    "#哥德巴赫猜想\n",
    "def ISprime(n): #素数的函数\n",
    "    i=2\n",
    "    while i<=n:\n",
    "        if n%i==0:\n",
    "            break\n",
    "        i+=1\n",
    "    if i==n:\n",
    "        return True\n",
    "B=input('输入大于6的偶数')\n",
    "B=int(B)\n",
    "if B%2==0:\n",
    "    i=1\n",
    "    while i<=B:\n",
    "        j=B-i\n",
    "        if ISprime(i):\n",
    "            if ISprime(j) and i<=j:#i<=j是为了防止重复\n",
    "                print('%d+%d=%d'%(i,j,B))\n",
    "        i+=1\n",
    "else:\n",
    "    print('no even')"
   ]
  },
  {
   "cell_type": "markdown",
   "metadata": {
    "collapsed": true
   },
   "source": [
    "### 2.3.4分解质因数"
   ]
  },
  {
   "cell_type": "markdown",
   "metadata": {},
   "source": [
    "问题描述问题描述:\n"
   ]
  },
  {
   "cell_type": "markdown",
   "metadata": {
    "collapsed": true
   },
   "source": [
    "相关数学概念:\n"
   ]
  },
  {
   "cell_type": "markdown",
   "metadata": {
    "collapsed": true
   },
   "source": [
    "相关Python概念:\n"
   ]
  },
  {
   "cell_type": "markdown",
   "metadata": {},
   "source": [
    "参考代码："
   ]
  },
  {
   "cell_type": "code",
   "execution_count": null,
   "metadata": {},
   "outputs": [],
   "source": [
    "import math\n",
    "\n",
    "print(\"请输入一个正整数：\")\n",
    "n = int(input())\n",
    "if n <= 0:\n",
    "    print(\"请输入正整数\")\n",
    "i=2\n",
    "if n!=1:\n",
    "    while i!=n:\n",
    "        if n % i == 0:\n",
    "            print(i)\n",
    "            n = n // i\n",
    "        else:\n",
    "            i+=1\n",
    "    print(i)\n",
    "else:\n",
    "    print(n)"
   ]
  },
  {
   "cell_type": "markdown",
   "metadata": {},
   "source": [
    "## 2.4 Matplotlib专题"
   ]
  },
  {
   "cell_type": "markdown",
   "metadata": {},
   "source": [
    "Matplotlib 是一个 Python 的 2D绘图库，它以各种硬拷贝格式和跨平台的交互式环境生成“出版质量级别”的图形。\n",
    "通过 Matplotlib，开发者可以仅需要几行代码，便可以生成绘图，直方图，功率谱，条形图，错误图，散点图等。"
   ]
  },
  {
   "cell_type": "markdown",
   "metadata": {},
   "source": [
    "### 2.4.1 绘制正弦余弦函数图像"
   ]
  },
  {
   "cell_type": "markdown",
   "metadata": {},
   "source": [
    "问题描述问题描述:\n"
   ]
  },
  {
   "cell_type": "markdown",
   "metadata": {
    "collapsed": true
   },
   "source": [
    "相关数学概念:\n"
   ]
  },
  {
   "cell_type": "markdown",
   "metadata": {
    "collapsed": true
   },
   "source": [
    "相关Python概念:\n"
   ]
  },
  {
   "cell_type": "markdown",
   "metadata": {},
   "source": [
    "参考代码："
   ]
  },
  {
   "cell_type": "code",
   "execution_count": null,
   "metadata": {
    "scrolled": true
   },
   "outputs": [],
   "source": [
    "from pylab import *\n",
    "\n",
    "X = np.linspace(-np.pi, np.pi, 256,endpoint=True)\n",
    "C,S = np.cos(X), np.sin(X)\n",
    "\n",
    "plot(X,C)\n",
    "plot(X,S)\n",
    "\n",
    "show()"
   ]
  },
  {
   "cell_type": "code",
   "execution_count": null,
   "metadata": {},
   "outputs": [],
   "source": [
    "# 导入 matplotlib 的所有内容（nympy 可以用 np 这个名字来使用）\n",
    "from pylab import *\n",
    "\n",
    "# 创建一个 8 * 6 点（point）的图，并设置分辨率为 80\n",
    "figure(figsize=(8,6), dpi=80)\n",
    "\n",
    "# 创建一个新的 1 * 1 的子图，接下来的图样绘制在其中的第 1 块（也是唯一的一块）\n",
    "subplot(1,1,1)\n",
    "\n",
    "X = np.linspace(-np.pi, np.pi, 256,endpoint=True)\n",
    "C,S = np.cos(X), np.sin(X)\n",
    "\n",
    "# 绘制余弦曲线，使用蓝色的、连续的、宽度为 1 （像素）的线条\n",
    "plot(X, C, color=\"blue\", linewidth=1.0, linestyle=\"-\")\n",
    "\n",
    "# 绘制正弦曲线，使用绿色的、连续的、宽度为 1 （像素）的线条\n",
    "plot(X, S, color=\"green\", linewidth=5.0, linestyle=\"-\")\n",
    "\n",
    "# 设置横轴的上下限\n",
    "xlim(-4.0,4.0)\n",
    "\n",
    "# 设置横轴记号\n",
    "xticks(np.linspace(-4,4,9,endpoint=True))\n",
    "\n",
    "# 设置纵轴的上下限\n",
    "ylim(-1.2,1.2)\n",
    "\n",
    "# 设置纵轴记号\n",
    "yticks(np.linspace(-1,1,5,endpoint=True))\n",
    "\n",
    "# 以分辨率 72 来保存图片\n",
    "savefig(\"exercice_2.png\",dpi=72)\n",
    "\n",
    "# 在屏幕上显示\n",
    "show()"
   ]
  },
  {
   "cell_type": "code",
   "execution_count": null,
   "metadata": {},
   "outputs": [],
   "source": [
    "from pylab import *\n",
    "\n",
    "n = 256\n",
    "X = np.linspace(-np.pi,np.pi,n,endpoint=True)\n",
    "Y = np.sin(2*X)\n",
    "\n",
    "plot (X, Y+1, color='blue', alpha=1.00)\n",
    "plot (X, Y-1, color='blue', alpha=1.00)\n",
    "show()"
   ]
  },
  {
   "cell_type": "markdown",
   "metadata": {
    "collapsed": true
   },
   "source": [
    "### 2.4.2 饼状图\n"
   ]
  },
  {
   "cell_type": "markdown",
   "metadata": {},
   "source": [
    "问题描述问题描述:\n"
   ]
  },
  {
   "cell_type": "markdown",
   "metadata": {
    "collapsed": true
   },
   "source": [
    "相关数学概念:\n"
   ]
  },
  {
   "cell_type": "markdown",
   "metadata": {
    "collapsed": true
   },
   "source": [
    "相关Python概念:\n"
   ]
  },
  {
   "cell_type": "markdown",
   "metadata": {},
   "source": [
    "参考代码："
   ]
  },
  {
   "cell_type": "code",
   "execution_count": null,
   "metadata": {},
   "outputs": [],
   "source": [
    "import matplotlib.pyplot as plt\n",
    "labels='frogs','hogs','dogs','logs'\n",
    "sizes=15,20,45,10\n",
    "colors='yellowgreen','gold','lightskyblue','lightcoral'\n",
    "explode=0,0.1,0,0.1\n",
    "plt.pie(sizes,explode=explode,labels=labels,colors=colors,autopct='%1.1f%%',shadow=True,startangle=40)\n",
    "plt.axis('equal')\n",
    "plt.show()"
   ]
  },
  {
   "cell_type": "markdown",
   "metadata": {},
   "source": [
    "### 2.4.3 散点图"
   ]
  },
  {
   "cell_type": "markdown",
   "metadata": {},
   "source": [
    "问题描述问题描述:\n"
   ]
  },
  {
   "cell_type": "markdown",
   "metadata": {
    "collapsed": true
   },
   "source": [
    "相关数学概念:\n"
   ]
  },
  {
   "cell_type": "markdown",
   "metadata": {
    "collapsed": true
   },
   "source": [
    "相关Python概念:\n"
   ]
  },
  {
   "cell_type": "markdown",
   "metadata": {},
   "source": [
    "参考代码："
   ]
  },
  {
   "cell_type": "code",
   "execution_count": null,
   "metadata": {},
   "outputs": [],
   "source": [
    "from pylab import *\n",
    "\n",
    "n = 100\n",
    "X = np.random.normal(0,1,n)\n",
    "Y = np.random.normal(0,1,n)\n",
    "\n",
    "scatter(X,Y)\n",
    "show()"
   ]
  },
  {
   "cell_type": "markdown",
   "metadata": {},
   "source": [
    "### 2.4.4 条形图"
   ]
  },
  {
   "cell_type": "markdown",
   "metadata": {},
   "source": [
    "问题描述问题描述:\n"
   ]
  },
  {
   "cell_type": "markdown",
   "metadata": {
    "collapsed": true
   },
   "source": [
    "相关数学概念:\n"
   ]
  },
  {
   "cell_type": "markdown",
   "metadata": {
    "collapsed": true
   },
   "source": [
    "相关Python概念:\n"
   ]
  },
  {
   "cell_type": "markdown",
   "metadata": {},
   "source": [
    "参考代码："
   ]
  },
  {
   "cell_type": "code",
   "execution_count": null,
   "metadata": {},
   "outputs": [],
   "source": [
    "# Credit: Josh Hemann\n",
    "\n",
    "import numpy as np\n",
    "import matplotlib.pyplot as plt\n",
    "from matplotlib.ticker import MaxNLocator\n",
    "from collections import namedtuple\n",
    "\n",
    "\n",
    "n_groups = 5\n",
    "\n",
    "means_men = (20, 35, 30, 35, 27)\n",
    "std_men = (2, 3, 4, 1, 2)\n",
    "\n",
    "means_women = (25, 32, 34, 20, 25)\n",
    "std_women = (3, 5, 2, 3, 3)\n",
    "\n",
    "fig, ax = plt.subplots()\n",
    "\n",
    "index = np.arange(n_groups)\n",
    "bar_width = 0.35\n",
    "\n",
    "opacity = 0.4\n",
    "error_config = {'ecolor': '0.3'}\n",
    "\n",
    "rects1 = ax.bar(index, means_men, bar_width,\n",
    "                alpha=opacity, color='b',\n",
    "                yerr=std_men, error_kw=error_config,\n",
    "                label='Men')\n",
    "\n",
    "rects2 = ax.bar(index + bar_width, means_women, bar_width,\n",
    "                alpha=opacity, color='r',\n",
    "                yerr=std_women, error_kw=error_config,\n",
    "                label='Women')\n",
    "\n",
    "ax.set_xlabel('Group')\n",
    "ax.set_ylabel('Scores')\n",
    "ax.set_title('Scores by group and gender')\n",
    "ax.set_xticks(index + bar_width / 2)\n",
    "ax.set_xticklabels(('A', 'B', 'C', 'D', 'E'))\n",
    "ax.legend()\n",
    "\n",
    "fig.tight_layout()\n",
    "plt.show()"
   ]
  },
  {
   "cell_type": "code",
   "execution_count": null,
   "metadata": {},
   "outputs": [],
   "source": [
    "import matplotlib.pyplot as plt\n",
    "import numpy as np\n",
    "\n",
    "# Fixing random state for reproducibility\n",
    "np.random.seed(19680801)\n",
    "\n",
    "\n",
    "# the bar\n",
    "x = np.where(np.random.rand(500) > 0.7, 1.0, 0.0)\n",
    "\n",
    "axprops = dict(xticks=[], yticks=[])\n",
    "barprops = dict(aspect='auto', cmap=plt.cm.binary, interpolation='nearest')\n",
    "\n",
    "fig = plt.figure()\n",
    "\n",
    "# a vertical barcode -- this is broken at present\n",
    "ax = fig.add_axes([0.1, 0.3, 0.1, 0.6], **axprops)\n",
    "ax.imshow(x.reshape((-1, 1)), **barprops)\n",
    "\n",
    "# a horizontal barcode\n",
    "ax = fig.add_axes([0.3, 0.1, 0.6, 0.1], **axprops)\n",
    "ax.imshow(x.reshape((1, -1)), **barprops)\n",
    "\n",
    "\n",
    "plt.show()"
   ]
  },
  {
   "cell_type": "code",
   "execution_count": null,
   "metadata": {},
   "outputs": [],
   "source": [
    "from mpl_toolkits.mplot3d import axes3d\n",
    "import matplotlib.pyplot as plt\n",
    "import numpy as np\n",
    "from matplotlib import style\n",
    "style.use('ggplot')\n",
    "\n",
    "fig = plt.figure()\n",
    "ax1 = fig.add_subplot(111, projection='3d')\n",
    "\n",
    "x3 = [1,2,3,4,5,6,7,8,9,10]\n",
    "y3 = [5,6,7,8,2,5,6,3,7,2]\n",
    "z3 = np.zeros(10)\n",
    "\n",
    "dx = np.ones(10)\n",
    "dy = np.ones(10)\n",
    "dz = [1,2,3,4,5,6,7,8,9,10]\n",
    "\n",
    "ax1.bar3d(x3, y3, z3, dx, dy, dz)\n",
    "\n",
    "\n",
    "ax1.set_xlabel('x axis')\n",
    "ax1.set_ylabel('y axis')\n",
    "ax1.set_zlabel('z axis')\n",
    "\n",
    "plt.show()"
   ]
  },
  {
   "cell_type": "markdown",
   "metadata": {},
   "source": [
    "### 2.4.5等高线图"
   ]
  },
  {
   "cell_type": "code",
   "execution_count": null,
   "metadata": {
    "collapsed": true
   },
   "outputs": [],
   "source": []
  },
  {
   "cell_type": "code",
   "execution_count": null,
   "metadata": {},
   "outputs": [],
   "source": [
    "from pylab import *\n",
    "\n",
    "def f(x,y): return (1-x/2+x**5+y**3)*np.exp(-x**2-y**2)\n",
    "\n",
    "n = 256\n",
    "x = np.linspace(-3,3,n)\n",
    "y = np.linspace(-3,3,n)\n",
    "X,Y = np.meshgrid(x,y)\n",
    "\n",
    "contourf(X, Y, f(X,Y), 8, alpha=.75, cmap='jet')\n",
    "C = contour(X, Y, f(X,Y), 8, colors='black', linewidth=.5)\n",
    "show()"
   ]
  },
  {
   "cell_type": "code",
   "execution_count": null,
   "metadata": {
    "collapsed": true
   },
   "outputs": [],
   "source": []
  },
  {
   "cell_type": "code",
   "execution_count": null,
   "metadata": {},
   "outputs": [],
   "source": [
    "from pylab import *\n",
    "from mpl_toolkits.mplot3d import Axes3D\n",
    "\n",
    "fig = figure()\n",
    "ax = Axes3D(fig)\n",
    "X = np.arange(-4, 4, 0.25)\n",
    "Y = np.arange(-4, 4, 0.25)\n",
    "X, Y = np.meshgrid(X, Y)\n",
    "R = np.sqrt(X**2 + Y**2)\n",
    "Z = np.sin(R)\n",
    "\n",
    "ax.plot_surface(X, Y, Z, rstride=1, cstride=1, cmap='hot')\n",
    "\n",
    "show()"
   ]
  },
  {
   "cell_type": "code",
   "execution_count": null,
   "metadata": {},
   "outputs": [],
   "source": [
    "import matplotlib.pyplot as plt\n",
    "import numpy as np\n",
    "from matplotlib.patches import Ellipse\n",
    "\n",
    "NUM = 250\n",
    "\n",
    "ells = [Ellipse(xy=np.random.rand(2) * 10,\n",
    "                width=np.random.rand(), height=np.random.rand(),\n",
    "                angle=np.random.rand() * 360)\n",
    "        for i in range(NUM)]\n",
    "\n",
    "fig, ax = plt.subplots(subplot_kw={'aspect': 'equal'})\n",
    "for e in ells:\n",
    "    ax.add_artist(e)\n",
    "    e.set_clip_box(ax.bbox)\n",
    "    e.set_alpha(np.random.rand())\n",
    "    e.set_facecolor(np.random.rand(3))\n",
    "\n",
    "ax.set_xlim(0, 10)\n",
    "ax.set_ylim(0, 10)\n",
    "\n",
    "plt.show()"
   ]
  },
  {
   "cell_type": "code",
   "execution_count": null,
   "metadata": {},
   "outputs": [],
   "source": [
    "import matplotlib.pyplot as plt\n",
    "import numpy as np\n",
    "\n",
    "x = np.arange(6)\n",
    "y = np.arange(5)\n",
    "z = x * y[:, np.newaxis]\n",
    "\n",
    "for i in range(5):\n",
    "    if i == 0:\n",
    "        p = plt.imshow(z)\n",
    "        fig = plt.gcf()\n",
    "        plt.clim()   # clamp the color limits\n",
    "        plt.title(\"Boring slide show\")\n",
    "    else:\n",
    "        z = z + 2\n",
    "        p.set_data(z)\n",
    "\n",
    "    print(\"step\", i)\n",
    "    plt.pause(0.5)"
   ]
  },
  {
   "cell_type": "code",
   "execution_count": null,
   "metadata": {},
   "outputs": [],
   "source": [
    "import matplotlib.pyplot as plt\n",
    "\n",
    "ax = plt.axes()\n",
    "ax.arrow(0, 0, 0.5, 0.5, head_width=0.05, head_length=0.1, fc='k', ec='k')\n",
    "plt.show()"
   ]
  },
  {
   "cell_type": "code",
   "execution_count": null,
   "metadata": {},
   "outputs": [],
   "source": [
    "import numpy as np\n",
    "import matplotlib.pyplot as plt\n",
    "\n",
    "t = np.arange(-1, 2, .01)\n",
    "s = np.sin(2 * np.pi * t)\n",
    "\n",
    "plt.plot(t, s)\n",
    "# Draw a thick red hline at y=0 that spans the xrange\n",
    "plt.axhline(linewidth=8, color='#d62728')\n",
    "\n",
    "# Draw a default hline at y=1 that spans the xrange\n",
    "plt.axhline(y=1)\n",
    "\n",
    "# Draw a default vline at x=1 that spans the yrange\n",
    "plt.axvline(x=1)\n",
    "\n",
    "# Draw a thick blue vline at x=0 that spans the upper quadrant of the yrange\n",
    "plt.axvline(x=0, ymin=0.75, linewidth=8, color='#1f77b4')\n",
    "\n",
    "# Draw a default hline at y=.5 that spans the middle half of the axes\n",
    "plt.axhline(y=.5, xmin=0.25, xmax=0.75)\n",
    "\n",
    "plt.axhspan(0.25, 0.75, facecolor='0.5', alpha=0.5)\n",
    "\n",
    "plt.axvspan(1.25, 1.55, facecolor='#2ca02c', alpha=0.5)\n",
    "\n",
    "plt.axis([-1, 2, -1, 2])\n",
    "\n",
    "plt.show()"
   ]
  },
  {
   "cell_type": "code",
   "execution_count": null,
   "metadata": {},
   "outputs": [],
   "source": [
    "import numpy as np\n",
    "import matplotlib.pyplot as plt\n",
    "\n",
    "# Data for plotting\n",
    "x1 = np.linspace(0.0, 5.0)\n",
    "x2 = np.linspace(0.0, 2.0)\n",
    "y1 = np.cos(2 * np.pi * x1) * np.exp(-x1)\n",
    "y2 = np.cos(2 * np.pi * x2)\n",
    "\n",
    "# Create two subplots sharing y axis\n",
    "fig, (ax1, ax2) = plt.subplots(2, sharey=True)\n",
    "\n",
    "ax1.plot(x1, y1, 'ko-')\n",
    "ax1.set(title='A tale of 2 subplots', ylabel='Damped oscillation')\n",
    "\n",
    "ax2.plot(x2, y2, 'r.-')\n",
    "ax2.set(xlabel='time (s)', ylabel='Undamped')\n",
    "\n",
    "plt.show()"
   ]
  },
  {
   "cell_type": "code",
   "execution_count": null,
   "metadata": {},
   "outputs": [],
   "source": [
    "import matplotlib.pyplot as plt\n",
    "import numpy as np\n",
    "\n",
    "t = np.arange(0.0, 2.0, 0.01)\n",
    "s = np.sin(2 * np.pi * t)\n",
    "\n",
    "fig, ax = plt.subplots(facecolor='darkslategray')\n",
    "ax.plot(t, s, 'C1')\n",
    "ax.set_xlabel('time (s)', color='C1')\n",
    "ax.set_ylabel('voltage (mV)', color='0.5')  # grayscale color\n",
    "ax.set_title('About as silly as it gets, folks', color='#afeeee')\n",
    "\n",
    "plt.show()"
   ]
  },
  {
   "cell_type": "code",
   "execution_count": null,
   "metadata": {},
   "outputs": [],
   "source": [
    "\"\"\"\n",
    "============================\n",
    "Colorbar Tick Labelling Demo\n",
    "============================\n",
    "\n",
    "Produce custom labelling for a colorbar.\n",
    "\n",
    "Contributed by Scott Sinclair\n",
    "\"\"\"\n",
    "\n",
    "import matplotlib.pyplot as plt\n",
    "import numpy as np\n",
    "from matplotlib import cm\n",
    "from numpy.random import randn\n",
    "\n",
    "###############################################################################\n",
    "# Make plot with vertical (default) colorbar\n",
    "\n",
    "fig, ax = plt.subplots()\n",
    "\n",
    "data = np.clip(randn(250, 250), -1, 1)\n",
    "\n",
    "cax = ax.imshow(data, interpolation='nearest', cmap=cm.coolwarm)\n",
    "ax.set_title('Gaussian noise with vertical colorbar')\n",
    "\n",
    "# Add colorbar, make sure to specify tick locations to match desired ticklabels\n",
    "cbar = fig.colorbar(cax, ticks=[-1, 0, 1])\n",
    "cbar.ax.set_yticklabels(['< -1', '0', '> 1'])  # vertically oriented colorbar\n",
    "\n",
    "###############################################################################\n",
    "# Make plot with horizontal colorbar\n",
    "\n",
    "fig, ax = plt.subplots()\n",
    "\n",
    "data = np.clip(randn(250, 250), -1, 1)\n",
    "\n",
    "cax = ax.imshow(data, interpolation='nearest', cmap=cm.afmhot)\n",
    "ax.set_title('Gaussian noise with horizontal colorbar')\n",
    "\n",
    "cbar = fig.colorbar(cax, ticks=[-1, 0, 1], orientation='horizontal')\n",
    "cbar.ax.set_xticklabels(['Low', 'Medium', 'High'])  # horizontal colorbar\n",
    "\n",
    "plt.show()\n"
   ]
  },
  {
   "cell_type": "code",
   "execution_count": null,
   "metadata": {},
   "outputs": [],
   "source": [
    "\"\"\"\n",
    "===========\n",
    "Cursor Demo\n",
    "===========\n",
    "\n",
    "This example shows how to use matplotlib to provide a data cursor.  It\n",
    "uses matplotlib to draw the cursor and may be a slow since this\n",
    "requires redrawing the figure with every mouse move.\n",
    "\n",
    "Faster cursoring is possible using native GUI drawing, as in\n",
    "wxcursor_demo.py.\n",
    "\n",
    "The mpldatacursor and mplcursors third-party packages can be used to achieve a\n",
    "similar effect.  See\n",
    "\n",
    "    https://github.com/joferkington/mpldatacursor\n",
    "    https://github.com/anntzer/mplcursors\n",
    "\"\"\"\n",
    "from __future__ import print_function\n",
    "import matplotlib.pyplot as plt\n",
    "import numpy as np\n",
    "\n",
    "\n",
    "class Cursor(object):\n",
    "    def __init__(self, ax):\n",
    "        self.ax = ax\n",
    "        self.lx = ax.axhline(color='k')  # the horiz line\n",
    "        self.ly = ax.axvline(color='k')  # the vert line\n",
    "\n",
    "        # text location in axes coords\n",
    "        self.txt = ax.text(0.7, 0.9, '', transform=ax.transAxes)\n",
    "\n",
    "    def mouse_move(self, event):\n",
    "        if not event.inaxes:\n",
    "            return\n",
    "\n",
    "        x, y = event.xdata, event.ydata\n",
    "        # update the line positions\n",
    "        self.lx.set_ydata(y)\n",
    "        self.ly.set_xdata(x)\n",
    "\n",
    "        self.txt.set_text('x=%1.2f, y=%1.2f' % (x, y))\n",
    "        plt.draw()\n",
    "\n",
    "\n",
    "class SnaptoCursor(object):\n",
    "    \"\"\"\n",
    "    Like Cursor but the crosshair snaps to the nearest x,y point\n",
    "    For simplicity, I'm assuming x is sorted\n",
    "    \"\"\"\n",
    "\n",
    "    def __init__(self, ax, x, y):\n",
    "        self.ax = ax\n",
    "        self.lx = ax.axhline(color='k')  # the horiz line\n",
    "        self.ly = ax.axvline(color='k')  # the vert line\n",
    "        self.x = x\n",
    "        self.y = y\n",
    "        # text location in axes coords\n",
    "        self.txt = ax.text(0.7, 0.9, '', transform=ax.transAxes)\n",
    "\n",
    "    def mouse_move(self, event):\n",
    "\n",
    "        if not event.inaxes:\n",
    "            return\n",
    "\n",
    "        x, y = event.xdata, event.ydata\n",
    "\n",
    "        indx = min(np.searchsorted(self.x, [x])[0], len(self.x) - 1)\n",
    "        x = self.x[indx]\n",
    "        y = self.y[indx]\n",
    "        # update the line positions\n",
    "        self.lx.set_ydata(y)\n",
    "        self.ly.set_xdata(x)\n",
    "\n",
    "        self.txt.set_text('x=%1.2f, y=%1.2f' % (x, y))\n",
    "        print('x=%1.2f, y=%1.2f' % (x, y))\n",
    "        plt.draw()\n",
    "\n",
    "t = np.arange(0.0, 1.0, 0.01)\n",
    "s = np.sin(2 * 2 * np.pi * t)\n",
    "fig, ax = plt.subplots()\n",
    "\n",
    "# cursor = Cursor(ax)\n",
    "cursor = SnaptoCursor(ax, t, s)\n",
    "plt.connect('motion_notify_event', cursor.mouse_move)\n",
    "\n",
    "ax.plot(t, s, 'o')\n",
    "plt.axis([0, 1, -1, 1])\n",
    "plt.show()\n"
   ]
  },
  {
   "cell_type": "code",
   "execution_count": null,
   "metadata": {},
   "outputs": [],
   "source": [
    "\"\"\"\n",
    "========\n",
    "CSD Demo\n",
    "========\n",
    "\n",
    "Compute the cross spectral density of two signals\n",
    "\"\"\"\n",
    "import numpy as np\n",
    "import matplotlib.pyplot as plt\n",
    "\n",
    "\n",
    "fig, (ax1, ax2) = plt.subplots(2, 1)\n",
    "# make a little extra space between the subplots\n",
    "fig.subplots_adjust(hspace=0.5)\n",
    "\n",
    "dt = 0.01\n",
    "t = np.arange(0, 30, dt)\n",
    "\n",
    "# Fixing random state for reproducibility\n",
    "np.random.seed(19680801)\n",
    "\n",
    "\n",
    "nse1 = np.random.randn(len(t))                 # white noise 1\n",
    "nse2 = np.random.randn(len(t))                 # white noise 2\n",
    "r = np.exp(-t / 0.05)\n",
    "\n",
    "cnse1 = np.convolve(nse1, r, mode='same') * dt   # colored noise 1\n",
    "cnse2 = np.convolve(nse2, r, mode='same') * dt   # colored noise 2\n",
    "\n",
    "# two signals with a coherent part and a random part\n",
    "s1 = 0.01 * np.sin(2 * np.pi * 10 * t) + cnse1\n",
    "s2 = 0.01 * np.sin(2 * np.pi * 10 * t) + cnse2\n",
    "\n",
    "ax1.plot(t, s1, t, s2)\n",
    "ax1.set_xlim(0, 5)\n",
    "ax1.set_xlabel('time')\n",
    "ax1.set_ylabel('s1 and s2')\n",
    "ax1.grid(True)\n",
    "\n",
    "cxy, f = ax2.csd(s1, s2, 256, 1. / dt)\n",
    "ax2.set_ylabel('CSD (db)')\n",
    "plt.show()\n"
   ]
  },
  {
   "cell_type": "code",
   "execution_count": null,
   "metadata": {},
   "outputs": [],
   "source": [
    "\"\"\"\n",
    "=====================\n",
    "Demo Curvelinear Grid\n",
    "=====================\n",
    "\n",
    "Custom grid and ticklines.\n",
    "\n",
    "This example demonstrates how to use GridHelperCurveLinear to define\n",
    "custom grids and ticklines by applying a transformation on the grid.\n",
    "This can be used, as showcase on the second plot, to create polar\n",
    "projections in a rectangular box.\n",
    "\"\"\"\n",
    "\n",
    "import numpy as np\n",
    "\n",
    "import matplotlib.pyplot as plt\n",
    "import matplotlib.cbook as cbook\n",
    "\n",
    "from mpl_toolkits.axisartist import Subplot\n",
    "from mpl_toolkits.axisartist import SubplotHost, \\\n",
    "    ParasiteAxesAuxTrans\n",
    "from mpl_toolkits.axisartist.grid_helper_curvelinear import \\\n",
    "    GridHelperCurveLinear\n",
    "\n",
    "\n",
    "def curvelinear_test1(fig):\n",
    "    \"\"\"\n",
    "    grid for custom transform.\n",
    "    \"\"\"\n",
    "\n",
    "    def tr(x, y):\n",
    "        x, y = np.asarray(x), np.asarray(y)\n",
    "        return x, y - x\n",
    "\n",
    "    def inv_tr(x, y):\n",
    "        x, y = np.asarray(x), np.asarray(y)\n",
    "        return x, y + x\n",
    "\n",
    "    grid_helper = GridHelperCurveLinear((tr, inv_tr))\n",
    "\n",
    "    ax1 = Subplot(fig, 1, 2, 1, grid_helper=grid_helper)\n",
    "    # ax1 will have a ticks and gridlines defined by the given\n",
    "    # transform (+ transData of the Axes). Note that the transform of\n",
    "    # the Axes itself (i.e., transData) is not affected by the given\n",
    "    # transform.\n",
    "\n",
    "    fig.add_subplot(ax1)\n",
    "\n",
    "    xx, yy = tr([3, 6], [5.0, 10.])\n",
    "    ax1.plot(xx, yy, linewidth=2.0)\n",
    "\n",
    "    ax1.set_aspect(1.)\n",
    "    ax1.set_xlim(0, 10.)\n",
    "    ax1.set_ylim(0, 10.)\n",
    "\n",
    "    ax1.axis[\"t\"] = ax1.new_floating_axis(0, 3.)\n",
    "    ax1.axis[\"t2\"] = ax1.new_floating_axis(1, 7.)\n",
    "    ax1.grid(True, zorder=0)\n",
    "\n",
    "\n",
    "import mpl_toolkits.axisartist.angle_helper as angle_helper\n",
    "\n",
    "from matplotlib.projections import PolarAxes\n",
    "from matplotlib.transforms import Affine2D\n",
    "\n",
    "\n",
    "def curvelinear_test2(fig):\n",
    "    \"\"\"\n",
    "    polar projection, but in a rectangular box.\n",
    "    \"\"\"\n",
    "\n",
    "    # PolarAxes.PolarTransform takes radian. However, we want our coordinate\n",
    "    # system in degree\n",
    "    tr = Affine2D().scale(np.pi/180., 1.) + PolarAxes.PolarTransform()\n",
    "\n",
    "    # polar projection, which involves cycle, and also has limits in\n",
    "    # its coordinates, needs a special method to find the extremes\n",
    "    # (min, max of the coordinate within the view).\n",
    "\n",
    "    # 20, 20 : number of sampling points along x, y direction\n",
    "    extreme_finder = angle_helper.ExtremeFinderCycle(20, 20,\n",
    "                                                     lon_cycle=360,\n",
    "                                                     lat_cycle=None,\n",
    "                                                     lon_minmax=None,\n",
    "                                                     lat_minmax=(0, np.inf),\n",
    "                                                     )\n",
    "\n",
    "    grid_locator1 = angle_helper.LocatorDMS(12)\n",
    "    # Find a grid values appropriate for the coordinate (degree,\n",
    "    # minute, second).\n",
    "\n",
    "    tick_formatter1 = angle_helper.FormatterDMS()\n",
    "    # And also uses an appropriate formatter.  Note that,the\n",
    "    # acceptable Locator and Formatter class is a bit different than\n",
    "    # that of mpl's, and you cannot directly use mpl's Locator and\n",
    "    # Formatter here (but may be possible in the future).\n",
    "\n",
    "    grid_helper = GridHelperCurveLinear(tr,\n",
    "                                        extreme_finder=extreme_finder,\n",
    "                                        grid_locator1=grid_locator1,\n",
    "                                        tick_formatter1=tick_formatter1\n",
    "                                        )\n",
    "\n",
    "    ax1 = SubplotHost(fig, 1, 2, 2, grid_helper=grid_helper)\n",
    "\n",
    "    # make ticklabels of right and top axis visible.\n",
    "    ax1.axis[\"right\"].major_ticklabels.set_visible(True)\n",
    "    ax1.axis[\"top\"].major_ticklabels.set_visible(True)\n",
    "\n",
    "    # let right axis shows ticklabels for 1st coordinate (angle)\n",
    "    ax1.axis[\"right\"].get_helper().nth_coord_ticks = 0\n",
    "    # let bottom axis shows ticklabels for 2nd coordinate (radius)\n",
    "    ax1.axis[\"bottom\"].get_helper().nth_coord_ticks = 1\n",
    "\n",
    "    fig.add_subplot(ax1)\n",
    "\n",
    "    # A parasite axes with given transform\n",
    "    ax2 = ParasiteAxesAuxTrans(ax1, tr, \"equal\")\n",
    "    # note that ax2.transData == tr + ax1.transData\n",
    "    # Anything you draw in ax2 will match the ticks and grids of ax1.\n",
    "    ax1.parasites.append(ax2)\n",
    "    intp = cbook.simple_linear_interpolation\n",
    "    ax2.plot(intp(np.array([0, 30]), 50),\n",
    "             intp(np.array([10., 10.]), 50),\n",
    "             linewidth=2.0)\n",
    "\n",
    "    ax1.set_aspect(1.)\n",
    "    ax1.set_xlim(-5, 12)\n",
    "    ax1.set_ylim(-5, 10)\n",
    "\n",
    "    ax1.grid(True, zorder=0)\n",
    "\n",
    "if 1:\n",
    "    fig = plt.figure(1, figsize=(7, 4))\n",
    "    fig.clf()\n",
    "\n",
    "    curvelinear_test1(fig)\n",
    "    curvelinear_test2(fig)\n",
    "\n",
    "    plt.draw()\n",
    "    plt.show()\n"
   ]
  },
  {
   "cell_type": "code",
   "execution_count": null,
   "metadata": {},
   "outputs": [],
   "source": [
    "\"\"\"\n",
    "==================\n",
    "Demo Floating Axis\n",
    "==================\n",
    "\n",
    "Axis within rectangular frame\n",
    "\n",
    "The following code demonstrates how to put a floating polar curve within a\n",
    "rectangular box. In order to get a better sense of polar curves, please look at\n",
    "demo_curvelinear_grid.py.\n",
    "\"\"\"\n",
    "import numpy as np\n",
    "import matplotlib.pyplot as plt\n",
    "import mpl_toolkits.axisartist.angle_helper as angle_helper\n",
    "from matplotlib.projections import PolarAxes\n",
    "from matplotlib.transforms import Affine2D\n",
    "from mpl_toolkits.axisartist import SubplotHost\n",
    "from mpl_toolkits.axisartist import GridHelperCurveLinear\n",
    "\n",
    "\n",
    "def curvelinear_test2(fig):\n",
    "    \"\"\"\n",
    "    polar projection, but in a rectangular box.\n",
    "    \"\"\"\n",
    "    global ax1\n",
    "    # see demo_curvelinear_grid.py for details\n",
    "    tr = Affine2D().scale(np.pi / 180., 1.) + PolarAxes.PolarTransform()\n",
    "\n",
    "    extreme_finder = angle_helper.ExtremeFinderCycle(20,\n",
    "                                                     20,\n",
    "                                                     lon_cycle=360,\n",
    "                                                     lat_cycle=None,\n",
    "                                                     lon_minmax=None,\n",
    "                                                     lat_minmax=(0,\n",
    "                                                                 np.inf),\n",
    "                                                     )\n",
    "\n",
    "    grid_locator1 = angle_helper.LocatorDMS(12)\n",
    "\n",
    "    tick_formatter1 = angle_helper.FormatterDMS()\n",
    "\n",
    "    grid_helper = GridHelperCurveLinear(tr,\n",
    "                                        extreme_finder=extreme_finder,\n",
    "                                        grid_locator1=grid_locator1,\n",
    "                                        tick_formatter1=tick_formatter1\n",
    "                                        )\n",
    "\n",
    "    ax1 = SubplotHost(fig, 1, 1, 1, grid_helper=grid_helper)\n",
    "\n",
    "    fig.add_subplot(ax1)\n",
    "\n",
    "    # Now creates floating axis\n",
    "\n",
    "    # floating axis whose first coordinate (theta) is fixed at 60\n",
    "    ax1.axis[\"lat\"] = axis = ax1.new_floating_axis(0, 60)\n",
    "    axis.label.set_text(r\"$\\theta = 60^{\\circ}$\")\n",
    "    axis.label.set_visible(True)\n",
    "\n",
    "    # floating axis whose second coordinate (r) is fixed at 6\n",
    "    ax1.axis[\"lon\"] = axis = ax1.new_floating_axis(1, 6)\n",
    "    axis.label.set_text(r\"$r = 6$\")\n",
    "\n",
    "    ax1.set_aspect(1.)\n",
    "    ax1.set_xlim(-5, 12)\n",
    "    ax1.set_ylim(-5, 10)\n",
    "\n",
    "    ax1.grid(True)\n",
    "\n",
    "fig = plt.figure(1, figsize=(5, 5))\n",
    "fig.clf()\n",
    "\n",
    "curvelinear_test2(fig)\n",
    "\n",
    "plt.show()\n"
   ]
  },
  {
   "cell_type": "code",
   "execution_count": null,
   "metadata": {},
   "outputs": [],
   "source": [
    "\"\"\"\n",
    "=========================================================\n",
    "Demo of the histogram (hist) function with a few features\n",
    "=========================================================\n",
    "\n",
    "In addition to the basic histogram, this demo shows a few optional\n",
    "features:\n",
    "\n",
    "    * Setting the number of data bins\n",
    "    * The ``normed`` flag, which normalizes bin heights so that the\n",
    "      integral of the histogram is 1. The resulting histogram is an\n",
    "      approximation of the probability density function.\n",
    "    * Setting the face color of the bars\n",
    "    * Setting the opacity (alpha value).\n",
    "\n",
    "Selecting different bin counts and sizes can significantly affect the\n",
    "shape of a histogram. The Astropy docs have a great section on how to\n",
    "select these parameters:\n",
    "http://docs.astropy.org/en/stable/visualization/histogram.html\n",
    "\"\"\"\n",
    "\n",
    "import numpy as np\n",
    "import matplotlib.mlab as mlab\n",
    "import matplotlib.pyplot as plt\n",
    "\n",
    "np.random.seed(19680801)\n",
    "\n",
    "# example data\n",
    "mu = 100  # mean of distribution\n",
    "sigma = 15  # standard deviation of distribution\n",
    "x = mu + sigma * np.random.randn(437)\n",
    "\n",
    "num_bins = 50\n",
    "\n",
    "fig, ax = plt.subplots()\n",
    "\n",
    "# the histogram of the data\n",
    "n, bins, patches = ax.hist(x, num_bins, normed=1)\n",
    "\n",
    "# add a 'best fit' line\n",
    "y = mlab.normpdf(bins, mu, sigma)\n",
    "ax.plot(bins, y, '--')\n",
    "ax.set_xlabel('Smarts')\n",
    "ax.set_ylabel('Probability density')\n",
    "ax.set_title(r'Histogram of IQ: $\\mu=100$, $\\sigma=15$')\n",
    "\n",
    "# Tweak spacing to prevent clipping of ylabel\n",
    "fig.tight_layout()\n",
    "plt.show()\n"
   ]
  },
  {
   "cell_type": "code",
   "execution_count": null,
   "metadata": {},
   "outputs": [],
   "source": [
    "\"\"\"\n",
    "=============================================================\n",
    "Demo of the histogram (hist) function with multiple data sets\n",
    "=============================================================\n",
    "\n",
    "Plot histogram with multiple sample sets and demonstrate:\n",
    "\n",
    "    * Use of legend with multiple sample sets\n",
    "    * Stacked bars\n",
    "    * Step curve with no fill\n",
    "    * Data sets of different sample sizes\n",
    "\n",
    "Selecting different bin counts and sizes can significantly affect the\n",
    "shape of a histogram. The Astropy docs have a great section on how to\n",
    "select these parameters:\n",
    "http://docs.astropy.org/en/stable/visualization/histogram.html\n",
    "\"\"\"\n",
    "\n",
    "import numpy as np\n",
    "import matplotlib.pyplot as plt\n",
    "\n",
    "np.random.seed(19680801)\n",
    "\n",
    "n_bins = 10\n",
    "x = np.random.randn(1000, 3)\n",
    "\n",
    "fig, axes = plt.subplots(nrows=2, ncols=2)\n",
    "ax0, ax1, ax2, ax3 = axes.flatten()\n",
    "\n",
    "colors = ['red', 'tan', 'lime']\n",
    "ax0.hist(x, n_bins, normed=1, histtype='bar', color=colors, label=colors)\n",
    "ax0.legend(prop={'size': 10})\n",
    "ax0.set_title('bars with legend')\n",
    "\n",
    "ax1.hist(x, n_bins, normed=1, histtype='bar', stacked=True)\n",
    "ax1.set_title('stacked bar')\n",
    "\n",
    "ax2.hist(x, n_bins, histtype='step', stacked=True, fill=False)\n",
    "ax2.set_title('stack step (unfilled)')\n",
    "\n",
    "# Make a multiple-histogram of data-sets with different length.\n",
    "x_multi = [np.random.randn(n) for n in [10000, 5000, 2000]]\n",
    "ax3.hist(x_multi, n_bins, histtype='bar')\n",
    "ax3.set_title('different sample sizes')\n",
    "\n",
    "fig.tight_layout()\n",
    "plt.show()\n"
   ]
  },
  {
   "cell_type": "code",
   "execution_count": null,
   "metadata": {},
   "outputs": [],
   "source": [
    "\"\"\"\n",
    "===============\n",
    "Demo Ribbon Box\n",
    "===============\n",
    "\n",
    "\"\"\"\n",
    "import matplotlib.pyplot as plt\n",
    "import numpy as np\n",
    "from matplotlib.image import BboxImage\n",
    "\n",
    "from matplotlib._png import read_png\n",
    "import matplotlib.colors\n",
    "from matplotlib.cbook import get_sample_data\n",
    "\n",
    "\n",
    "class RibbonBox(object):\n",
    "\n",
    "    original_image = read_png(get_sample_data(\"Minduka_Present_Blue_Pack.png\",\n",
    "                                              asfileobj=False))\n",
    "    cut_location = 70\n",
    "    b_and_h = original_image[:, :, 2]\n",
    "    color = original_image[:, :, 2] - original_image[:, :, 0]\n",
    "    alpha = original_image[:, :, 3]\n",
    "    nx = original_image.shape[1]\n",
    "\n",
    "    def __init__(self, color):\n",
    "        rgb = matplotlib.colors.to_rgba(color)[:3]\n",
    "\n",
    "        im = np.empty(self.original_image.shape,\n",
    "                      self.original_image.dtype)\n",
    "\n",
    "        im[:, :, :3] = self.b_and_h[:, :, np.newaxis]\n",
    "        im[:, :, :3] -= self.color[:, :, np.newaxis]*(1. - np.array(rgb))\n",
    "        im[:, :, 3] = self.alpha\n",
    "\n",
    "        self.im = im\n",
    "\n",
    "    def get_stretched_image(self, stretch_factor):\n",
    "        stretch_factor = max(stretch_factor, 1)\n",
    "        ny, nx, nch = self.im.shape\n",
    "        ny2 = int(ny*stretch_factor)\n",
    "\n",
    "        stretched_image = np.empty((ny2, nx, nch),\n",
    "                                   self.im.dtype)\n",
    "        cut = self.im[self.cut_location, :, :]\n",
    "        stretched_image[:, :, :] = cut\n",
    "        stretched_image[:self.cut_location, :, :] = \\\n",
    "            self.im[:self.cut_location, :, :]\n",
    "        stretched_image[-(ny - self.cut_location):, :, :] = \\\n",
    "            self.im[-(ny - self.cut_location):, :, :]\n",
    "\n",
    "        self._cached_im = stretched_image\n",
    "        return stretched_image\n",
    "\n",
    "\n",
    "class RibbonBoxImage(BboxImage):\n",
    "    zorder = 1\n",
    "\n",
    "    def __init__(self, bbox, color,\n",
    "                 cmap=None,\n",
    "                 norm=None,\n",
    "                 interpolation=None,\n",
    "                 origin=None,\n",
    "                 filternorm=1,\n",
    "                 filterrad=4.0,\n",
    "                 resample=False,\n",
    "                 **kwargs\n",
    "                 ):\n",
    "\n",
    "        BboxImage.__init__(self, bbox,\n",
    "                           cmap=cmap,\n",
    "                           norm=norm,\n",
    "                           interpolation=interpolation,\n",
    "                           origin=origin,\n",
    "                           filternorm=filternorm,\n",
    "                           filterrad=filterrad,\n",
    "                           resample=resample,\n",
    "                           **kwargs\n",
    "                           )\n",
    "\n",
    "        self._ribbonbox = RibbonBox(color)\n",
    "        self._cached_ny = None\n",
    "\n",
    "    def draw(self, renderer, *args, **kwargs):\n",
    "\n",
    "        bbox = self.get_window_extent(renderer)\n",
    "        stretch_factor = bbox.height / bbox.width\n",
    "\n",
    "        ny = int(stretch_factor*self._ribbonbox.nx)\n",
    "        if self._cached_ny != ny:\n",
    "            arr = self._ribbonbox.get_stretched_image(stretch_factor)\n",
    "            self.set_array(arr)\n",
    "            self._cached_ny = ny\n",
    "\n",
    "        BboxImage.draw(self, renderer, *args, **kwargs)\n",
    "\n",
    "\n",
    "if 1:\n",
    "    from matplotlib.transforms import Bbox, TransformedBbox\n",
    "    from matplotlib.ticker import ScalarFormatter\n",
    "\n",
    "    # Fixing random state for reproducibility\n",
    "    np.random.seed(19680801)\n",
    "\n",
    "    fig, ax = plt.subplots()\n",
    "\n",
    "    years = np.arange(2004, 2009)\n",
    "    box_colors = [(0.8, 0.2, 0.2),\n",
    "                  (0.2, 0.8, 0.2),\n",
    "                  (0.2, 0.2, 0.8),\n",
    "                  (0.7, 0.5, 0.8),\n",
    "                  (0.3, 0.8, 0.7),\n",
    "                  ]\n",
    "    heights = np.random.random(years.shape) * 7000 + 3000\n",
    "\n",
    "    fmt = ScalarFormatter(useOffset=False)\n",
    "    ax.xaxis.set_major_formatter(fmt)\n",
    "\n",
    "    for year, h, bc in zip(years, heights, box_colors):\n",
    "        bbox0 = Bbox.from_extents(year - 0.4, 0., year + 0.4, h)\n",
    "        bbox = TransformedBbox(bbox0, ax.transData)\n",
    "        rb_patch = RibbonBoxImage(bbox, bc, interpolation=\"bicubic\")\n",
    "\n",
    "        ax.add_artist(rb_patch)\n",
    "\n",
    "        ax.annotate(r\"%d\" % (int(h/100.)*100),\n",
    "                    (year, h), va=\"bottom\", ha=\"center\")\n",
    "\n",
    "    patch_gradient = BboxImage(ax.bbox,\n",
    "                               interpolation=\"bicubic\",\n",
    "                               zorder=0.1,\n",
    "                               )\n",
    "    gradient = np.zeros((2, 2, 4), dtype=float)\n",
    "    gradient[:, :, :3] = [1, 1, 0.]\n",
    "    gradient[:, :, 3] = [[0.1, 0.3], [0.3, 0.5]]  # alpha channel\n",
    "    patch_gradient.set_array(gradient)\n",
    "    ax.add_artist(patch_gradient)\n",
    "\n",
    "    ax.set_xlim(years[0] - 0.5, years[-1] + 0.5)\n",
    "    ax.set_ylim(0, 10000)\n",
    "\n",
    "    fig.savefig('ribbon_box.png')\n",
    "    plt.show()\n"
   ]
  },
  {
   "cell_type": "code",
   "execution_count": null,
   "metadata": {},
   "outputs": [],
   "source": [
    "\"\"\"\n",
    "==============\n",
    "Demo Text Path\n",
    "==============\n",
    "\n",
    "\"\"\"\n",
    "\n",
    "import matplotlib.pyplot as plt\n",
    "from matplotlib.image import BboxImage\n",
    "import numpy as np\n",
    "from matplotlib.transforms import IdentityTransform\n",
    "\n",
    "import matplotlib.patches as mpatches\n",
    "\n",
    "from matplotlib.offsetbox import AnnotationBbox,\\\n",
    "    AnchoredOffsetbox, AuxTransformBox\n",
    "\n",
    "from matplotlib.cbook import get_sample_data\n",
    "\n",
    "from matplotlib.text import TextPath\n",
    "\n",
    "\n",
    "class PathClippedImagePatch(mpatches.PathPatch):\n",
    "    \"\"\"\n",
    "    The given image is used to draw the face of the patch. Internally,\n",
    "    it uses BboxImage whose clippath set to the path of the patch.\n",
    "\n",
    "    FIXME : The result is currently dpi dependent.\n",
    "    \"\"\"\n",
    "\n",
    "    def __init__(self, path, bbox_image, **kwargs):\n",
    "        mpatches.PathPatch.__init__(self, path, **kwargs)\n",
    "        self._init_bbox_image(bbox_image)\n",
    "\n",
    "    def set_facecolor(self, color):\n",
    "        \"\"\"simply ignore facecolor\"\"\"\n",
    "        mpatches.PathPatch.set_facecolor(self, \"none\")\n",
    "\n",
    "    def _init_bbox_image(self, im):\n",
    "\n",
    "        bbox_image = BboxImage(self.get_window_extent,\n",
    "                               norm=None,\n",
    "                               origin=None,\n",
    "                               )\n",
    "        bbox_image.set_transform(IdentityTransform())\n",
    "\n",
    "        bbox_image.set_data(im)\n",
    "        self.bbox_image = bbox_image\n",
    "\n",
    "    def draw(self, renderer=None):\n",
    "\n",
    "        # the clip path must be updated every draw. any solution? -JJ\n",
    "        self.bbox_image.set_clip_path(self._path, self.get_transform())\n",
    "        self.bbox_image.draw(renderer)\n",
    "\n",
    "        mpatches.PathPatch.draw(self, renderer)\n",
    "\n",
    "\n",
    "if 1:\n",
    "\n",
    "    usetex = plt.rcParams[\"text.usetex\"]\n",
    "\n",
    "    fig = plt.figure(1)\n",
    "\n",
    "    # EXAMPLE 1\n",
    "\n",
    "    ax = plt.subplot(211)\n",
    "\n",
    "    from matplotlib._png import read_png\n",
    "    fn = get_sample_data(\"grace_hopper.png\", asfileobj=False)\n",
    "    arr = read_png(fn)\n",
    "\n",
    "    text_path = TextPath((0, 0), \"!?\", size=150)\n",
    "    p = PathClippedImagePatch(text_path, arr, ec=\"k\",\n",
    "                              transform=IdentityTransform())\n",
    "\n",
    "    # p.set_clip_on(False)\n",
    "\n",
    "    # make offset box\n",
    "    offsetbox = AuxTransformBox(IdentityTransform())\n",
    "    offsetbox.add_artist(p)\n",
    "\n",
    "    # make anchored offset box\n",
    "    ao = AnchoredOffsetbox(loc=2, child=offsetbox, frameon=True, borderpad=0.2)\n",
    "    ax.add_artist(ao)\n",
    "\n",
    "    # another text\n",
    "    from matplotlib.patches import PathPatch\n",
    "    if usetex:\n",
    "        r = r\"\\mbox{textpath supports mathtext \\& \\TeX}\"\n",
    "    else:\n",
    "        r = r\"textpath supports mathtext & TeX\"\n",
    "\n",
    "    text_path = TextPath((0, 0), r,\n",
    "                         size=20, usetex=usetex)\n",
    "\n",
    "    p1 = PathPatch(text_path, ec=\"w\", lw=3, fc=\"w\", alpha=0.9,\n",
    "                   transform=IdentityTransform())\n",
    "    p2 = PathPatch(text_path, ec=\"none\", fc=\"k\",\n",
    "                   transform=IdentityTransform())\n",
    "\n",
    "    offsetbox2 = AuxTransformBox(IdentityTransform())\n",
    "    offsetbox2.add_artist(p1)\n",
    "    offsetbox2.add_artist(p2)\n",
    "\n",
    "    ab = AnnotationBbox(offsetbox2, (0.95, 0.05),\n",
    "                        xycoords='axes fraction',\n",
    "                        boxcoords=\"offset points\",\n",
    "                        box_alignment=(1., 0.),\n",
    "                        frameon=False\n",
    "                        )\n",
    "    ax.add_artist(ab)\n",
    "\n",
    "    ax.imshow([[0, 1, 2], [1, 2, 3]], cmap=plt.cm.gist_gray_r,\n",
    "              interpolation=\"bilinear\",\n",
    "              aspect=\"auto\")\n",
    "\n",
    "    # EXAMPLE 2\n",
    "\n",
    "    ax = plt.subplot(212)\n",
    "\n",
    "    arr = np.arange(256).reshape(1, 256)/256.\n",
    "\n",
    "    if usetex:\n",
    "        s = (r\"$\\displaystyle\\left[\\sum_{n=1}^\\infty\"\n",
    "             r\"\\frac{-e^{i\\pi}}{2^n}\\right]$!\")\n",
    "    else:\n",
    "        s = r\"$\\left[\\sum_{n=1}^\\infty\\frac{-e^{i\\pi}}{2^n}\\right]$!\"\n",
    "    text_path = TextPath((0, 0), s, size=40, usetex=usetex)\n",
    "    text_patch = PathClippedImagePatch(text_path, arr, ec=\"none\",\n",
    "                                       transform=IdentityTransform())\n",
    "\n",
    "    shadow1 = mpatches.Shadow(text_patch, 1, -1,\n",
    "                              props=dict(fc=\"none\", ec=\"0.6\", lw=3))\n",
    "    shadow2 = mpatches.Shadow(text_patch, 1, -1,\n",
    "                              props=dict(fc=\"0.3\", ec=\"none\"))\n",
    "\n",
    "    # make offset box\n",
    "    offsetbox = AuxTransformBox(IdentityTransform())\n",
    "    offsetbox.add_artist(shadow1)\n",
    "    offsetbox.add_artist(shadow2)\n",
    "    offsetbox.add_artist(text_patch)\n",
    "\n",
    "    # place the anchored offset box using AnnotationBbox\n",
    "    ab = AnnotationBbox(offsetbox, (0.5, 0.5),\n",
    "                        xycoords='data',\n",
    "                        boxcoords=\"offset points\",\n",
    "                        box_alignment=(0.5, 0.5),\n",
    "                        )\n",
    "    # text_path.set_size(10)\n",
    "\n",
    "    ax.add_artist(ab)\n",
    "\n",
    "    ax.set_xlim(0, 1)\n",
    "    ax.set_ylim(0, 1)\n",
    "\n",
    "    plt.draw()\n",
    "    plt.show()\n"
   ]
  },
  {
   "cell_type": "code",
   "execution_count": null,
   "metadata": {},
   "outputs": [],
   "source": [
    "\"\"\"\n",
    "============\n",
    "Ellipse Demo\n",
    "============\n",
    "\n",
    "\"\"\"\n",
    "import matplotlib.pyplot as plt\n",
    "import numpy as np\n",
    "from matplotlib.patches import Ellipse\n",
    "\n",
    "NUM = 250\n",
    "\n",
    "ells = [Ellipse(xy=np.random.rand(2) * 10,\n",
    "                width=np.random.rand(), height=np.random.rand(),\n",
    "                angle=np.random.rand() * 360)\n",
    "        for i in range(NUM)]\n",
    "\n",
    "fig, ax = plt.subplots(subplot_kw={'aspect': 'equal'})\n",
    "for e in ells:\n",
    "    ax.add_artist(e)\n",
    "    e.set_clip_box(ax.bbox)\n",
    "    e.set_alpha(np.random.rand())\n",
    "    e.set_facecolor(np.random.rand(3))\n",
    "\n",
    "ax.set_xlim(0, 10)\n",
    "ax.set_ylim(0, 10)\n",
    "\n",
    "plt.show()\n"
   ]
  },
  {
   "cell_type": "code",
   "execution_count": null,
   "metadata": {},
   "outputs": [],
   "source": [
    "\"\"\"\n",
    "=================\n",
    "Fancytextbox Demo\n",
    "=================\n",
    "\n",
    "\"\"\"\n",
    "import matplotlib.pyplot as plt\n",
    "\n",
    "plt.text(0.6, 0.5, \"test\", size=50, rotation=30.,\n",
    "         ha=\"center\", va=\"center\",\n",
    "         bbox=dict(boxstyle=\"round\",\n",
    "                   ec=(1., 0.5, 0.5),\n",
    "                   fc=(1., 0.8, 0.8),\n",
    "                   )\n",
    "         )\n",
    "\n",
    "plt.text(0.5, 0.4, \"test\", size=50, rotation=-30.,\n",
    "         ha=\"right\", va=\"top\",\n",
    "         bbox=dict(boxstyle=\"square\",\n",
    "                   ec=(1., 0.5, 0.5),\n",
    "                   fc=(1., 0.8, 0.8),\n",
    "                   )\n",
    "         )\n",
    "\n",
    "\n",
    "plt.draw()\n",
    "plt.show()\n"
   ]
  },
  {
   "cell_type": "code",
   "execution_count": null,
   "metadata": {},
   "outputs": [],
   "source": [
    "\"\"\"\n",
    "===================\n",
    "Fonts demo (kwargs)\n",
    "===================\n",
    "\n",
    "Set font properties using kwargs.\n",
    "\n",
    "See :doc:`fonts_demo` to achieve the same effect using setters.\n",
    "\"\"\"\n",
    "\n",
    "from matplotlib.font_manager import FontProperties\n",
    "import matplotlib.pyplot as plt\n",
    "import numpy as np\n",
    "\n",
    "plt.subplot(111, facecolor='w')\n",
    "alignment = {'horizontalalignment': 'center', 'verticalalignment': 'baseline'}\n",
    "\n",
    "# Show family options\n",
    "\n",
    "families = ['serif', 'sans-serif', 'cursive', 'fantasy', 'monospace']\n",
    "\n",
    "t = plt.text(-0.8, 0.9, 'family', size='large', **alignment)\n",
    "\n",
    "yp = [0.8, 0.7, 0.6, 0.5, 0.4, 0.3, 0.2]\n",
    "\n",
    "for k, family in enumerate(families):\n",
    "    t = plt.text(-0.8, yp[k], family, family=family, **alignment)\n",
    "\n",
    "# Show style options\n",
    "\n",
    "styles = ['normal', 'italic', 'oblique']\n",
    "\n",
    "t = plt.text(-0.4, 0.9, 'style', **alignment)\n",
    "\n",
    "for k, style in enumerate(styles):\n",
    "    t = plt.text(-0.4, yp[k], style, family='sans-serif', style=style,\n",
    "                 **alignment)\n",
    "\n",
    "# Show variant options\n",
    "\n",
    "variants = ['normal', 'small-caps']\n",
    "\n",
    "t = plt.text(0.0, 0.9, 'variant', **alignment)\n",
    "\n",
    "for k, variant in enumerate(variants):\n",
    "    t = plt.text(0.0, yp[k], variant, family='serif', variant=variant,\n",
    "                 **alignment)\n",
    "\n",
    "# Show weight options\n",
    "\n",
    "weights = ['light', 'normal', 'medium', 'semibold', 'bold', 'heavy', 'black']\n",
    "\n",
    "t = plt.text(0.4, 0.9, 'weight', **alignment)\n",
    "\n",
    "for k, weight in enumerate(weights):\n",
    "    t = plt.text(0.4, yp[k], weight, weight=weight,\n",
    "                 **alignment)\n",
    "\n",
    "# Show size options\n",
    "\n",
    "sizes = ['xx-small', 'x-small', 'small', 'medium', 'large',\n",
    "         'x-large', 'xx-large']\n",
    "\n",
    "t = plt.text(0.8, 0.9, 'size', **alignment)\n",
    "\n",
    "for k, size in enumerate(sizes):\n",
    "    t = plt.text(0.8, yp[k], size, size=size,\n",
    "                 **alignment)\n",
    "\n",
    "x = -0.4\n",
    "# Show bold italic\n",
    "t = plt.text(x, 0.1, 'bold italic', style='italic',\n",
    "             weight='bold', size='x-small',\n",
    "             **alignment)\n",
    "\n",
    "t = plt.text(x, 0.2, 'bold italic',\n",
    "             style='italic', weight='bold', size='medium',\n",
    "             **alignment)\n",
    "\n",
    "t = plt.text(x, 0.3, 'bold italic',\n",
    "             style='italic', weight='bold', size='x-large',\n",
    "             **alignment)\n",
    "\n",
    "plt.axis([-1, 1, 0, 1])\n",
    "\n",
    "plt.show()\n"
   ]
  },
  {
   "cell_type": "code",
   "execution_count": null,
   "metadata": {},
   "outputs": [],
   "source": [
    "\"\"\"\n",
    "==========\n",
    "Image Demo\n",
    "==========\n",
    "\n",
    "Many ways to plot images in Matplotlib.\n",
    "\n",
    "The most common way to plot images in Matplotlib is with\n",
    "imshow. The following examples demonstrate much of the\n",
    "functionality of imshow and the many images you can create.\n",
    "\n",
    "\"\"\"\n",
    "from __future__ import print_function\n",
    "\n",
    "import numpy as np\n",
    "import matplotlib.cm as cm\n",
    "import matplotlib.mlab as mlab\n",
    "import matplotlib.pyplot as plt\n",
    "import matplotlib.cbook as cbook\n",
    "from matplotlib.path import Path\n",
    "from matplotlib.patches import PathPatch\n",
    "\n",
    "###############################################################################\n",
    "# First we'll generate a simple bivariate normal distribution.\n",
    "\n",
    "delta = 0.025\n",
    "x = y = np.arange(-3.0, 3.0, delta)\n",
    "X, Y = np.meshgrid(x, y)\n",
    "Z1 = mlab.bivariate_normal(X, Y, 1.0, 1.0, 0.0, 0.0)\n",
    "Z2 = mlab.bivariate_normal(X, Y, 1.5, 0.5, 1, 1)\n",
    "Z = Z2 - Z1  # difference of Gaussians\n",
    "\n",
    "im = plt.imshow(Z, interpolation='bilinear', cmap=cm.RdYlGn,\n",
    "                origin='lower', extent=[-3, 3, -3, 3],\n",
    "                vmax=abs(Z).max(), vmin=-abs(Z).max())\n",
    "\n",
    "plt.show()\n",
    "\n",
    "\n",
    "###############################################################################\n",
    "# It is also possible to show images of pictures.\n",
    "\n",
    "# A sample image\n",
    "with cbook.get_sample_data('ada.png') as image_file:\n",
    "    image = plt.imread(image_file)\n",
    "\n",
    "fig, ax = plt.subplots()\n",
    "ax.imshow(image)\n",
    "ax.axis('off')  # clear x- and y-axes\n",
    "\n",
    "\n",
    "# And another image\n",
    "\n",
    "w, h = 512, 512\n",
    "\n",
    "with cbook.get_sample_data('ct.raw.gz', asfileobj=True) as datafile:\n",
    "    s = datafile.read()\n",
    "A = np.fromstring(s, np.uint16).astype(float).reshape((w, h))\n",
    "A /= A.max()\n",
    "\n",
    "fig, ax = plt.subplots()\n",
    "extent = (0, 25, 0, 25)\n",
    "im = ax.imshow(A, cmap=plt.cm.hot, origin='upper', extent=extent)\n",
    "\n",
    "markers = [(15.9, 14.5), (16.8, 15)]\n",
    "x, y = zip(*markers)\n",
    "ax.plot(x, y, 'o')\n",
    "\n",
    "ax.set_title('CT density')\n",
    "\n",
    "plt.show()\n",
    "\n",
    "\n",
    "###############################################################################\n",
    "# Interpolating images\n",
    "# --------------------\n",
    "#\n",
    "# It is also possible to interpolate images before displaying them. Be careful,\n",
    "# as this may manipulate the way your data looks, but it can be helpful for\n",
    "# achieving the look you want. Below we'll display the same (small) array,\n",
    "# interpolated with three different interpolation methods.\n",
    "#\n",
    "# The center of the pixel at A[i,j] is plotted at i+0.5, i+0.5.  If you\n",
    "# are using interpolation='nearest', the region bounded by (i,j) and\n",
    "# (i+1,j+1) will have the same color.  If you are using interpolation,\n",
    "# the pixel center will have the same color as it does with nearest, but\n",
    "# other pixels will be interpolated between the neighboring pixels.\n",
    "#\n",
    "# Earlier versions of matplotlib (<0.63) tried to hide the edge effects\n",
    "# from you by setting the view limits so that they would not be visible.\n",
    "# A recent bugfix in antigrain, and a new implementation in the\n",
    "# matplotlib._image module which takes advantage of this fix, no longer\n",
    "# makes this necessary.  To prevent edge effects, when doing\n",
    "# interpolation, the matplotlib._image module now pads the input array\n",
    "# with identical pixels around the edge.  e.g., if you have a 5x5 array\n",
    "# with colors a-y as below::\n",
    "#\n",
    "#   a b c d e\n",
    "#   f g h i j\n",
    "#   k l m n o\n",
    "#   p q r s t\n",
    "#   u v w x y\n",
    "#\n",
    "# the _image module creates the padded array,::\n",
    "#\n",
    "#   a a b c d e e\n",
    "#   a a b c d e e\n",
    "#   f f g h i j j\n",
    "#   k k l m n o o\n",
    "#   p p q r s t t\n",
    "#   o u v w x y y\n",
    "#   o u v w x y y\n",
    "#\n",
    "# does the interpolation/resizing, and then extracts the central region.\n",
    "# This allows you to plot the full range of your array w/o edge effects,\n",
    "# and for example to layer multiple images of different sizes over one\n",
    "# another with different interpolation methods - see\n",
    "# examples/layer_images.py.  It also implies a performance hit, as this\n",
    "# new temporary, padded array must be created.  Sophisticated\n",
    "# interpolation also implies a performance hit, so if you need maximal\n",
    "# performance or have very large images, interpolation='nearest' is\n",
    "# suggested.\n",
    "\n",
    "A = np.random.rand(5, 5)\n",
    "\n",
    "fig, axs = plt.subplots(1, 3, figsize=(10, 3))\n",
    "for ax, interp in zip(axs, ['nearest', 'bilinear', 'bicubic']):\n",
    "    ax.imshow(A, interpolation=interp)\n",
    "    ax.set_title(interp.capitalize())\n",
    "    ax.grid(True)\n",
    "\n",
    "plt.show()\n",
    "\n",
    "\n",
    "###############################################################################\n",
    "# You can specify whether images should be plotted with the array origin\n",
    "# x[0,0] in the upper left or lower right by using the origin parameter.\n",
    "# You can also control the default setting image.origin in your\n",
    "# :ref:`matplotlibrc file <customizing-with-matplotlibrc-files>`\n",
    "\n",
    "x = np.arange(120).reshape((10, 12))\n",
    "\n",
    "interp = 'bilinear'\n",
    "fig, axs = plt.subplots(nrows=2, sharex=True, figsize=(3, 5))\n",
    "axs[0].set_title('blue should be up')\n",
    "axs[0].imshow(x, origin='upper', interpolation=interp)\n",
    "\n",
    "axs[1].set_title('blue should be down')\n",
    "axs[1].imshow(x, origin='lower', interpolation=interp)\n",
    "plt.show()\n",
    "\n",
    "\n",
    "###############################################################################\n",
    "# Finally, we'll show an image using a clip path.\n",
    "\n",
    "delta = 0.025\n",
    "x = y = np.arange(-3.0, 3.0, delta)\n",
    "X, Y = np.meshgrid(x, y)\n",
    "Z1 = mlab.bivariate_normal(X, Y, 1.0, 1.0, 0.0, 0.0)\n",
    "Z2 = mlab.bivariate_normal(X, Y, 1.5, 0.5, 1, 1)\n",
    "Z = Z2 - Z1  # difference of Gaussians\n",
    "\n",
    "path = Path([[0, 1], [1, 0], [0, -1], [-1, 0], [0, 1]])\n",
    "patch = PathPatch(path, facecolor='none')\n",
    "\n",
    "fig, ax = plt.subplots()\n",
    "ax.add_patch(patch)\n",
    "\n",
    "im = ax.imshow(Z, interpolation='bilinear', cmap=cm.gray,\n",
    "               origin='lower', extent=[-3, 3, -3, 3],\n",
    "               clip_path=patch, clip_on=True)\n",
    "im.set_clip_path(patch)\n",
    "\n",
    "plt.show()\n"
   ]
  },
  {
   "cell_type": "code",
   "execution_count": null,
   "metadata": {},
   "outputs": [],
   "source": [
    "\"\"\"\n",
    "=============\n",
    "Mathtext Demo\n",
    "=============\n",
    "\n",
    "Use matplotlib's internal LaTeX parser and layout engine.  For true\n",
    "latex rendering, see the text.usetex option\n",
    "\"\"\"\n",
    "import numpy as np\n",
    "from matplotlib.pyplot import figure, show\n",
    "\n",
    "fig = figure()\n",
    "fig.subplots_adjust(bottom=0.2)\n",
    "\n",
    "ax = fig.add_subplot(111)\n",
    "ax.plot([1, 2, 3], 'r')\n",
    "x = np.arange(0.0, 3.0, 0.1)\n",
    "\n",
    "ax.grid(True)\n",
    "ax.set_xlabel(r'$\\Delta_i^j$', fontsize=20)\n",
    "ax.set_ylabel(r'$\\Delta_{i+1}^j$', fontsize=20)\n",
    "tex = r'$\\mathcal{R}\\prod_{i=\\alpha_{i+1}}^\\infty a_i\\sin(2 \\pi f x_i)$'\n",
    "\n",
    "ax.text(1, 1.6, tex, fontsize=20, va='bottom')\n",
    "\n",
    "ax.legend([r\"$\\sqrt{x^2}$\"])\n",
    "\n",
    "ax.set_title(r'$\\Delta_i^j \\hspace{0.4} \\mathrm{versus} \\hspace{0.4} '\n",
    "             r'\\Delta_{i+1}^j$', fontsize=20)\n",
    "\n",
    "show()\n"
   ]
  },
  {
   "cell_type": "code",
   "execution_count": null,
   "metadata": {
    "scrolled": true
   },
   "outputs": [],
   "source": [
    "\n",
    "\"\"\"\n",
    "==================\n",
    "Quiver Simple Demo\n",
    "==================\n",
    "\n",
    "A simple example of a quiver plot with a quiverkey.\n",
    "\"\"\"\n",
    "import matplotlib.pyplot as plt\n",
    "import numpy as np\n",
    "\n",
    "X = np.arange(-10, 10, 1)\n",
    "Y = np.arange(-10, 10, 1)\n",
    "U, V = np.meshgrid(X, Y)\n",
    "\n",
    "fig, ax = plt.subplots()\n",
    "q = ax.quiver(X, Y, U, V)\n",
    "ax.quiverkey(q, X=0.3, Y=1.1, U=10,\n",
    "             label='Quiver key, length = 10', labelpos='E')\n",
    "\n",
    "plt.show()\n",
    "\n"
   ]
  },
  {
   "cell_type": "code",
   "execution_count": null,
   "metadata": {},
   "outputs": [],
   "source": [
    "\"\"\"\n",
    "==========\n",
    "Polar Demo\n",
    "==========\n",
    "\n",
    "Demo of a line plot on a polar axis.\n",
    "\"\"\"\n",
    "import numpy as np\n",
    "import matplotlib.pyplot as plt\n",
    "\n",
    "\n",
    "r = np.arange(0, 2, 0.01)\n",
    "theta = 2 * np.pi * r\n",
    "\n",
    "ax = plt.subplot(111, projection='polar')\n",
    "ax.plot(theta, r)\n",
    "ax.set_rmax(2)\n",
    "ax.set_rticks([0.5, 1, 1.5, 2])  # Less radial ticks\n",
    "ax.set_rlabel_position(-22.5)  # Move radial labels away from plotted line\n",
    "ax.grid(True)\n",
    "\n",
    "ax.set_title(\"A line plot on a polar axis\", va='bottom')\n",
    "plt.show()\n",
    "\n",
    "\n",
    "\n"
   ]
  },
  {
   "cell_type": "code",
   "execution_count": null,
   "metadata": {},
   "outputs": [],
   "source": [
    "\"\"\"\n",
    "==============\n",
    "Stackplot Demo\n",
    "==============\n",
    "\n",
    "How to create stackplots with Matplotlib.\n",
    "\n",
    "Stackplots are generated by plotting different datasets vertically on\n",
    "top of one another rather than overlapping with one another. Below we\n",
    "show some examples to accomplish this with Matplotlib.\n",
    "\"\"\"\n",
    "import numpy as np\n",
    "import matplotlib.pyplot as plt\n",
    "\n",
    "x = [1, 2, 3, 4, 5]\n",
    "y1 = [1, 1, 2, 3, 5]\n",
    "y2 = [0, 4, 2, 6, 8]\n",
    "y3 = [1, 3, 5, 7, 9]\n",
    "\n",
    "y = np.vstack([y1, y2, y3])\n",
    "\n",
    "labels = [\"Fibonacci \", \"Evens\", \"Odds\"]\n",
    "\n",
    "fig, ax = plt.subplots()\n",
    "ax.stackplot(x, y1, y2, y3, labels=labels)\n",
    "ax.legend(loc=2)\n",
    "plt.show()\n",
    "\n",
    "fig, ax = plt.subplots()\n",
    "ax.stackplot(x, y)\n",
    "plt.show()\n",
    "\n",
    "###############################################################################\n",
    "# Here we show an example of making a streamgraph using stackplot\n",
    "\n",
    "\n",
    "def layers(n, m):\n",
    "    \"\"\"\n",
    "    Return *n* random Gaussian mixtures, each of length *m*.\n",
    "    \"\"\"\n",
    "    def bump(a):\n",
    "        x = 1 / (.1 + np.random.random())\n",
    "        y = 2 * np.random.random() - .5\n",
    "        z = 10 / (.1 + np.random.random())\n",
    "        for i in range(m):\n",
    "            w = (i / float(m) - y) * z\n",
    "            a[i] += x * np.exp(-w * w)\n",
    "    a = np.zeros((m, n))\n",
    "    for i in range(n):\n",
    "        for j in range(5):\n",
    "            bump(a[:, i])\n",
    "    return a\n",
    "\n",
    "\n",
    "d = layers(3, 100)\n",
    "\n",
    "fig, ax = plt.subplots()\n",
    "ax.stackplot(range(100), d.T, baseline='wiggle')\n",
    "plt.show()\n"
   ]
  },
  {
   "cell_type": "code",
   "execution_count": null,
   "metadata": {},
   "outputs": [],
   "source": [
    "'''\n",
    "===============================\n",
    "3D voxel plot of the numpy logo\n",
    "===============================\n",
    "\n",
    "Demonstrates using ``ax.voxels`` with uneven coordinates\n",
    "'''\n",
    "import matplotlib.pyplot as plt\n",
    "import numpy as np\n",
    "from mpl_toolkits.mplot3d import Axes3D\n",
    "\n",
    "\n",
    "def explode(data):\n",
    "    size = np.array(data.shape)*2\n",
    "    data_e = np.zeros(size - 1, dtype=data.dtype)\n",
    "    data_e[::2, ::2, ::2] = data\n",
    "    return data_e\n",
    "\n",
    "# build up the numpy logo\n",
    "n_voxels = np.zeros((4, 3, 4), dtype=bool)\n",
    "n_voxels[0, 0, :] = True\n",
    "n_voxels[-1, 0, :] = True\n",
    "n_voxels[1, 0, 2] = True\n",
    "n_voxels[2, 0, 1] = True\n",
    "facecolors = np.where(n_voxels, '#FFD65DC0', '#7A88CCC0')\n",
    "edgecolors = np.where(n_voxels, '#BFAB6E', '#7D84A6')\n",
    "filled = np.ones(n_voxels.shape)\n",
    "\n",
    "# upscale the above voxel image, leaving gaps\n",
    "filled_2 = explode(filled)\n",
    "fcolors_2 = explode(facecolors)\n",
    "ecolors_2 = explode(edgecolors)\n",
    "\n",
    "# Shrink the gaps\n",
    "x, y, z = np.indices(np.array(filled_2.shape) + 1).astype(float) // 2\n",
    "x[0::2, :, :] += 0.05\n",
    "y[:, 0::2, :] += 0.05\n",
    "z[:, :, 0::2] += 0.05\n",
    "x[1::2, :, :] += 0.95\n",
    "y[:, 1::2, :] += 0.95\n",
    "z[:, :, 1::2] += 0.95\n",
    "\n",
    "fig = plt.figure()\n",
    "ax = fig.gca(projection='3d')\n",
    "ax.voxels(x, y, z, filled_2, facecolors=fcolors_2, edgecolors=ecolors_2)\n",
    "\n",
    "plt.show()\n"
   ]
  },
  {
   "cell_type": "code",
   "execution_count": null,
   "metadata": {},
   "outputs": [],
   "source": [
    "'''\n",
    "=======================================================\n",
    "3D voxel / volumetric plot with cylindrical coordinates\n",
    "=======================================================\n",
    "\n",
    "Demonstrates using the ``x, y, z`` arguments of ``ax.voxels``.\n",
    "'''\n",
    "\n",
    "import matplotlib.pyplot as plt\n",
    "import matplotlib.colors\n",
    "import numpy as np\n",
    "from mpl_toolkits.mplot3d import Axes3D\n",
    "\n",
    "\n",
    "def midpoints(x):\n",
    "    sl = ()\n",
    "    for i in range(x.ndim):\n",
    "        x = (x[sl + np.index_exp[:-1]] + x[sl + np.index_exp[1:]]) / 2.0\n",
    "        sl += np.index_exp[:]\n",
    "    return x\n",
    "\n",
    "# prepare some coordinates, and attach rgb values to each\n",
    "r, theta, z = np.mgrid[0:1:11j, 0:np.pi*2:25j, -0.5:0.5:11j]\n",
    "x = r*np.cos(theta)\n",
    "y = r*np.sin(theta)\n",
    "\n",
    "rc, thetac, zc = midpoints(r), midpoints(theta), midpoints(z)\n",
    "\n",
    "# define a wobbly torus about [0.7, *, 0]\n",
    "sphere = (rc - 0.7)**2 + (zc + 0.2*np.cos(thetac*2))**2 < 0.2**2\n",
    "\n",
    "# combine the color components\n",
    "hsv = np.zeros(sphere.shape + (3,))\n",
    "hsv[..., 0] = thetac / (np.pi*2)\n",
    "hsv[..., 1] = rc\n",
    "hsv[..., 2] = zc + 0.5\n",
    "colors = matplotlib.colors.hsv_to_rgb(hsv)\n",
    "\n",
    "# and plot everything\n",
    "fig = plt.figure()\n",
    "ax = fig.gca(projection='3d')\n",
    "ax.voxels(x, y, z, sphere,\n",
    "          facecolors=colors,\n",
    "          edgecolors=np.clip(2*colors - 0.5, 0, 1),  # brighter\n",
    "          linewidth=0.5)\n",
    "\n",
    "plt.show()\n"
   ]
  },
  {
   "cell_type": "code",
   "execution_count": null,
   "metadata": {},
   "outputs": [],
   "source": [
    "\"\"\"\n",
    "=======================\n",
    "Plot 2D data on 3D plot\n",
    "=======================\n",
    "\n",
    "Demonstrates using ax.plot's zdir keyword to plot 2D data on\n",
    "selective axes of a 3D plot.\n",
    "\"\"\"\n",
    "\n",
    "from mpl_toolkits.mplot3d import Axes3D\n",
    "import numpy as np\n",
    "import matplotlib.pyplot as plt\n",
    "\n",
    "fig = plt.figure()\n",
    "ax = fig.gca(projection='3d')\n",
    "\n",
    "# Plot a sin curve using the x and y axes.\n",
    "x = np.linspace(0, 1, 100)\n",
    "y = np.sin(x * 2 * np.pi) / 2 + 0.5\n",
    "ax.plot(x, y, zs=0, zdir='z', label='curve in (x,y)')\n",
    "\n",
    "# Plot scatterplot data (20 2D points per colour) on the x and z axes.\n",
    "colors = ('r', 'g', 'b', 'k')\n",
    "\n",
    "# Fixing random state for reproducibility\n",
    "np.random.seed(19680801)\n",
    "\n",
    "x = np.random.sample(20 * len(colors))\n",
    "y = np.random.sample(20 * len(colors))\n",
    "c_list = []\n",
    "for c in colors:\n",
    "    c_list.extend([c] * 20)\n",
    "# By using zdir='y', the y value of these points is fixed to the zs value 0\n",
    "# and the (x,y) points are plotted on the x and z axes.\n",
    "ax.scatter(x, y, zs=0, zdir='y', c=c_list, label='points in (x,z)')\n",
    "\n",
    "# Make legend, set axes limits and labels\n",
    "ax.legend()\n",
    "ax.set_xlim(0, 1)\n",
    "ax.set_ylim(0, 1)\n",
    "ax.set_zlim(0, 1)\n",
    "ax.set_xlabel('X')\n",
    "ax.set_ylabel('Y')\n",
    "ax.set_zlabel('Z')\n",
    "\n",
    "# Customize the view angle so it's easier to see that the scatter points lie\n",
    "# on the plane y=0\n",
    "ax.view_init(elev=20., azim=-35)\n",
    "\n",
    "plt.show()\n"
   ]
  },
  {
   "cell_type": "code",
   "execution_count": null,
   "metadata": {},
   "outputs": [],
   "source": [
    "\"\"\"\n",
    "======================================\n",
    "Radar chart (aka spider or star chart)\n",
    "======================================\n",
    "\n",
    "This example creates a radar chart, also known as a spider or star chart [1]_.\n",
    "\n",
    "Although this example allows a frame of either 'circle' or 'polygon', polygon\n",
    "frames don't have proper gridlines (the lines are circles instead of polygons).\n",
    "It's possible to get a polygon grid by setting GRIDLINE_INTERPOLATION_STEPS in\n",
    "matplotlib.axis to the desired number of vertices, but the orientation of the\n",
    "polygon is not aligned with the radial axes.\n",
    "\n",
    ".. [1] http://en.wikipedia.org/wiki/Radar_chart\n",
    "\"\"\"\n",
    "import numpy as np\n",
    "\n",
    "import matplotlib.pyplot as plt\n",
    "from matplotlib.path import Path\n",
    "from matplotlib.spines import Spine\n",
    "from matplotlib.projections.polar import PolarAxes\n",
    "from matplotlib.projections import register_projection\n",
    "\n",
    "\n",
    "def radar_factory(num_vars, frame='circle'):\n",
    "    \"\"\"Create a radar chart with `num_vars` axes.\n",
    "\n",
    "    This function creates a RadarAxes projection and registers it.\n",
    "\n",
    "    Parameters\n",
    "    ----------\n",
    "    num_vars : int\n",
    "        Number of variables for radar chart.\n",
    "    frame : {'circle' | 'polygon'}\n",
    "        Shape of frame surrounding axes.\n",
    "\n",
    "    \"\"\"\n",
    "    # calculate evenly-spaced axis angles\n",
    "    theta = np.linspace(0, 2*np.pi, num_vars, endpoint=False)\n",
    "\n",
    "    def draw_poly_patch(self):\n",
    "        # rotate theta such that the first axis is at the top\n",
    "        verts = unit_poly_verts(theta + np.pi / 2)\n",
    "        return plt.Polygon(verts, closed=True, edgecolor='k')\n",
    "\n",
    "    def draw_circle_patch(self):\n",
    "        # unit circle centered on (0.5, 0.5)\n",
    "        return plt.Circle((0.5, 0.5), 0.5)\n",
    "\n",
    "    patch_dict = {'polygon': draw_poly_patch, 'circle': draw_circle_patch}\n",
    "    if frame not in patch_dict:\n",
    "        raise ValueError('unknown value for `frame`: %s' % frame)\n",
    "\n",
    "    class RadarAxes(PolarAxes):\n",
    "\n",
    "        name = 'radar'\n",
    "        # use 1 line segment to connect specified points\n",
    "        RESOLUTION = 1\n",
    "        # define draw_frame method\n",
    "        draw_patch = patch_dict[frame]\n",
    "\n",
    "        def __init__(self, *args, **kwargs):\n",
    "            super(RadarAxes, self).__init__(*args, **kwargs)\n",
    "            # rotate plot such that the first axis is at the top\n",
    "            self.set_theta_zero_location('N')\n",
    "\n",
    "        def fill(self, *args, **kwargs):\n",
    "            \"\"\"Override fill so that line is closed by default\"\"\"\n",
    "            closed = kwargs.pop('closed', True)\n",
    "            return super(RadarAxes, self).fill(closed=closed, *args, **kwargs)\n",
    "\n",
    "        def plot(self, *args, **kwargs):\n",
    "            \"\"\"Override plot so that line is closed by default\"\"\"\n",
    "            lines = super(RadarAxes, self).plot(*args, **kwargs)\n",
    "            for line in lines:\n",
    "                self._close_line(line)\n",
    "\n",
    "        def _close_line(self, line):\n",
    "            x, y = line.get_data()\n",
    "            # FIXME: markers at x[0], y[0] get doubled-up\n",
    "            if x[0] != x[-1]:\n",
    "                x = np.concatenate((x, [x[0]]))\n",
    "                y = np.concatenate((y, [y[0]]))\n",
    "                line.set_data(x, y)\n",
    "\n",
    "        def set_varlabels(self, labels):\n",
    "            self.set_thetagrids(np.degrees(theta), labels)\n",
    "\n",
    "        def _gen_axes_patch(self):\n",
    "            return self.draw_patch()\n",
    "\n",
    "        def _gen_axes_spines(self):\n",
    "            if frame == 'circle':\n",
    "                return PolarAxes._gen_axes_spines(self)\n",
    "            # The following is a hack to get the spines (i.e. the axes frame)\n",
    "            # to draw correctly for a polygon frame.\n",
    "\n",
    "            # spine_type must be 'left', 'right', 'top', 'bottom', or `circle`.\n",
    "            spine_type = 'circle'\n",
    "            verts = unit_poly_verts(theta + np.pi / 2)\n",
    "            # close off polygon by repeating first vertex\n",
    "            verts.append(verts[0])\n",
    "            path = Path(verts)\n",
    "\n",
    "            spine = Spine(self, spine_type, path)\n",
    "            spine.set_transform(self.transAxes)\n",
    "            return {'polar': spine}\n",
    "\n",
    "    register_projection(RadarAxes)\n",
    "    return theta\n",
    "\n",
    "\n",
    "def unit_poly_verts(theta):\n",
    "    \"\"\"Return vertices of polygon for subplot axes.\n",
    "\n",
    "    This polygon is circumscribed by a unit circle centered at (0.5, 0.5)\n",
    "    \"\"\"\n",
    "    x0, y0, r = [0.5] * 3\n",
    "    verts = [(r*np.cos(t) + x0, r*np.sin(t) + y0) for t in theta]\n",
    "    return verts\n",
    "\n",
    "\n",
    "def example_data():\n",
    "    # The following data is from the Denver Aerosol Sources and Health study.\n",
    "    # See  doi:10.1016/j.atmosenv.2008.12.017\n",
    "    #\n",
    "    # The data are pollution source profile estimates for five modeled\n",
    "    # pollution sources (e.g., cars, wood-burning, etc) that emit 7-9 chemical\n",
    "    # species. The radar charts are experimented with here to see if we can\n",
    "    # nicely visualize how the modeled source profiles change across four\n",
    "    # scenarios:\n",
    "    #  1) No gas-phase species present, just seven particulate counts on\n",
    "    #     Sulfate\n",
    "    #     Nitrate\n",
    "    #     Elemental Carbon (EC)\n",
    "    #     Organic Carbon fraction 1 (OC)\n",
    "    #     Organic Carbon fraction 2 (OC2)\n",
    "    #     Organic Carbon fraction 3 (OC3)\n",
    "    #     Pyrolized Organic Carbon (OP)\n",
    "    #  2)Inclusion of gas-phase specie carbon monoxide (CO)\n",
    "    #  3)Inclusion of gas-phase specie ozone (O3).\n",
    "    #  4)Inclusion of both gas-phase species is present...\n",
    "    data = [\n",
    "        ['Sulfate', 'Nitrate', 'EC', 'OC1', 'OC2', 'OC3', 'OP', 'CO', 'O3'],\n",
    "        ('Basecase', [\n",
    "            [0.88, 0.01, 0.03, 0.03, 0.00, 0.06, 0.01, 0.00, 0.00],\n",
    "            [0.07, 0.95, 0.04, 0.05, 0.00, 0.02, 0.01, 0.00, 0.00],\n",
    "            [0.01, 0.02, 0.85, 0.19, 0.05, 0.10, 0.00, 0.00, 0.00],\n",
    "            [0.02, 0.01, 0.07, 0.01, 0.21, 0.12, 0.98, 0.00, 0.00],\n",
    "            [0.01, 0.01, 0.02, 0.71, 0.74, 0.70, 0.00, 0.00, 0.00]]),\n",
    "        ('With CO', [\n",
    "            [0.88, 0.02, 0.02, 0.02, 0.00, 0.05, 0.00, 0.05, 0.00],\n",
    "            [0.08, 0.94, 0.04, 0.02, 0.00, 0.01, 0.12, 0.04, 0.00],\n",
    "            [0.01, 0.01, 0.79, 0.10, 0.00, 0.05, 0.00, 0.31, 0.00],\n",
    "            [0.00, 0.02, 0.03, 0.38, 0.31, 0.31, 0.00, 0.59, 0.00],\n",
    "            [0.02, 0.02, 0.11, 0.47, 0.69, 0.58, 0.88, 0.00, 0.00]]),\n",
    "        ('With O3', [\n",
    "            [0.89, 0.01, 0.07, 0.00, 0.00, 0.05, 0.00, 0.00, 0.03],\n",
    "            [0.07, 0.95, 0.05, 0.04, 0.00, 0.02, 0.12, 0.00, 0.00],\n",
    "            [0.01, 0.02, 0.86, 0.27, 0.16, 0.19, 0.00, 0.00, 0.00],\n",
    "            [0.01, 0.03, 0.00, 0.32, 0.29, 0.27, 0.00, 0.00, 0.95],\n",
    "            [0.02, 0.00, 0.03, 0.37, 0.56, 0.47, 0.87, 0.00, 0.00]]),\n",
    "        ('CO & O3', [\n",
    "            [0.87, 0.01, 0.08, 0.00, 0.00, 0.04, 0.00, 0.00, 0.01],\n",
    "            [0.09, 0.95, 0.02, 0.03, 0.00, 0.01, 0.13, 0.06, 0.00],\n",
    "            [0.01, 0.02, 0.71, 0.24, 0.13, 0.16, 0.00, 0.50, 0.00],\n",
    "            [0.01, 0.03, 0.00, 0.28, 0.24, 0.23, 0.00, 0.44, 0.88],\n",
    "            [0.02, 0.00, 0.18, 0.45, 0.64, 0.55, 0.86, 0.00, 0.16]])\n",
    "    ]\n",
    "    return data\n",
    "\n",
    "\n",
    "if __name__ == '__main__':\n",
    "    N = 9\n",
    "    theta = radar_factory(N, frame='polygon')\n",
    "\n",
    "    data = example_data()\n",
    "    spoke_labels = data.pop(0)\n",
    "\n",
    "    fig, axes = plt.subplots(figsize=(9, 9), nrows=2, ncols=2,\n",
    "                             subplot_kw=dict(projection='radar'))\n",
    "    fig.subplots_adjust(wspace=0.25, hspace=0.20, top=0.85, bottom=0.05)\n",
    "\n",
    "    colors = ['b', 'r', 'g', 'm', 'y']\n",
    "    # Plot the four cases from the example data on separate axes\n",
    "    for ax, (title, case_data) in zip(axes.flatten(), data):\n",
    "        ax.set_rgrids([0.2, 0.4, 0.6, 0.8])\n",
    "        ax.set_title(title, weight='bold', size='medium', position=(0.5, 1.1),\n",
    "                     horizontalalignment='center', verticalalignment='center')\n",
    "        for d, color in zip(case_data, colors):\n",
    "            ax.plot(theta, d, color=color)\n",
    "            ax.fill(theta, d, facecolor=color, alpha=0.25)\n",
    "        ax.set_varlabels(spoke_labels)\n",
    "\n",
    "    # add legend relative to top-left plot\n",
    "    ax = axes[0, 0]\n",
    "    labels = ('Factor 1', 'Factor 2', 'Factor 3', 'Factor 4', 'Factor 5')\n",
    "    legend = ax.legend(labels, loc=(0.9, .95),\n",
    "                       labelspacing=0.1, fontsize='small')\n",
    "\n",
    "    fig.text(0.5, 0.965, '5-Factor Solution Profiles Across Four Scenarios',\n",
    "             horizontalalignment='center', color='black', weight='bold',\n",
    "             size='large')\n",
    "\n",
    "    plt.show()\n"
   ]
  },
  {
   "cell_type": "code",
   "execution_count": null,
   "metadata": {},
   "outputs": [],
   "source": [
    "\"\"\"\n",
    "========================\n",
    "Visualizing named colors\n",
    "========================\n",
    "\n",
    "Simple plot example with the named colors and its visual representation.\n",
    "\"\"\"\n",
    "from __future__ import division\n",
    "\n",
    "import matplotlib.pyplot as plt\n",
    "from matplotlib import colors as mcolors\n",
    "\n",
    "\n",
    "colors = dict(mcolors.BASE_COLORS, **mcolors.CSS4_COLORS)\n",
    "\n",
    "# Sort colors by hue, saturation, value and name.\n",
    "by_hsv = sorted((tuple(mcolors.rgb_to_hsv(mcolors.to_rgba(color)[:3])), name)\n",
    "                for name, color in colors.items())\n",
    "sorted_names = [name for hsv, name in by_hsv]\n",
    "\n",
    "n = len(sorted_names)\n",
    "ncols = 4\n",
    "nrows = n // ncols + 1\n",
    "\n",
    "fig, ax = plt.subplots(figsize=(8, 5))\n",
    "\n",
    "# Get height and width\n",
    "X, Y = fig.get_dpi() * fig.get_size_inches()\n",
    "h = Y / (nrows + 1)\n",
    "w = X / ncols\n",
    "\n",
    "for i, name in enumerate(sorted_names):\n",
    "    col = i % ncols\n",
    "    row = i // ncols\n",
    "    y = Y - (row * h) - h\n",
    "\n",
    "    xi_line = w * (col + 0.05)\n",
    "    xf_line = w * (col + 0.25)\n",
    "    xi_text = w * (col + 0.3)\n",
    "\n",
    "    ax.text(xi_text, y, name, fontsize=(h * 0.8),\n",
    "            horizontalalignment='left',\n",
    "            verticalalignment='center')\n",
    "\n",
    "    ax.hlines(y + h * 0.1, xi_line, xf_line,\n",
    "              color=colors[name], linewidth=(h * 0.6))\n",
    "\n",
    "ax.set_xlim(0, X)\n",
    "ax.set_ylim(0, Y)\n",
    "ax.set_axis_off()\n",
    "\n",
    "fig.subplots_adjust(left=0, right=1,\n",
    "                    top=1, bottom=0,\n",
    "                    hspace=0, wspace=0)\n",
    "plt.show()\n"
   ]
  },
  {
   "cell_type": "code",
   "execution_count": null,
   "metadata": {},
   "outputs": [],
   "source": [
    "\"\"\"\n",
    "===================================\n",
    "Shaded & power normalized rendering\n",
    "===================================\n",
    "\n",
    "The Mandelbrot set rendering can be improved by using a normalized recount\n",
    "associated with a power normalized colormap (gamma=0.3). Rendering can be\n",
    "further enhanced thanks to shading.\n",
    "\n",
    "The `maxiter` gives the precision of the computation. `maxiter=200` should\n",
    "take a few seconds on most modern laptops.\n",
    "\"\"\"\n",
    "import numpy as np\n",
    "\n",
    "\n",
    "def mandelbrot_set(xmin, xmax, ymin, ymax, xn, yn, maxiter, horizon=2.0):\n",
    "    X = np.linspace(xmin, xmax, xn).astype(np.float32)\n",
    "    Y = np.linspace(ymin, ymax, yn).astype(np.float32)\n",
    "    C = X + Y[:, None] * 1j\n",
    "    N = np.zeros_like(C, dtype=int)\n",
    "    Z = np.zeros_like(C)\n",
    "    for n in range(maxiter):\n",
    "        I = np.less(abs(Z), horizon)\n",
    "        N[I] = n\n",
    "        Z[I] = Z[I]**2 + C[I]\n",
    "    N[N == maxiter-1] = 0\n",
    "    return Z, N\n",
    "\n",
    "\n",
    "if __name__ == '__main__':\n",
    "    import time\n",
    "    import matplotlib\n",
    "    from matplotlib import colors\n",
    "    import matplotlib.pyplot as plt\n",
    "\n",
    "    xmin, xmax, xn = -2.25, +0.75, 3000/2\n",
    "    ymin, ymax, yn = -1.25, +1.25, 2500/2\n",
    "    maxiter = 200\n",
    "    horizon = 2.0 ** 40\n",
    "    log_horizon = np.log(np.log(horizon))/np.log(2)\n",
    "    Z, N = mandelbrot_set(xmin, xmax, ymin, ymax, xn, yn, maxiter, horizon)\n",
    "\n",
    "    # Normalized recount as explained in:\n",
    "    # https://linas.org/art-gallery/escape/smooth.html\n",
    "    # https://www.ibm.com/developerworks/community/blogs/jfp/entry/My_Christmas_Gift\n",
    "\n",
    "    # This line will generate warnings for null values but it is faster to\n",
    "    # process them afterwards using the nan_to_num\n",
    "    with np.errstate(invalid='ignore'):\n",
    "        M = np.nan_to_num(N + 1 -\n",
    "                          np.log(np.log(abs(Z)))/np.log(2) +\n",
    "                          log_horizon)\n",
    "\n",
    "    dpi = 72\n",
    "    width = 10\n",
    "    height = 10*yn/xn\n",
    "    fig = plt.figure(figsize=(width, height), dpi=dpi)\n",
    "    ax = fig.add_axes([0.0, 0.0, 1.0, 1.0], frameon=False, aspect=1)\n",
    "\n",
    "    # Shaded rendering\n",
    "    light = colors.LightSource(azdeg=315, altdeg=10)\n",
    "    M = light.shade(M, cmap=plt.cm.hot, vert_exag=1.5,\n",
    "                    norm=colors.PowerNorm(0.3), blend_mode='hsv')\n",
    "    plt.imshow(M, extent=[xmin, xmax, ymin, ymax], interpolation=\"bicubic\")\n",
    "    ax.set_xticks([])\n",
    "    ax.set_yticks([])\n",
    "\n",
    "    # Some advertisement for matplotlib\n",
    "    year = time.strftime(\"%Y\")\n",
    "    major, minor, micro = matplotlib.__version__.split('.', 2)\n",
    "    text = (\"The Mandelbrot fractal set\\n\"\n",
    "            \"Rendered with matplotlib %s.%s, %s - http://matplotlib.org\"\n",
    "            % (major, minor, year))\n",
    "    ax.text(xmin+.025, ymin+.025, text, color=\"white\", fontsize=12, alpha=0.5)\n",
    "\n",
    "    plt.show()\n"
   ]
  },
  {
   "cell_type": "code",
   "execution_count": null,
   "metadata": {},
   "outputs": [],
   "source": [
    "\"\"\"\n",
    "===========\n",
    "Fill Spiral\n",
    "===========\n",
    "\n",
    "\"\"\"\n",
    "import matplotlib.pyplot as plt\n",
    "import numpy as np\n",
    "\n",
    "theta = np.arange(0, 8*np.pi, 0.1)\n",
    "a = 1\n",
    "b = .2\n",
    "\n",
    "for dt in np.arange(0, 2*np.pi, np.pi/2.0):\n",
    "\n",
    "    x = a*np.cos(theta + dt)*np.exp(b*theta)\n",
    "    y = a*np.sin(theta + dt)*np.exp(b*theta)\n",
    "\n",
    "    dt = dt + np.pi/4.0\n",
    "\n",
    "    x2 = a*np.cos(theta + dt)*np.exp(b*theta)\n",
    "    y2 = a*np.sin(theta + dt)*np.exp(b*theta)\n",
    "\n",
    "    xf = np.concatenate((x, x2[::-1]))\n",
    "    yf = np.concatenate((y, y2[::-1]))\n",
    "\n",
    "    p1 = plt.fill(xf, yf)\n",
    "\n",
    "plt.show()\n"
   ]
  },
  {
   "cell_type": "markdown",
   "metadata": {},
   "source": [
    "## 2.5 应用题专题"
   ]
  },
  {
   "cell_type": "markdown",
   "metadata": {},
   "source": [
    "### 2.5.1行程问题"
   ]
  },
  {
   "cell_type": "code",
   "execution_count": null,
   "metadata": {},
   "outputs": [],
   "source": [
    "import turtle\n",
    "t1 = turtle.Pen()\n",
    "t2 = turtle.Pen()\n",
    "turtle.bgcolor(\"black\")\n",
    "t1.pencolor(\"red\")\n",
    "t1.goto(0,-10)\n",
    "t2.pencolor(\"yellow\")\n",
    "t2.hideturtle() \n",
    "t2.penup()\n",
    "t2.goto(-70,-20)\n",
    "t2.pendown()\n",
    "t2.speed(1)\n",
    "t2.speed(1)\n",
    "t2.showturtle() \n",
    "for x in range(70):\n",
    "    t1.forward(2)\n",
    "    t2.forward(3)\n",
    "print(\"欢迎来到源码世界！\")\n"
   ]
  },
  {
   "cell_type": "markdown",
   "metadata": {},
   "source": [
    "### 2.5.2工程问题"
   ]
  },
  {
   "cell_type": "markdown",
   "metadata": {},
   "source": [
    "### 2.5.3 百分比问题"
   ]
  },
  {
   "cell_type": "markdown",
   "metadata": {},
   "source": [
    "### 2.5.4 鸡兔同笼问题"
   ]
  },
  {
   "cell_type": "markdown",
   "metadata": {},
   "source": [
    "### 2.5.5商业问题"
   ]
  },
  {
   "cell_type": "markdown",
   "metadata": {
    "collapsed": true
   },
   "source": [
    "## 2.6 Spider project 1----collecting pictures"
   ]
  },
  {
   "cell_type": "code",
   "execution_count": null,
   "metadata": {
    "collapsed": true
   },
   "outputs": [],
   "source": [
    "# 爬虫\n",
    "# 爬虫，编程语言写出的一段代码，\n",
    "# 做什么：下载浏览器上的图片，文本等信息，模拟浏览器的操作，\n",
    "# 今天用到的库requests\n",
    "import requests\n",
    "import re\n",
    "\n",
    "# 下载这个网址ctrl+/注释多行\n",
    "# response1 = requests.get(\"http://www.jueshitangmen.info/tian-meng-bing-can-36.html\")\n",
    "# print(response1.text)\n",
    "# response1.encoding = \"utf-8\"\n",
    "# with open(\"3.txt\", \"w\",encoding=\"utf-8\") as f:\n",
    "#     f.write(response1.text)\n",
    "# # 下图片\n",
    "# url = \"http://www.xiaohuar.com/d/file/2b903e6d59bd1435a0b9ddfb5b4bd9c5.jpg\"\n",
    "# src=\"http://www.xiaohuar.com/d/file/2ce538e9658af40bc034f5dfaf57826a.jpg\"\n",
    "# 二进制的\n",
    "# response = requests.get(url)\n",
    "# # print(response.content)\n",
    "# with open(\"girl.jpg\", \"wb\") as f:  # w是wrtie.b是二进制\n",
    "# #     f.write(response.content)\n",
    "for j in range(1, 2):\n",
    "    first_url = \"http://www.xiaohuar.com/list-1-\" + str(j) + \".html\"\n",
    "    response = requests.get(first_url)\n",
    "    response.encoding = \"gbk\"\n",
    "    html = response.text\n",
    "    print(html)\n",
    "    # # 返回图片地址的列表\n",
    "    # /d/file/20170520/dd21a21751e24a8f161792b66011688c.jpg\n",
    "    # /d/file/20170516/6e295fe48c33245be858c40d37fb5ee6.jpg\n",
    "    img_urls = re.findall(r'src=\"(/d/file/\\d+/\\w+\\.jpg)\"', html)\n",
    "    # print(img_urls)\n",
    "    # 把字符串拼接起来for j in range(1, 2):\n",
    "    first_url = \"http://www.xiaohuar.com/list-1-\" + str(j) + \".html\"\n",
    "    response = requests.get(first_url)\n",
    "    response.encoding = \"gbk\"\n",
    "    html = response.text\n",
    "    print(html)\n",
    "    # # 返回图片地址的列表\n",
    "    # /d/file/20170520/dd21a21751e24a8f161792b66011688c.jpg\n",
    "    # /d/file/20170516/6e295fe48c33245be858c40d37fb5ee6.jpg\n",
    "    img_urls = re.findall(r'src=\"(/d/file/\\d+/\\w+\\.jpg)\"', html)\n",
    "    # print(img_urls)\n",
    "    # 把字符串拼接起来\n",
    "    for i in range(len(img_urls)):\n",
    "        img_urls[i] = \"http://www.xiaohuar.com\" + img_urls[i]\n",
    "    print(img_urls)\n",
    "    for img_url in img_urls:\n",
    "        img_name = str(j) + '----' + img_url.split('/')[-1]\n",
    "        img_data = requests.get(img_url).content\n",
    "        with open(img_name, \"wb\") as f:\n",
    "            f.write(img_data)\n",
    "\n",
    "    for i in range(len(img_urls)):\n",
    "        img_urls[i] = \"http://www.xiaohuar.com\" + img_urls[i]\n",
    "    print(img_urls)\n",
    "    for img_url in img_urls:\n",
    "        img_name = str(j) + '----' + img_url.split('/')[-1]\n",
    "        img_data = requests.get(img_url).content\n",
    "        with open(img_name, \"wb\") as f:\n",
    "            f.write(img_data)\n"
   ]
  },
  {
   "cell_type": "code",
   "execution_count": null,
   "metadata": {},
   "outputs": [],
   "source": [
    "## 2.7 乘法口诀表\n",
    "\n",
    "# -*- coding: UTF-8 -*-\n",
    " \n",
    "# Filename : test.py\n",
    "# author by : www.runoob.com\n",
    " \n",
    "# 九九乘法表\n",
    "for i in range(1, 10):\n",
    "        for j in range(1, i+1):\n",
    "            print('{}x{}={}\\t'.format(i, j, i*j), end='')\n",
    "        print()"
   ]
  },
  {
   "cell_type": "markdown",
   "metadata": {
    "collapsed": true
   },
   "source": [
    "## 2.8 阶乘与求和"
   ]
  },
  {
   "cell_type": "markdown",
   "metadata": {},
   "source": [
    "问题描述问题描述:\n"
   ]
  },
  {
   "cell_type": "markdown",
   "metadata": {
    "collapsed": true
   },
   "source": [
    "相关数学概念:\n"
   ]
  },
  {
   "cell_type": "markdown",
   "metadata": {
    "collapsed": true
   },
   "source": [
    "相关Python概念:\n"
   ]
  },
  {
   "cell_type": "markdown",
   "metadata": {},
   "source": [
    "参考代码："
   ]
  },
  {
   "cell_type": "code",
   "execution_count": null,
   "metadata": {
    "collapsed": true
   },
   "outputs": [],
   "source": [
    "#!/usr/bin/python3\n",
    " \n",
    "# 通过用户输入数字计算阶乘\n",
    " \n",
    "# 获取用户输入的数字\n",
    "num = int(input(\"请输入一个数字: \"))\n",
    "factorial = 1\n",
    " \n",
    "# 查看数字是负数，0 或 正数\n",
    "if num < 0:\n",
    "   print(\"抱歉，负数没有阶乘\")\n",
    "elif num == 0:\n",
    "   print(\"0 的阶乘为 1\")\n",
    "else:\n",
    "   for i in range(1,num + 1):\n",
    "       factorial = factorial*i\n",
    "   print(\"%d 的阶乘为 %d\" %(num,factorial))\n",
    "\n",
    "\n",
    "\n"
   ]
  },
  {
   "cell_type": "code",
   "execution_count": null,
   "metadata": {},
   "outputs": [],
   "source": [
    "#!/usr/bin/python\n",
    "# -*- coding: UTF-8 -*-\n",
    "\n",
    "tmp = 0\n",
    "for i in range(1,1091):\n",
    "    tmp += i\n",
    "print ('The sum is %d' % tmp)\n"
   ]
  },
  {
   "cell_type": "markdown",
   "metadata": {
    "collapsed": true
   },
   "source": [
    "## 2.9 猜数字游戏"
   ]
  },
  {
   "cell_type": "markdown",
   "metadata": {},
   "source": [
    "问题描述问题描述:\n"
   ]
  },
  {
   "cell_type": "markdown",
   "metadata": {
    "collapsed": true
   },
   "source": [
    "相关数学概念:\n"
   ]
  },
  {
   "cell_type": "markdown",
   "metadata": {
    "collapsed": true
   },
   "source": [
    "相关Python概念:\n"
   ]
  },
  {
   "cell_type": "markdown",
   "metadata": {},
   "source": [
    "参考代码："
   ]
  },
  {
   "cell_type": "code",
   "execution_count": null,
   "metadata": {
    "collapsed": true
   },
   "outputs": [],
   "source": [
    "#!/usr/local/bin/python3\n",
    "\n",
    "import random\n",
    "\n",
    "bot=int(input('Set range bottom\\n'))\n",
    "top=int(input('Set range top\\n'))\n",
    "rand=random.randint(bot,top)\n",
    "print ('Random number in ['+str(bot)+','+str(top)+'] generated!')\n",
    "num=int(input('###Guess the number###\\n'))\n",
    "cnt=1\n",
    "while (num!=rand):\n",
    "\tif (num<rand):\n",
    "\t\tprint('*_* Lower than the answer')\n",
    "\telse:\n",
    "\t\tprint('T_T Higher than the answer')\n",
    "\tnum=int(input('###Guess the number###\\n'))\n",
    "\tcnt=cnt+1\n",
    "print('^_^ You get the answer with [%d] times'%cnt)"
   ]
  },
  {
   "cell_type": "code",
   "execution_count": null,
   "metadata": {},
   "outputs": [],
   "source": [
    "## 2.10排列\n",
    "\n",
    "#!usr/bin/env python 2.7\n",
    "# -*- coding: utf-8 -*-\n",
    "\n",
    "\"\"\"\n",
    "题目：有1、2、3、4个数字，能组成多少个互不相同且无重复数字的三位数？都是多少？\n",
    "程序分析：可填在百位、十位、个位的数字都是1、2、3、4。组成所有的排列后再去 掉不满足条件的排列。\n",
    "程序源代码：\n",
    "\"\"\"\n",
    "\n",
    "for bai in range(1,5):#python都是左开右闭，所以是（1,5）\n",
    "    for shi in range(1,5):\n",
    "    \tfor ge in range(1,5):\n",
    "    \t\tif (bai != shi) and (shi != ge) and (bai != ge):\n",
    "    \t\t\tprint bai,shi,ge"
   ]
  },
  {
   "cell_type": "markdown",
   "metadata": {},
   "source": [
    "## 2.11 斐波那契数列"
   ]
  },
  {
   "cell_type": "markdown",
   "metadata": {},
   "source": [
    "问题描述问题描述:\n"
   ]
  },
  {
   "cell_type": "markdown",
   "metadata": {
    "collapsed": true
   },
   "source": [
    "相关数学概念:\n"
   ]
  },
  {
   "cell_type": "markdown",
   "metadata": {
    "collapsed": true
   },
   "source": [
    "相关Python概念:\n"
   ]
  },
  {
   "cell_type": "markdown",
   "metadata": {},
   "source": [
    "参考代码："
   ]
  },
  {
   "cell_type": "code",
   "execution_count": null,
   "metadata": {
    "scrolled": true
   },
   "outputs": [],
   "source": [
    "i, j = 0, 1\n",
    "while i < 1000:\n",
    "    print (i),\n",
    "    i, j = j, i+j"
   ]
  },
  {
   "cell_type": "code",
   "execution_count": null,
   "metadata": {},
   "outputs": [],
   "source": [
    "#!/usr/bin/python\n",
    "# -*- coding: UTF-8 -*-\n",
    "\n",
    "import math\n",
    "class PTS:\n",
    "    def __init__(self):\n",
    "        self.x = 0\n",
    "        self.y = 0\n",
    "points = []\n",
    "\n",
    "def LineToDemo():\n",
    "    from Tkinter import *\n",
    "    screenx = 400\n",
    "    screeny = 400\n",
    "    canvas = Canvas(width = screenx,height = screeny,bg = 'white')\n",
    "\n",
    "    AspectRatio = 0.85\n",
    "    MAXPTS = 15\n",
    "    h = screeny\n",
    "    w = screenx\n",
    "    xcenter = w / 2\n",
    "    ycenter = h / 2\n",
    "    radius = (h - 30) / (AspectRatio * 2) - 20\n",
    "    step = 360 / MAXPTS\n",
    "    angle = 0.0\n",
    "    for i in range(MAXPTS):\n",
    "        rads = angle * math.pi / 180.0\n",
    "        p = PTS()\n",
    "        p.x = xcenter + int(math.cos(rads) * radius)\n",
    "        p.y = ycenter - int(math.sin(rads) * radius * AspectRatio)\n",
    "        angle += step\n",
    "        points.append(p)\n",
    "    canvas.create_oval(xcenter - radius,ycenter - radius,\n",
    "                       xcenter + radius,ycenter + radius)\n",
    "    for i in range(MAXPTS):\n",
    "        for j in range(i,MAXPTS):\n",
    "            canvas.create_line(points[i].x,points[i].y,points[j].x,points[j].y)\n",
    "\n",
    "    canvas.pack()\n",
    "    mainloop()\n",
    "if __name__ == '__main__':\n",
    "    LineToDemo()\n"
   ]
  },
  {
   "cell_type": "markdown",
   "metadata": {
    "collapsed": true
   },
   "source": [
    "## 2.12 三阶幻方"
   ]
  },
  {
   "cell_type": "markdown",
   "metadata": {},
   "source": [
    "问题描述问题描述:\n"
   ]
  },
  {
   "cell_type": "markdown",
   "metadata": {
    "collapsed": true
   },
   "source": [
    "相关数学概念:\n"
   ]
  },
  {
   "cell_type": "markdown",
   "metadata": {
    "collapsed": true
   },
   "source": [
    "相关Python概念:\n"
   ]
  },
  {
   "cell_type": "markdown",
   "metadata": {},
   "source": [
    "参考代码："
   ]
  },
  {
   "cell_type": "code",
   "execution_count": null,
   "metadata": {
    "scrolled": true
   },
   "outputs": [],
   "source": [
    "from itertools import permutations\n",
    "x=[1,2,3,4,5,6,7,8,9]\n",
    "list=[]\n",
    "for a in permutations(x,9):\n",
    "    if a[0]+a[1]+a[2]==15 and a[3]+a[4]+a[5]==15:\n",
    "        if a[6]+a[7]+a[8]==15 and a[0]+a[3]+a[6]==15:\n",
    "            if a[1]+a[4]+a[7]==15 and a[2]+a[5]+a[8]==15:\n",
    "                if a[0]+a[4]+a[8]==15 and a[2]+a[4]+a[6]==15:\n",
    "                    print(a[0:3])\n",
    "                    print(a[3:6])\n",
    "                    print(a[6:])\n",
    "                    print()"
   ]
  },
  {
   "cell_type": "code",
   "execution_count": null,
   "metadata": {
    "collapsed": true
   },
   "outputs": [],
   "source": []
  }
 ],
 "metadata": {
  "kernelspec": {
   "display_name": "Python 3",
   "language": "python",
   "name": "python3"
  },
  "language_info": {
   "codemirror_mode": {
    "name": "ipython",
    "version": 3
   },
   "file_extension": ".py",
   "mimetype": "text/x-python",
   "name": "python",
   "nbconvert_exporter": "python",
   "pygments_lexer": "ipython3",
   "version": "3.6.3"
  },
  "toc": {
   "nav_menu": {},
   "number_sections": false,
   "sideBar": true,
   "skip_h1_title": false,
   "toc_cell": true,
   "toc_position": {
    "height": "557px",
    "left": "0px",
    "right": "1064px",
    "top": "108px",
    "width": "302px"
   },
   "toc_section_display": "block",
   "toc_window_display": true
  }
 },
 "nbformat": 4,
 "nbformat_minor": 2
}
